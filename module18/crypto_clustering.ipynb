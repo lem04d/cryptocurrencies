{
  "nbformat": 4,
  "nbformat_minor": 2,
  "metadata": {
    "file_extension": ".py",
    "kernelspec": {
      "name": "python3",
      "display_name": "Python 3.7.10 64-bit ('PythonData': conda)"
    },
    "language_info": {
      "codemirror_mode": {
        "name": "ipython",
        "version": 3
      },
      "file_extension": ".py",
      "mimetype": "text/x-python",
      "name": "python",
      "nbconvert_exporter": "python",
      "pygments_lexer": "ipython3",
      "version": "3.7.10"
    },
    "latex_envs": {
      "LaTeX_envs_menu_present": true,
      "autoclose": false,
      "autocomplete": true,
      "bibliofile": "biblio.bib",
      "cite_by": "apalike",
      "current_citInitial": 1,
      "eqLabelWithNumbers": true,
      "eqNumInitial": 1,
      "hotkeys": {
        "equation": "Ctrl-E",
        "itemize": "Ctrl-I"
      },
      "labels_anchors": false,
      "latex_user_defs": false,
      "report_style_numbering": false,
      "user_envs_cfg": false
    },
    "mimetype": "text/x-python",
    "name": "python",
    "npconvert_exporter": "python",
    "pygments_lexer": "ipython3",
    "version": 3,
    "interpreter": {
      "hash": "46218028178d27399edb7e538146cc1e07dcb16cc82198cacda054340c1a0d31"
    },
    "colab": {
      "name": "Copy of crypto_clustering.ipynb",
      "provenance": [],
      "collapsed_sections": []
    }
  },
  "cells": [
    {
      "cell_type": "markdown",
      "source": [
        "# Clustering Crypto"
      ],
      "metadata": {
        "id": "fZfLQPK_jTRW"
      }
    },
    {
      "cell_type": "code",
      "execution_count": 4,
      "source": [
        "# Initial imports\r\n",
        "import pandas as pd\r\n",
        "import hvplot.pandas\r\n",
        "from path import Path\r\n",
        "import plotly.express as px\r\n",
        "from sklearn.preprocessing import StandardScaler, MinMaxScaler\r\n",
        "from sklearn.decomposition import PCA\r\n",
        "from sklearn.cluster import KMeans\r\n"
      ],
      "outputs": [],
      "metadata": {
        "id": "c6k5fAB7jTRc",
        "colab": {
          "base_uri": "https://localhost:8080/",
          "height": 649
        },
        "outputId": "1a270388-d4ea-4746-969c-2f6e2f6352e1"
      }
    },
    {
      "cell_type": "markdown",
      "source": [
        "### Deliverable 1: Preprocessing the Data for PCA"
      ],
      "metadata": {
        "id": "-tuUq6E8jTRg"
      }
    },
    {
      "cell_type": "code",
      "execution_count": 5,
      "source": [
        "# Load the crypto_data.csv dataset.\r\n",
        "file_path='crypto_data.csv'\r\n",
        "crypto_df=pd.read_csv(file_path, index_col=0)\r\n",
        "crypto_df.head(10)"
      ],
      "outputs": [
        {
          "output_type": "execute_result",
          "data": {
            "text/plain": [
              "       CoinName Algorithm  IsTrading ProofType  TotalCoinsMined  \\\n",
              "42      42 Coin    Scrypt       True   PoW/PoS     4.199995e+01   \n",
              "365     365Coin       X11       True   PoW/PoS              NaN   \n",
              "404     404Coin    Scrypt       True   PoW/PoS     1.055185e+09   \n",
              "611   SixEleven   SHA-256       True       PoW              NaN   \n",
              "808         808   SHA-256       True   PoW/PoS     0.000000e+00   \n",
              "1337  EliteCoin       X13       True   PoW/PoS     2.927942e+10   \n",
              "2015  2015 coin       X11       True   PoW/PoS              NaN   \n",
              "BTC     Bitcoin   SHA-256       True       PoW     1.792718e+07   \n",
              "ETH    Ethereum    Ethash       True       PoW     1.076842e+08   \n",
              "LTC    Litecoin    Scrypt       True       PoW     6.303924e+07   \n",
              "\n",
              "     TotalCoinSupply  \n",
              "42                42  \n",
              "365       2300000000  \n",
              "404        532000000  \n",
              "611           611000  \n",
              "808                0  \n",
              "1337    314159265359  \n",
              "2015               0  \n",
              "BTC         21000000  \n",
              "ETH                0  \n",
              "LTC         84000000  "
            ],
            "text/html": [
              "<div>\n",
              "<style scoped>\n",
              "    .dataframe tbody tr th:only-of-type {\n",
              "        vertical-align: middle;\n",
              "    }\n",
              "\n",
              "    .dataframe tbody tr th {\n",
              "        vertical-align: top;\n",
              "    }\n",
              "\n",
              "    .dataframe thead th {\n",
              "        text-align: right;\n",
              "    }\n",
              "</style>\n",
              "<table border=\"1\" class=\"dataframe\">\n",
              "  <thead>\n",
              "    <tr style=\"text-align: right;\">\n",
              "      <th></th>\n",
              "      <th>CoinName</th>\n",
              "      <th>Algorithm</th>\n",
              "      <th>IsTrading</th>\n",
              "      <th>ProofType</th>\n",
              "      <th>TotalCoinsMined</th>\n",
              "      <th>TotalCoinSupply</th>\n",
              "    </tr>\n",
              "  </thead>\n",
              "  <tbody>\n",
              "    <tr>\n",
              "      <th>42</th>\n",
              "      <td>42 Coin</td>\n",
              "      <td>Scrypt</td>\n",
              "      <td>True</td>\n",
              "      <td>PoW/PoS</td>\n",
              "      <td>4.199995e+01</td>\n",
              "      <td>42</td>\n",
              "    </tr>\n",
              "    <tr>\n",
              "      <th>365</th>\n",
              "      <td>365Coin</td>\n",
              "      <td>X11</td>\n",
              "      <td>True</td>\n",
              "      <td>PoW/PoS</td>\n",
              "      <td>NaN</td>\n",
              "      <td>2300000000</td>\n",
              "    </tr>\n",
              "    <tr>\n",
              "      <th>404</th>\n",
              "      <td>404Coin</td>\n",
              "      <td>Scrypt</td>\n",
              "      <td>True</td>\n",
              "      <td>PoW/PoS</td>\n",
              "      <td>1.055185e+09</td>\n",
              "      <td>532000000</td>\n",
              "    </tr>\n",
              "    <tr>\n",
              "      <th>611</th>\n",
              "      <td>SixEleven</td>\n",
              "      <td>SHA-256</td>\n",
              "      <td>True</td>\n",
              "      <td>PoW</td>\n",
              "      <td>NaN</td>\n",
              "      <td>611000</td>\n",
              "    </tr>\n",
              "    <tr>\n",
              "      <th>808</th>\n",
              "      <td>808</td>\n",
              "      <td>SHA-256</td>\n",
              "      <td>True</td>\n",
              "      <td>PoW/PoS</td>\n",
              "      <td>0.000000e+00</td>\n",
              "      <td>0</td>\n",
              "    </tr>\n",
              "    <tr>\n",
              "      <th>1337</th>\n",
              "      <td>EliteCoin</td>\n",
              "      <td>X13</td>\n",
              "      <td>True</td>\n",
              "      <td>PoW/PoS</td>\n",
              "      <td>2.927942e+10</td>\n",
              "      <td>314159265359</td>\n",
              "    </tr>\n",
              "    <tr>\n",
              "      <th>2015</th>\n",
              "      <td>2015 coin</td>\n",
              "      <td>X11</td>\n",
              "      <td>True</td>\n",
              "      <td>PoW/PoS</td>\n",
              "      <td>NaN</td>\n",
              "      <td>0</td>\n",
              "    </tr>\n",
              "    <tr>\n",
              "      <th>BTC</th>\n",
              "      <td>Bitcoin</td>\n",
              "      <td>SHA-256</td>\n",
              "      <td>True</td>\n",
              "      <td>PoW</td>\n",
              "      <td>1.792718e+07</td>\n",
              "      <td>21000000</td>\n",
              "    </tr>\n",
              "    <tr>\n",
              "      <th>ETH</th>\n",
              "      <td>Ethereum</td>\n",
              "      <td>Ethash</td>\n",
              "      <td>True</td>\n",
              "      <td>PoW</td>\n",
              "      <td>1.076842e+08</td>\n",
              "      <td>0</td>\n",
              "    </tr>\n",
              "    <tr>\n",
              "      <th>LTC</th>\n",
              "      <td>Litecoin</td>\n",
              "      <td>Scrypt</td>\n",
              "      <td>True</td>\n",
              "      <td>PoW</td>\n",
              "      <td>6.303924e+07</td>\n",
              "      <td>84000000</td>\n",
              "    </tr>\n",
              "  </tbody>\n",
              "</table>\n",
              "</div>"
            ]
          },
          "metadata": {},
          "execution_count": 5
        }
      ],
      "metadata": {
        "id": "IExYDLyTjTRj",
        "colab": {
          "base_uri": "https://localhost:8080/",
          "height": 425
        },
        "outputId": "0ab50a9b-8af0-42df-cfab-27d87b941616"
      }
    },
    {
      "cell_type": "code",
      "execution_count": 6,
      "source": [
        "# Keep all the cryptocurrencies that are being traded.\r\n",
        "crypto_df = crypto_df[crypto_df['IsTrading'] == True ]\r\n",
        "print(crypto_df.shape)\r\n",
        "crypto_df.head(10)"
      ],
      "outputs": [
        {
          "output_type": "stream",
          "name": "stdout",
          "text": [
            "(1144, 6)\n"
          ]
        },
        {
          "output_type": "execute_result",
          "data": {
            "text/plain": [
              "       CoinName Algorithm  IsTrading ProofType  TotalCoinsMined  \\\n",
              "42      42 Coin    Scrypt       True   PoW/PoS     4.199995e+01   \n",
              "365     365Coin       X11       True   PoW/PoS              NaN   \n",
              "404     404Coin    Scrypt       True   PoW/PoS     1.055185e+09   \n",
              "611   SixEleven   SHA-256       True       PoW              NaN   \n",
              "808         808   SHA-256       True   PoW/PoS     0.000000e+00   \n",
              "1337  EliteCoin       X13       True   PoW/PoS     2.927942e+10   \n",
              "2015  2015 coin       X11       True   PoW/PoS              NaN   \n",
              "BTC     Bitcoin   SHA-256       True       PoW     1.792718e+07   \n",
              "ETH    Ethereum    Ethash       True       PoW     1.076842e+08   \n",
              "LTC    Litecoin    Scrypt       True       PoW     6.303924e+07   \n",
              "\n",
              "     TotalCoinSupply  \n",
              "42                42  \n",
              "365       2300000000  \n",
              "404        532000000  \n",
              "611           611000  \n",
              "808                0  \n",
              "1337    314159265359  \n",
              "2015               0  \n",
              "BTC         21000000  \n",
              "ETH                0  \n",
              "LTC         84000000  "
            ],
            "text/html": [
              "<div>\n",
              "<style scoped>\n",
              "    .dataframe tbody tr th:only-of-type {\n",
              "        vertical-align: middle;\n",
              "    }\n",
              "\n",
              "    .dataframe tbody tr th {\n",
              "        vertical-align: top;\n",
              "    }\n",
              "\n",
              "    .dataframe thead th {\n",
              "        text-align: right;\n",
              "    }\n",
              "</style>\n",
              "<table border=\"1\" class=\"dataframe\">\n",
              "  <thead>\n",
              "    <tr style=\"text-align: right;\">\n",
              "      <th></th>\n",
              "      <th>CoinName</th>\n",
              "      <th>Algorithm</th>\n",
              "      <th>IsTrading</th>\n",
              "      <th>ProofType</th>\n",
              "      <th>TotalCoinsMined</th>\n",
              "      <th>TotalCoinSupply</th>\n",
              "    </tr>\n",
              "  </thead>\n",
              "  <tbody>\n",
              "    <tr>\n",
              "      <th>42</th>\n",
              "      <td>42 Coin</td>\n",
              "      <td>Scrypt</td>\n",
              "      <td>True</td>\n",
              "      <td>PoW/PoS</td>\n",
              "      <td>4.199995e+01</td>\n",
              "      <td>42</td>\n",
              "    </tr>\n",
              "    <tr>\n",
              "      <th>365</th>\n",
              "      <td>365Coin</td>\n",
              "      <td>X11</td>\n",
              "      <td>True</td>\n",
              "      <td>PoW/PoS</td>\n",
              "      <td>NaN</td>\n",
              "      <td>2300000000</td>\n",
              "    </tr>\n",
              "    <tr>\n",
              "      <th>404</th>\n",
              "      <td>404Coin</td>\n",
              "      <td>Scrypt</td>\n",
              "      <td>True</td>\n",
              "      <td>PoW/PoS</td>\n",
              "      <td>1.055185e+09</td>\n",
              "      <td>532000000</td>\n",
              "    </tr>\n",
              "    <tr>\n",
              "      <th>611</th>\n",
              "      <td>SixEleven</td>\n",
              "      <td>SHA-256</td>\n",
              "      <td>True</td>\n",
              "      <td>PoW</td>\n",
              "      <td>NaN</td>\n",
              "      <td>611000</td>\n",
              "    </tr>\n",
              "    <tr>\n",
              "      <th>808</th>\n",
              "      <td>808</td>\n",
              "      <td>SHA-256</td>\n",
              "      <td>True</td>\n",
              "      <td>PoW/PoS</td>\n",
              "      <td>0.000000e+00</td>\n",
              "      <td>0</td>\n",
              "    </tr>\n",
              "    <tr>\n",
              "      <th>1337</th>\n",
              "      <td>EliteCoin</td>\n",
              "      <td>X13</td>\n",
              "      <td>True</td>\n",
              "      <td>PoW/PoS</td>\n",
              "      <td>2.927942e+10</td>\n",
              "      <td>314159265359</td>\n",
              "    </tr>\n",
              "    <tr>\n",
              "      <th>2015</th>\n",
              "      <td>2015 coin</td>\n",
              "      <td>X11</td>\n",
              "      <td>True</td>\n",
              "      <td>PoW/PoS</td>\n",
              "      <td>NaN</td>\n",
              "      <td>0</td>\n",
              "    </tr>\n",
              "    <tr>\n",
              "      <th>BTC</th>\n",
              "      <td>Bitcoin</td>\n",
              "      <td>SHA-256</td>\n",
              "      <td>True</td>\n",
              "      <td>PoW</td>\n",
              "      <td>1.792718e+07</td>\n",
              "      <td>21000000</td>\n",
              "    </tr>\n",
              "    <tr>\n",
              "      <th>ETH</th>\n",
              "      <td>Ethereum</td>\n",
              "      <td>Ethash</td>\n",
              "      <td>True</td>\n",
              "      <td>PoW</td>\n",
              "      <td>1.076842e+08</td>\n",
              "      <td>0</td>\n",
              "    </tr>\n",
              "    <tr>\n",
              "      <th>LTC</th>\n",
              "      <td>Litecoin</td>\n",
              "      <td>Scrypt</td>\n",
              "      <td>True</td>\n",
              "      <td>PoW</td>\n",
              "      <td>6.303924e+07</td>\n",
              "      <td>84000000</td>\n",
              "    </tr>\n",
              "  </tbody>\n",
              "</table>\n",
              "</div>"
            ]
          },
          "metadata": {},
          "execution_count": 6
        }
      ],
      "metadata": {
        "id": "uscw0m74jTRl"
      }
    },
    {
      "cell_type": "code",
      "execution_count": 7,
      "source": [
        "# Keep all the cryptocurrencies that have a working algorithm.\r\n",
        "crypto_df = crypto_df[crypto_df.Algorithm.isna() == False]\r\n",
        "print(crypto_df.shape)\r\n",
        "crypto_df.head(10)"
      ],
      "outputs": [
        {
          "output_type": "stream",
          "name": "stdout",
          "text": [
            "(1144, 6)\n"
          ]
        },
        {
          "output_type": "execute_result",
          "data": {
            "text/plain": [
              "       CoinName Algorithm  IsTrading ProofType  TotalCoinsMined  \\\n",
              "42      42 Coin    Scrypt       True   PoW/PoS     4.199995e+01   \n",
              "365     365Coin       X11       True   PoW/PoS              NaN   \n",
              "404     404Coin    Scrypt       True   PoW/PoS     1.055185e+09   \n",
              "611   SixEleven   SHA-256       True       PoW              NaN   \n",
              "808         808   SHA-256       True   PoW/PoS     0.000000e+00   \n",
              "1337  EliteCoin       X13       True   PoW/PoS     2.927942e+10   \n",
              "2015  2015 coin       X11       True   PoW/PoS              NaN   \n",
              "BTC     Bitcoin   SHA-256       True       PoW     1.792718e+07   \n",
              "ETH    Ethereum    Ethash       True       PoW     1.076842e+08   \n",
              "LTC    Litecoin    Scrypt       True       PoW     6.303924e+07   \n",
              "\n",
              "     TotalCoinSupply  \n",
              "42                42  \n",
              "365       2300000000  \n",
              "404        532000000  \n",
              "611           611000  \n",
              "808                0  \n",
              "1337    314159265359  \n",
              "2015               0  \n",
              "BTC         21000000  \n",
              "ETH                0  \n",
              "LTC         84000000  "
            ],
            "text/html": [
              "<div>\n",
              "<style scoped>\n",
              "    .dataframe tbody tr th:only-of-type {\n",
              "        vertical-align: middle;\n",
              "    }\n",
              "\n",
              "    .dataframe tbody tr th {\n",
              "        vertical-align: top;\n",
              "    }\n",
              "\n",
              "    .dataframe thead th {\n",
              "        text-align: right;\n",
              "    }\n",
              "</style>\n",
              "<table border=\"1\" class=\"dataframe\">\n",
              "  <thead>\n",
              "    <tr style=\"text-align: right;\">\n",
              "      <th></th>\n",
              "      <th>CoinName</th>\n",
              "      <th>Algorithm</th>\n",
              "      <th>IsTrading</th>\n",
              "      <th>ProofType</th>\n",
              "      <th>TotalCoinsMined</th>\n",
              "      <th>TotalCoinSupply</th>\n",
              "    </tr>\n",
              "  </thead>\n",
              "  <tbody>\n",
              "    <tr>\n",
              "      <th>42</th>\n",
              "      <td>42 Coin</td>\n",
              "      <td>Scrypt</td>\n",
              "      <td>True</td>\n",
              "      <td>PoW/PoS</td>\n",
              "      <td>4.199995e+01</td>\n",
              "      <td>42</td>\n",
              "    </tr>\n",
              "    <tr>\n",
              "      <th>365</th>\n",
              "      <td>365Coin</td>\n",
              "      <td>X11</td>\n",
              "      <td>True</td>\n",
              "      <td>PoW/PoS</td>\n",
              "      <td>NaN</td>\n",
              "      <td>2300000000</td>\n",
              "    </tr>\n",
              "    <tr>\n",
              "      <th>404</th>\n",
              "      <td>404Coin</td>\n",
              "      <td>Scrypt</td>\n",
              "      <td>True</td>\n",
              "      <td>PoW/PoS</td>\n",
              "      <td>1.055185e+09</td>\n",
              "      <td>532000000</td>\n",
              "    </tr>\n",
              "    <tr>\n",
              "      <th>611</th>\n",
              "      <td>SixEleven</td>\n",
              "      <td>SHA-256</td>\n",
              "      <td>True</td>\n",
              "      <td>PoW</td>\n",
              "      <td>NaN</td>\n",
              "      <td>611000</td>\n",
              "    </tr>\n",
              "    <tr>\n",
              "      <th>808</th>\n",
              "      <td>808</td>\n",
              "      <td>SHA-256</td>\n",
              "      <td>True</td>\n",
              "      <td>PoW/PoS</td>\n",
              "      <td>0.000000e+00</td>\n",
              "      <td>0</td>\n",
              "    </tr>\n",
              "    <tr>\n",
              "      <th>1337</th>\n",
              "      <td>EliteCoin</td>\n",
              "      <td>X13</td>\n",
              "      <td>True</td>\n",
              "      <td>PoW/PoS</td>\n",
              "      <td>2.927942e+10</td>\n",
              "      <td>314159265359</td>\n",
              "    </tr>\n",
              "    <tr>\n",
              "      <th>2015</th>\n",
              "      <td>2015 coin</td>\n",
              "      <td>X11</td>\n",
              "      <td>True</td>\n",
              "      <td>PoW/PoS</td>\n",
              "      <td>NaN</td>\n",
              "      <td>0</td>\n",
              "    </tr>\n",
              "    <tr>\n",
              "      <th>BTC</th>\n",
              "      <td>Bitcoin</td>\n",
              "      <td>SHA-256</td>\n",
              "      <td>True</td>\n",
              "      <td>PoW</td>\n",
              "      <td>1.792718e+07</td>\n",
              "      <td>21000000</td>\n",
              "    </tr>\n",
              "    <tr>\n",
              "      <th>ETH</th>\n",
              "      <td>Ethereum</td>\n",
              "      <td>Ethash</td>\n",
              "      <td>True</td>\n",
              "      <td>PoW</td>\n",
              "      <td>1.076842e+08</td>\n",
              "      <td>0</td>\n",
              "    </tr>\n",
              "    <tr>\n",
              "      <th>LTC</th>\n",
              "      <td>Litecoin</td>\n",
              "      <td>Scrypt</td>\n",
              "      <td>True</td>\n",
              "      <td>PoW</td>\n",
              "      <td>6.303924e+07</td>\n",
              "      <td>84000000</td>\n",
              "    </tr>\n",
              "  </tbody>\n",
              "</table>\n",
              "</div>"
            ]
          },
          "metadata": {},
          "execution_count": 7
        }
      ],
      "metadata": {
        "id": "IGRUmgivjTRm"
      }
    },
    {
      "cell_type": "code",
      "execution_count": 8,
      "source": [
        "# Remove the \"IsTrading\" column. \r\n",
        "crypto_df = crypto_df.drop(columns = 'IsTrading')\r\n",
        "print(crypto_df.shape)\r\n",
        "crypto_df.head(10)"
      ],
      "outputs": [
        {
          "output_type": "stream",
          "name": "stdout",
          "text": [
            "(1144, 5)\n"
          ]
        },
        {
          "output_type": "execute_result",
          "data": {
            "text/plain": [
              "       CoinName Algorithm ProofType  TotalCoinsMined TotalCoinSupply\n",
              "42      42 Coin    Scrypt   PoW/PoS     4.199995e+01              42\n",
              "365     365Coin       X11   PoW/PoS              NaN      2300000000\n",
              "404     404Coin    Scrypt   PoW/PoS     1.055185e+09       532000000\n",
              "611   SixEleven   SHA-256       PoW              NaN          611000\n",
              "808         808   SHA-256   PoW/PoS     0.000000e+00               0\n",
              "1337  EliteCoin       X13   PoW/PoS     2.927942e+10    314159265359\n",
              "2015  2015 coin       X11   PoW/PoS              NaN               0\n",
              "BTC     Bitcoin   SHA-256       PoW     1.792718e+07        21000000\n",
              "ETH    Ethereum    Ethash       PoW     1.076842e+08               0\n",
              "LTC    Litecoin    Scrypt       PoW     6.303924e+07        84000000"
            ],
            "text/html": [
              "<div>\n",
              "<style scoped>\n",
              "    .dataframe tbody tr th:only-of-type {\n",
              "        vertical-align: middle;\n",
              "    }\n",
              "\n",
              "    .dataframe tbody tr th {\n",
              "        vertical-align: top;\n",
              "    }\n",
              "\n",
              "    .dataframe thead th {\n",
              "        text-align: right;\n",
              "    }\n",
              "</style>\n",
              "<table border=\"1\" class=\"dataframe\">\n",
              "  <thead>\n",
              "    <tr style=\"text-align: right;\">\n",
              "      <th></th>\n",
              "      <th>CoinName</th>\n",
              "      <th>Algorithm</th>\n",
              "      <th>ProofType</th>\n",
              "      <th>TotalCoinsMined</th>\n",
              "      <th>TotalCoinSupply</th>\n",
              "    </tr>\n",
              "  </thead>\n",
              "  <tbody>\n",
              "    <tr>\n",
              "      <th>42</th>\n",
              "      <td>42 Coin</td>\n",
              "      <td>Scrypt</td>\n",
              "      <td>PoW/PoS</td>\n",
              "      <td>4.199995e+01</td>\n",
              "      <td>42</td>\n",
              "    </tr>\n",
              "    <tr>\n",
              "      <th>365</th>\n",
              "      <td>365Coin</td>\n",
              "      <td>X11</td>\n",
              "      <td>PoW/PoS</td>\n",
              "      <td>NaN</td>\n",
              "      <td>2300000000</td>\n",
              "    </tr>\n",
              "    <tr>\n",
              "      <th>404</th>\n",
              "      <td>404Coin</td>\n",
              "      <td>Scrypt</td>\n",
              "      <td>PoW/PoS</td>\n",
              "      <td>1.055185e+09</td>\n",
              "      <td>532000000</td>\n",
              "    </tr>\n",
              "    <tr>\n",
              "      <th>611</th>\n",
              "      <td>SixEleven</td>\n",
              "      <td>SHA-256</td>\n",
              "      <td>PoW</td>\n",
              "      <td>NaN</td>\n",
              "      <td>611000</td>\n",
              "    </tr>\n",
              "    <tr>\n",
              "      <th>808</th>\n",
              "      <td>808</td>\n",
              "      <td>SHA-256</td>\n",
              "      <td>PoW/PoS</td>\n",
              "      <td>0.000000e+00</td>\n",
              "      <td>0</td>\n",
              "    </tr>\n",
              "    <tr>\n",
              "      <th>1337</th>\n",
              "      <td>EliteCoin</td>\n",
              "      <td>X13</td>\n",
              "      <td>PoW/PoS</td>\n",
              "      <td>2.927942e+10</td>\n",
              "      <td>314159265359</td>\n",
              "    </tr>\n",
              "    <tr>\n",
              "      <th>2015</th>\n",
              "      <td>2015 coin</td>\n",
              "      <td>X11</td>\n",
              "      <td>PoW/PoS</td>\n",
              "      <td>NaN</td>\n",
              "      <td>0</td>\n",
              "    </tr>\n",
              "    <tr>\n",
              "      <th>BTC</th>\n",
              "      <td>Bitcoin</td>\n",
              "      <td>SHA-256</td>\n",
              "      <td>PoW</td>\n",
              "      <td>1.792718e+07</td>\n",
              "      <td>21000000</td>\n",
              "    </tr>\n",
              "    <tr>\n",
              "      <th>ETH</th>\n",
              "      <td>Ethereum</td>\n",
              "      <td>Ethash</td>\n",
              "      <td>PoW</td>\n",
              "      <td>1.076842e+08</td>\n",
              "      <td>0</td>\n",
              "    </tr>\n",
              "    <tr>\n",
              "      <th>LTC</th>\n",
              "      <td>Litecoin</td>\n",
              "      <td>Scrypt</td>\n",
              "      <td>PoW</td>\n",
              "      <td>6.303924e+07</td>\n",
              "      <td>84000000</td>\n",
              "    </tr>\n",
              "  </tbody>\n",
              "</table>\n",
              "</div>"
            ]
          },
          "metadata": {},
          "execution_count": 8
        }
      ],
      "metadata": {
        "id": "f7qha2B5jTRo"
      }
    },
    {
      "cell_type": "code",
      "execution_count": 9,
      "source": [
        "# Remove rows that have at least 1 null value.\r\n",
        "crypto_df = crypto_df.dropna()\r\n",
        "print(crypto_df.shape)\r\n",
        "crypto_df.head(10)"
      ],
      "outputs": [
        {
          "output_type": "stream",
          "name": "stdout",
          "text": [
            "(685, 5)\n"
          ]
        },
        {
          "output_type": "execute_result",
          "data": {
            "text/plain": [
              "              CoinName       Algorithm ProofType  TotalCoinsMined  \\\n",
              "42             42 Coin          Scrypt   PoW/PoS     4.199995e+01   \n",
              "404            404Coin          Scrypt   PoW/PoS     1.055185e+09   \n",
              "808                808         SHA-256   PoW/PoS     0.000000e+00   \n",
              "1337         EliteCoin             X13   PoW/PoS     2.927942e+10   \n",
              "BTC            Bitcoin         SHA-256       PoW     1.792718e+07   \n",
              "ETH           Ethereum          Ethash       PoW     1.076842e+08   \n",
              "LTC           Litecoin          Scrypt       PoW     6.303924e+07   \n",
              "DASH              Dash             X11   PoW/PoS     9.031294e+06   \n",
              "XMR             Monero  CryptoNight-V7       PoW     1.720114e+07   \n",
              "ETC   Ethereum Classic          Ethash       PoW     1.133597e+08   \n",
              "\n",
              "     TotalCoinSupply  \n",
              "42                42  \n",
              "404        532000000  \n",
              "808                0  \n",
              "1337    314159265359  \n",
              "BTC         21000000  \n",
              "ETH                0  \n",
              "LTC         84000000  \n",
              "DASH        22000000  \n",
              "XMR                0  \n",
              "ETC        210000000  "
            ],
            "text/html": [
              "<div>\n",
              "<style scoped>\n",
              "    .dataframe tbody tr th:only-of-type {\n",
              "        vertical-align: middle;\n",
              "    }\n",
              "\n",
              "    .dataframe tbody tr th {\n",
              "        vertical-align: top;\n",
              "    }\n",
              "\n",
              "    .dataframe thead th {\n",
              "        text-align: right;\n",
              "    }\n",
              "</style>\n",
              "<table border=\"1\" class=\"dataframe\">\n",
              "  <thead>\n",
              "    <tr style=\"text-align: right;\">\n",
              "      <th></th>\n",
              "      <th>CoinName</th>\n",
              "      <th>Algorithm</th>\n",
              "      <th>ProofType</th>\n",
              "      <th>TotalCoinsMined</th>\n",
              "      <th>TotalCoinSupply</th>\n",
              "    </tr>\n",
              "  </thead>\n",
              "  <tbody>\n",
              "    <tr>\n",
              "      <th>42</th>\n",
              "      <td>42 Coin</td>\n",
              "      <td>Scrypt</td>\n",
              "      <td>PoW/PoS</td>\n",
              "      <td>4.199995e+01</td>\n",
              "      <td>42</td>\n",
              "    </tr>\n",
              "    <tr>\n",
              "      <th>404</th>\n",
              "      <td>404Coin</td>\n",
              "      <td>Scrypt</td>\n",
              "      <td>PoW/PoS</td>\n",
              "      <td>1.055185e+09</td>\n",
              "      <td>532000000</td>\n",
              "    </tr>\n",
              "    <tr>\n",
              "      <th>808</th>\n",
              "      <td>808</td>\n",
              "      <td>SHA-256</td>\n",
              "      <td>PoW/PoS</td>\n",
              "      <td>0.000000e+00</td>\n",
              "      <td>0</td>\n",
              "    </tr>\n",
              "    <tr>\n",
              "      <th>1337</th>\n",
              "      <td>EliteCoin</td>\n",
              "      <td>X13</td>\n",
              "      <td>PoW/PoS</td>\n",
              "      <td>2.927942e+10</td>\n",
              "      <td>314159265359</td>\n",
              "    </tr>\n",
              "    <tr>\n",
              "      <th>BTC</th>\n",
              "      <td>Bitcoin</td>\n",
              "      <td>SHA-256</td>\n",
              "      <td>PoW</td>\n",
              "      <td>1.792718e+07</td>\n",
              "      <td>21000000</td>\n",
              "    </tr>\n",
              "    <tr>\n",
              "      <th>ETH</th>\n",
              "      <td>Ethereum</td>\n",
              "      <td>Ethash</td>\n",
              "      <td>PoW</td>\n",
              "      <td>1.076842e+08</td>\n",
              "      <td>0</td>\n",
              "    </tr>\n",
              "    <tr>\n",
              "      <th>LTC</th>\n",
              "      <td>Litecoin</td>\n",
              "      <td>Scrypt</td>\n",
              "      <td>PoW</td>\n",
              "      <td>6.303924e+07</td>\n",
              "      <td>84000000</td>\n",
              "    </tr>\n",
              "    <tr>\n",
              "      <th>DASH</th>\n",
              "      <td>Dash</td>\n",
              "      <td>X11</td>\n",
              "      <td>PoW/PoS</td>\n",
              "      <td>9.031294e+06</td>\n",
              "      <td>22000000</td>\n",
              "    </tr>\n",
              "    <tr>\n",
              "      <th>XMR</th>\n",
              "      <td>Monero</td>\n",
              "      <td>CryptoNight-V7</td>\n",
              "      <td>PoW</td>\n",
              "      <td>1.720114e+07</td>\n",
              "      <td>0</td>\n",
              "    </tr>\n",
              "    <tr>\n",
              "      <th>ETC</th>\n",
              "      <td>Ethereum Classic</td>\n",
              "      <td>Ethash</td>\n",
              "      <td>PoW</td>\n",
              "      <td>1.133597e+08</td>\n",
              "      <td>210000000</td>\n",
              "    </tr>\n",
              "  </tbody>\n",
              "</table>\n",
              "</div>"
            ]
          },
          "metadata": {},
          "execution_count": 9
        }
      ],
      "metadata": {
        "id": "e7JceziujTRq"
      }
    },
    {
      "cell_type": "code",
      "execution_count": 10,
      "source": [
        "# Keep the rows where coins are mined.\r\n",
        "crypto_df = crypto_df[crypto_df['TotalCoinsMined'] > 0 ]\r\n",
        "print(crypto_df.shape)\r\n",
        "crypto_df.head(10)"
      ],
      "outputs": [
        {
          "output_type": "stream",
          "name": "stdout",
          "text": [
            "(532, 5)\n"
          ]
        },
        {
          "output_type": "execute_result",
          "data": {
            "text/plain": [
              "              CoinName       Algorithm ProofType  TotalCoinsMined  \\\n",
              "42             42 Coin          Scrypt   PoW/PoS     4.199995e+01   \n",
              "404            404Coin          Scrypt   PoW/PoS     1.055185e+09   \n",
              "1337         EliteCoin             X13   PoW/PoS     2.927942e+10   \n",
              "BTC            Bitcoin         SHA-256       PoW     1.792718e+07   \n",
              "ETH           Ethereum          Ethash       PoW     1.076842e+08   \n",
              "LTC           Litecoin          Scrypt       PoW     6.303924e+07   \n",
              "DASH              Dash             X11   PoW/PoS     9.031294e+06   \n",
              "XMR             Monero  CryptoNight-V7       PoW     1.720114e+07   \n",
              "ETC   Ethereum Classic          Ethash       PoW     1.133597e+08   \n",
              "ZEC              ZCash        Equihash       PoW     7.383056e+06   \n",
              "\n",
              "     TotalCoinSupply  \n",
              "42                42  \n",
              "404        532000000  \n",
              "1337    314159265359  \n",
              "BTC         21000000  \n",
              "ETH                0  \n",
              "LTC         84000000  \n",
              "DASH        22000000  \n",
              "XMR                0  \n",
              "ETC        210000000  \n",
              "ZEC         21000000  "
            ],
            "text/html": [
              "<div>\n",
              "<style scoped>\n",
              "    .dataframe tbody tr th:only-of-type {\n",
              "        vertical-align: middle;\n",
              "    }\n",
              "\n",
              "    .dataframe tbody tr th {\n",
              "        vertical-align: top;\n",
              "    }\n",
              "\n",
              "    .dataframe thead th {\n",
              "        text-align: right;\n",
              "    }\n",
              "</style>\n",
              "<table border=\"1\" class=\"dataframe\">\n",
              "  <thead>\n",
              "    <tr style=\"text-align: right;\">\n",
              "      <th></th>\n",
              "      <th>CoinName</th>\n",
              "      <th>Algorithm</th>\n",
              "      <th>ProofType</th>\n",
              "      <th>TotalCoinsMined</th>\n",
              "      <th>TotalCoinSupply</th>\n",
              "    </tr>\n",
              "  </thead>\n",
              "  <tbody>\n",
              "    <tr>\n",
              "      <th>42</th>\n",
              "      <td>42 Coin</td>\n",
              "      <td>Scrypt</td>\n",
              "      <td>PoW/PoS</td>\n",
              "      <td>4.199995e+01</td>\n",
              "      <td>42</td>\n",
              "    </tr>\n",
              "    <tr>\n",
              "      <th>404</th>\n",
              "      <td>404Coin</td>\n",
              "      <td>Scrypt</td>\n",
              "      <td>PoW/PoS</td>\n",
              "      <td>1.055185e+09</td>\n",
              "      <td>532000000</td>\n",
              "    </tr>\n",
              "    <tr>\n",
              "      <th>1337</th>\n",
              "      <td>EliteCoin</td>\n",
              "      <td>X13</td>\n",
              "      <td>PoW/PoS</td>\n",
              "      <td>2.927942e+10</td>\n",
              "      <td>314159265359</td>\n",
              "    </tr>\n",
              "    <tr>\n",
              "      <th>BTC</th>\n",
              "      <td>Bitcoin</td>\n",
              "      <td>SHA-256</td>\n",
              "      <td>PoW</td>\n",
              "      <td>1.792718e+07</td>\n",
              "      <td>21000000</td>\n",
              "    </tr>\n",
              "    <tr>\n",
              "      <th>ETH</th>\n",
              "      <td>Ethereum</td>\n",
              "      <td>Ethash</td>\n",
              "      <td>PoW</td>\n",
              "      <td>1.076842e+08</td>\n",
              "      <td>0</td>\n",
              "    </tr>\n",
              "    <tr>\n",
              "      <th>LTC</th>\n",
              "      <td>Litecoin</td>\n",
              "      <td>Scrypt</td>\n",
              "      <td>PoW</td>\n",
              "      <td>6.303924e+07</td>\n",
              "      <td>84000000</td>\n",
              "    </tr>\n",
              "    <tr>\n",
              "      <th>DASH</th>\n",
              "      <td>Dash</td>\n",
              "      <td>X11</td>\n",
              "      <td>PoW/PoS</td>\n",
              "      <td>9.031294e+06</td>\n",
              "      <td>22000000</td>\n",
              "    </tr>\n",
              "    <tr>\n",
              "      <th>XMR</th>\n",
              "      <td>Monero</td>\n",
              "      <td>CryptoNight-V7</td>\n",
              "      <td>PoW</td>\n",
              "      <td>1.720114e+07</td>\n",
              "      <td>0</td>\n",
              "    </tr>\n",
              "    <tr>\n",
              "      <th>ETC</th>\n",
              "      <td>Ethereum Classic</td>\n",
              "      <td>Ethash</td>\n",
              "      <td>PoW</td>\n",
              "      <td>1.133597e+08</td>\n",
              "      <td>210000000</td>\n",
              "    </tr>\n",
              "    <tr>\n",
              "      <th>ZEC</th>\n",
              "      <td>ZCash</td>\n",
              "      <td>Equihash</td>\n",
              "      <td>PoW</td>\n",
              "      <td>7.383056e+06</td>\n",
              "      <td>21000000</td>\n",
              "    </tr>\n",
              "  </tbody>\n",
              "</table>\n",
              "</div>"
            ]
          },
          "metadata": {},
          "execution_count": 10
        }
      ],
      "metadata": {
        "id": "XuurHwEwjTRt"
      }
    },
    {
      "cell_type": "code",
      "execution_count": 11,
      "source": [
        "# Create a new DataFrame that holds only the cryptocurrencies names.\r\n",
        "crypto_df_CoinName= pd.DataFrame(crypto_df['CoinName'])\r\n",
        "print(crypto_df_CoinName.shape)\r\n",
        "crypto_df_CoinName.head(5)"
      ],
      "outputs": [
        {
          "output_type": "stream",
          "name": "stdout",
          "text": [
            "(532, 1)\n"
          ]
        },
        {
          "output_type": "execute_result",
          "data": {
            "text/plain": [
              "       CoinName\n",
              "42      42 Coin\n",
              "404     404Coin\n",
              "1337  EliteCoin\n",
              "BTC     Bitcoin\n",
              "ETH    Ethereum"
            ],
            "text/html": [
              "<div>\n",
              "<style scoped>\n",
              "    .dataframe tbody tr th:only-of-type {\n",
              "        vertical-align: middle;\n",
              "    }\n",
              "\n",
              "    .dataframe tbody tr th {\n",
              "        vertical-align: top;\n",
              "    }\n",
              "\n",
              "    .dataframe thead th {\n",
              "        text-align: right;\n",
              "    }\n",
              "</style>\n",
              "<table border=\"1\" class=\"dataframe\">\n",
              "  <thead>\n",
              "    <tr style=\"text-align: right;\">\n",
              "      <th></th>\n",
              "      <th>CoinName</th>\n",
              "    </tr>\n",
              "  </thead>\n",
              "  <tbody>\n",
              "    <tr>\n",
              "      <th>42</th>\n",
              "      <td>42 Coin</td>\n",
              "    </tr>\n",
              "    <tr>\n",
              "      <th>404</th>\n",
              "      <td>404Coin</td>\n",
              "    </tr>\n",
              "    <tr>\n",
              "      <th>1337</th>\n",
              "      <td>EliteCoin</td>\n",
              "    </tr>\n",
              "    <tr>\n",
              "      <th>BTC</th>\n",
              "      <td>Bitcoin</td>\n",
              "    </tr>\n",
              "    <tr>\n",
              "      <th>ETH</th>\n",
              "      <td>Ethereum</td>\n",
              "    </tr>\n",
              "  </tbody>\n",
              "</table>\n",
              "</div>"
            ]
          },
          "metadata": {},
          "execution_count": 11
        }
      ],
      "metadata": {
        "id": "HJBK8bpZjTRw"
      }
    },
    {
      "cell_type": "code",
      "execution_count": 12,
      "source": [
        "# Drop the 'CoinName' column since it's not going to be used on the clustering algorithm.\r\n",
        "crypto_df = crypto_df.drop(columns=\"CoinName\")\r\n",
        "print(crypto_df.shape)\r\n",
        "crypto_df.head(10)"
      ],
      "outputs": [
        {
          "output_type": "stream",
          "name": "stdout",
          "text": [
            "(532, 4)\n"
          ]
        },
        {
          "output_type": "execute_result",
          "data": {
            "text/plain": [
              "           Algorithm ProofType  TotalCoinsMined TotalCoinSupply\n",
              "42            Scrypt   PoW/PoS     4.199995e+01              42\n",
              "404           Scrypt   PoW/PoS     1.055185e+09       532000000\n",
              "1337             X13   PoW/PoS     2.927942e+10    314159265359\n",
              "BTC          SHA-256       PoW     1.792718e+07        21000000\n",
              "ETH           Ethash       PoW     1.076842e+08               0\n",
              "LTC           Scrypt       PoW     6.303924e+07        84000000\n",
              "DASH             X11   PoW/PoS     9.031294e+06        22000000\n",
              "XMR   CryptoNight-V7       PoW     1.720114e+07               0\n",
              "ETC           Ethash       PoW     1.133597e+08       210000000\n",
              "ZEC         Equihash       PoW     7.383056e+06        21000000"
            ],
            "text/html": [
              "<div>\n",
              "<style scoped>\n",
              "    .dataframe tbody tr th:only-of-type {\n",
              "        vertical-align: middle;\n",
              "    }\n",
              "\n",
              "    .dataframe tbody tr th {\n",
              "        vertical-align: top;\n",
              "    }\n",
              "\n",
              "    .dataframe thead th {\n",
              "        text-align: right;\n",
              "    }\n",
              "</style>\n",
              "<table border=\"1\" class=\"dataframe\">\n",
              "  <thead>\n",
              "    <tr style=\"text-align: right;\">\n",
              "      <th></th>\n",
              "      <th>Algorithm</th>\n",
              "      <th>ProofType</th>\n",
              "      <th>TotalCoinsMined</th>\n",
              "      <th>TotalCoinSupply</th>\n",
              "    </tr>\n",
              "  </thead>\n",
              "  <tbody>\n",
              "    <tr>\n",
              "      <th>42</th>\n",
              "      <td>Scrypt</td>\n",
              "      <td>PoW/PoS</td>\n",
              "      <td>4.199995e+01</td>\n",
              "      <td>42</td>\n",
              "    </tr>\n",
              "    <tr>\n",
              "      <th>404</th>\n",
              "      <td>Scrypt</td>\n",
              "      <td>PoW/PoS</td>\n",
              "      <td>1.055185e+09</td>\n",
              "      <td>532000000</td>\n",
              "    </tr>\n",
              "    <tr>\n",
              "      <th>1337</th>\n",
              "      <td>X13</td>\n",
              "      <td>PoW/PoS</td>\n",
              "      <td>2.927942e+10</td>\n",
              "      <td>314159265359</td>\n",
              "    </tr>\n",
              "    <tr>\n",
              "      <th>BTC</th>\n",
              "      <td>SHA-256</td>\n",
              "      <td>PoW</td>\n",
              "      <td>1.792718e+07</td>\n",
              "      <td>21000000</td>\n",
              "    </tr>\n",
              "    <tr>\n",
              "      <th>ETH</th>\n",
              "      <td>Ethash</td>\n",
              "      <td>PoW</td>\n",
              "      <td>1.076842e+08</td>\n",
              "      <td>0</td>\n",
              "    </tr>\n",
              "    <tr>\n",
              "      <th>LTC</th>\n",
              "      <td>Scrypt</td>\n",
              "      <td>PoW</td>\n",
              "      <td>6.303924e+07</td>\n",
              "      <td>84000000</td>\n",
              "    </tr>\n",
              "    <tr>\n",
              "      <th>DASH</th>\n",
              "      <td>X11</td>\n",
              "      <td>PoW/PoS</td>\n",
              "      <td>9.031294e+06</td>\n",
              "      <td>22000000</td>\n",
              "    </tr>\n",
              "    <tr>\n",
              "      <th>XMR</th>\n",
              "      <td>CryptoNight-V7</td>\n",
              "      <td>PoW</td>\n",
              "      <td>1.720114e+07</td>\n",
              "      <td>0</td>\n",
              "    </tr>\n",
              "    <tr>\n",
              "      <th>ETC</th>\n",
              "      <td>Ethash</td>\n",
              "      <td>PoW</td>\n",
              "      <td>1.133597e+08</td>\n",
              "      <td>210000000</td>\n",
              "    </tr>\n",
              "    <tr>\n",
              "      <th>ZEC</th>\n",
              "      <td>Equihash</td>\n",
              "      <td>PoW</td>\n",
              "      <td>7.383056e+06</td>\n",
              "      <td>21000000</td>\n",
              "    </tr>\n",
              "  </tbody>\n",
              "</table>\n",
              "</div>"
            ]
          },
          "metadata": {},
          "execution_count": 12
        }
      ],
      "metadata": {
        "id": "Qzy8uonDjTRx"
      }
    },
    {
      "cell_type": "code",
      "execution_count": 13,
      "source": [
        "# Use get_dummies() to create variables for text features.\r\n",
        "X = pd.get_dummies(crypto_df, columns=['Algorithm', 'ProofType'])\r\n",
        "print(X.shape)\r\n",
        "X.head(10)"
      ],
      "outputs": [
        {
          "output_type": "stream",
          "name": "stdout",
          "text": [
            "(532, 98)\n"
          ]
        },
        {
          "output_type": "execute_result",
          "data": {
            "text/plain": [
              "      TotalCoinsMined TotalCoinSupply  Algorithm_1GB AES Pattern Search  \\\n",
              "42       4.199995e+01              42                                 0   \n",
              "404      1.055185e+09       532000000                                 0   \n",
              "1337     2.927942e+10    314159265359                                 0   \n",
              "BTC      1.792718e+07        21000000                                 0   \n",
              "ETH      1.076842e+08               0                                 0   \n",
              "LTC      6.303924e+07        84000000                                 0   \n",
              "DASH     9.031294e+06        22000000                                 0   \n",
              "XMR      1.720114e+07               0                                 0   \n",
              "ETC      1.133597e+08       210000000                                 0   \n",
              "ZEC      7.383056e+06        21000000                                 0   \n",
              "\n",
              "      Algorithm_536  Algorithm_Argon2d  Algorithm_BLAKE256  Algorithm_Blake  \\\n",
              "42                0                  0                   0                0   \n",
              "404               0                  0                   0                0   \n",
              "1337              0                  0                   0                0   \n",
              "BTC               0                  0                   0                0   \n",
              "ETH               0                  0                   0                0   \n",
              "LTC               0                  0                   0                0   \n",
              "DASH              0                  0                   0                0   \n",
              "XMR               0                  0                   0                0   \n",
              "ETC               0                  0                   0                0   \n",
              "ZEC               0                  0                   0                0   \n",
              "\n",
              "      Algorithm_Blake2S  Algorithm_Blake2b  Algorithm_C11  ...  \\\n",
              "42                    0                  0              0  ...   \n",
              "404                   0                  0              0  ...   \n",
              "1337                  0                  0              0  ...   \n",
              "BTC                   0                  0              0  ...   \n",
              "ETH                   0                  0              0  ...   \n",
              "LTC                   0                  0              0  ...   \n",
              "DASH                  0                  0              0  ...   \n",
              "XMR                   0                  0              0  ...   \n",
              "ETC                   0                  0              0  ...   \n",
              "ZEC                   0                  0              0  ...   \n",
              "\n",
              "      ProofType_PoW/PoS  ProofType_PoW/PoS   ProofType_PoW/PoW  \\\n",
              "42                    1                   0                  0   \n",
              "404                   1                   0                  0   \n",
              "1337                  1                   0                  0   \n",
              "BTC                   0                   0                  0   \n",
              "ETH                   0                   0                  0   \n",
              "LTC                   0                   0                  0   \n",
              "DASH                  1                   0                  0   \n",
              "XMR                   0                   0                  0   \n",
              "ETC                   0                   0                  0   \n",
              "ZEC                   0                   0                  0   \n",
              "\n",
              "      ProofType_PoW/nPoS  ProofType_Pos  ProofType_Proof of Authority  \\\n",
              "42                     0              0                             0   \n",
              "404                    0              0                             0   \n",
              "1337                   0              0                             0   \n",
              "BTC                    0              0                             0   \n",
              "ETH                    0              0                             0   \n",
              "LTC                    0              0                             0   \n",
              "DASH                   0              0                             0   \n",
              "XMR                    0              0                             0   \n",
              "ETC                    0              0                             0   \n",
              "ZEC                    0              0                             0   \n",
              "\n",
              "      ProofType_Proof of Trust  ProofType_TPoS  \\\n",
              "42                           0               0   \n",
              "404                          0               0   \n",
              "1337                         0               0   \n",
              "BTC                          0               0   \n",
              "ETH                          0               0   \n",
              "LTC                          0               0   \n",
              "DASH                         0               0   \n",
              "XMR                          0               0   \n",
              "ETC                          0               0   \n",
              "ZEC                          0               0   \n",
              "\n",
              "      ProofType_Zero-Knowledge Proof  ProofType_dPoW/PoW  \n",
              "42                                 0                   0  \n",
              "404                                0                   0  \n",
              "1337                               0                   0  \n",
              "BTC                                0                   0  \n",
              "ETH                                0                   0  \n",
              "LTC                                0                   0  \n",
              "DASH                               0                   0  \n",
              "XMR                                0                   0  \n",
              "ETC                                0                   0  \n",
              "ZEC                                0                   0  \n",
              "\n",
              "[10 rows x 98 columns]"
            ],
            "text/html": [
              "<div>\n",
              "<style scoped>\n",
              "    .dataframe tbody tr th:only-of-type {\n",
              "        vertical-align: middle;\n",
              "    }\n",
              "\n",
              "    .dataframe tbody tr th {\n",
              "        vertical-align: top;\n",
              "    }\n",
              "\n",
              "    .dataframe thead th {\n",
              "        text-align: right;\n",
              "    }\n",
              "</style>\n",
              "<table border=\"1\" class=\"dataframe\">\n",
              "  <thead>\n",
              "    <tr style=\"text-align: right;\">\n",
              "      <th></th>\n",
              "      <th>TotalCoinsMined</th>\n",
              "      <th>TotalCoinSupply</th>\n",
              "      <th>Algorithm_1GB AES Pattern Search</th>\n",
              "      <th>Algorithm_536</th>\n",
              "      <th>Algorithm_Argon2d</th>\n",
              "      <th>Algorithm_BLAKE256</th>\n",
              "      <th>Algorithm_Blake</th>\n",
              "      <th>Algorithm_Blake2S</th>\n",
              "      <th>Algorithm_Blake2b</th>\n",
              "      <th>Algorithm_C11</th>\n",
              "      <th>...</th>\n",
              "      <th>ProofType_PoW/PoS</th>\n",
              "      <th>ProofType_PoW/PoS</th>\n",
              "      <th>ProofType_PoW/PoW</th>\n",
              "      <th>ProofType_PoW/nPoS</th>\n",
              "      <th>ProofType_Pos</th>\n",
              "      <th>ProofType_Proof of Authority</th>\n",
              "      <th>ProofType_Proof of Trust</th>\n",
              "      <th>ProofType_TPoS</th>\n",
              "      <th>ProofType_Zero-Knowledge Proof</th>\n",
              "      <th>ProofType_dPoW/PoW</th>\n",
              "    </tr>\n",
              "  </thead>\n",
              "  <tbody>\n",
              "    <tr>\n",
              "      <th>42</th>\n",
              "      <td>4.199995e+01</td>\n",
              "      <td>42</td>\n",
              "      <td>0</td>\n",
              "      <td>0</td>\n",
              "      <td>0</td>\n",
              "      <td>0</td>\n",
              "      <td>0</td>\n",
              "      <td>0</td>\n",
              "      <td>0</td>\n",
              "      <td>0</td>\n",
              "      <td>...</td>\n",
              "      <td>1</td>\n",
              "      <td>0</td>\n",
              "      <td>0</td>\n",
              "      <td>0</td>\n",
              "      <td>0</td>\n",
              "      <td>0</td>\n",
              "      <td>0</td>\n",
              "      <td>0</td>\n",
              "      <td>0</td>\n",
              "      <td>0</td>\n",
              "    </tr>\n",
              "    <tr>\n",
              "      <th>404</th>\n",
              "      <td>1.055185e+09</td>\n",
              "      <td>532000000</td>\n",
              "      <td>0</td>\n",
              "      <td>0</td>\n",
              "      <td>0</td>\n",
              "      <td>0</td>\n",
              "      <td>0</td>\n",
              "      <td>0</td>\n",
              "      <td>0</td>\n",
              "      <td>0</td>\n",
              "      <td>...</td>\n",
              "      <td>1</td>\n",
              "      <td>0</td>\n",
              "      <td>0</td>\n",
              "      <td>0</td>\n",
              "      <td>0</td>\n",
              "      <td>0</td>\n",
              "      <td>0</td>\n",
              "      <td>0</td>\n",
              "      <td>0</td>\n",
              "      <td>0</td>\n",
              "    </tr>\n",
              "    <tr>\n",
              "      <th>1337</th>\n",
              "      <td>2.927942e+10</td>\n",
              "      <td>314159265359</td>\n",
              "      <td>0</td>\n",
              "      <td>0</td>\n",
              "      <td>0</td>\n",
              "      <td>0</td>\n",
              "      <td>0</td>\n",
              "      <td>0</td>\n",
              "      <td>0</td>\n",
              "      <td>0</td>\n",
              "      <td>...</td>\n",
              "      <td>1</td>\n",
              "      <td>0</td>\n",
              "      <td>0</td>\n",
              "      <td>0</td>\n",
              "      <td>0</td>\n",
              "      <td>0</td>\n",
              "      <td>0</td>\n",
              "      <td>0</td>\n",
              "      <td>0</td>\n",
              "      <td>0</td>\n",
              "    </tr>\n",
              "    <tr>\n",
              "      <th>BTC</th>\n",
              "      <td>1.792718e+07</td>\n",
              "      <td>21000000</td>\n",
              "      <td>0</td>\n",
              "      <td>0</td>\n",
              "      <td>0</td>\n",
              "      <td>0</td>\n",
              "      <td>0</td>\n",
              "      <td>0</td>\n",
              "      <td>0</td>\n",
              "      <td>0</td>\n",
              "      <td>...</td>\n",
              "      <td>0</td>\n",
              "      <td>0</td>\n",
              "      <td>0</td>\n",
              "      <td>0</td>\n",
              "      <td>0</td>\n",
              "      <td>0</td>\n",
              "      <td>0</td>\n",
              "      <td>0</td>\n",
              "      <td>0</td>\n",
              "      <td>0</td>\n",
              "    </tr>\n",
              "    <tr>\n",
              "      <th>ETH</th>\n",
              "      <td>1.076842e+08</td>\n",
              "      <td>0</td>\n",
              "      <td>0</td>\n",
              "      <td>0</td>\n",
              "      <td>0</td>\n",
              "      <td>0</td>\n",
              "      <td>0</td>\n",
              "      <td>0</td>\n",
              "      <td>0</td>\n",
              "      <td>0</td>\n",
              "      <td>...</td>\n",
              "      <td>0</td>\n",
              "      <td>0</td>\n",
              "      <td>0</td>\n",
              "      <td>0</td>\n",
              "      <td>0</td>\n",
              "      <td>0</td>\n",
              "      <td>0</td>\n",
              "      <td>0</td>\n",
              "      <td>0</td>\n",
              "      <td>0</td>\n",
              "    </tr>\n",
              "    <tr>\n",
              "      <th>LTC</th>\n",
              "      <td>6.303924e+07</td>\n",
              "      <td>84000000</td>\n",
              "      <td>0</td>\n",
              "      <td>0</td>\n",
              "      <td>0</td>\n",
              "      <td>0</td>\n",
              "      <td>0</td>\n",
              "      <td>0</td>\n",
              "      <td>0</td>\n",
              "      <td>0</td>\n",
              "      <td>...</td>\n",
              "      <td>0</td>\n",
              "      <td>0</td>\n",
              "      <td>0</td>\n",
              "      <td>0</td>\n",
              "      <td>0</td>\n",
              "      <td>0</td>\n",
              "      <td>0</td>\n",
              "      <td>0</td>\n",
              "      <td>0</td>\n",
              "      <td>0</td>\n",
              "    </tr>\n",
              "    <tr>\n",
              "      <th>DASH</th>\n",
              "      <td>9.031294e+06</td>\n",
              "      <td>22000000</td>\n",
              "      <td>0</td>\n",
              "      <td>0</td>\n",
              "      <td>0</td>\n",
              "      <td>0</td>\n",
              "      <td>0</td>\n",
              "      <td>0</td>\n",
              "      <td>0</td>\n",
              "      <td>0</td>\n",
              "      <td>...</td>\n",
              "      <td>1</td>\n",
              "      <td>0</td>\n",
              "      <td>0</td>\n",
              "      <td>0</td>\n",
              "      <td>0</td>\n",
              "      <td>0</td>\n",
              "      <td>0</td>\n",
              "      <td>0</td>\n",
              "      <td>0</td>\n",
              "      <td>0</td>\n",
              "    </tr>\n",
              "    <tr>\n",
              "      <th>XMR</th>\n",
              "      <td>1.720114e+07</td>\n",
              "      <td>0</td>\n",
              "      <td>0</td>\n",
              "      <td>0</td>\n",
              "      <td>0</td>\n",
              "      <td>0</td>\n",
              "      <td>0</td>\n",
              "      <td>0</td>\n",
              "      <td>0</td>\n",
              "      <td>0</td>\n",
              "      <td>...</td>\n",
              "      <td>0</td>\n",
              "      <td>0</td>\n",
              "      <td>0</td>\n",
              "      <td>0</td>\n",
              "      <td>0</td>\n",
              "      <td>0</td>\n",
              "      <td>0</td>\n",
              "      <td>0</td>\n",
              "      <td>0</td>\n",
              "      <td>0</td>\n",
              "    </tr>\n",
              "    <tr>\n",
              "      <th>ETC</th>\n",
              "      <td>1.133597e+08</td>\n",
              "      <td>210000000</td>\n",
              "      <td>0</td>\n",
              "      <td>0</td>\n",
              "      <td>0</td>\n",
              "      <td>0</td>\n",
              "      <td>0</td>\n",
              "      <td>0</td>\n",
              "      <td>0</td>\n",
              "      <td>0</td>\n",
              "      <td>...</td>\n",
              "      <td>0</td>\n",
              "      <td>0</td>\n",
              "      <td>0</td>\n",
              "      <td>0</td>\n",
              "      <td>0</td>\n",
              "      <td>0</td>\n",
              "      <td>0</td>\n",
              "      <td>0</td>\n",
              "      <td>0</td>\n",
              "      <td>0</td>\n",
              "    </tr>\n",
              "    <tr>\n",
              "      <th>ZEC</th>\n",
              "      <td>7.383056e+06</td>\n",
              "      <td>21000000</td>\n",
              "      <td>0</td>\n",
              "      <td>0</td>\n",
              "      <td>0</td>\n",
              "      <td>0</td>\n",
              "      <td>0</td>\n",
              "      <td>0</td>\n",
              "      <td>0</td>\n",
              "      <td>0</td>\n",
              "      <td>...</td>\n",
              "      <td>0</td>\n",
              "      <td>0</td>\n",
              "      <td>0</td>\n",
              "      <td>0</td>\n",
              "      <td>0</td>\n",
              "      <td>0</td>\n",
              "      <td>0</td>\n",
              "      <td>0</td>\n",
              "      <td>0</td>\n",
              "      <td>0</td>\n",
              "    </tr>\n",
              "  </tbody>\n",
              "</table>\n",
              "<p>10 rows × 98 columns</p>\n",
              "</div>"
            ]
          },
          "metadata": {},
          "execution_count": 13
        }
      ],
      "metadata": {
        "id": "69ZGkFGyjTR0"
      }
    },
    {
      "cell_type": "code",
      "execution_count": 14,
      "source": [
        "# Standardize the data with StandardScaler().\r\n",
        "scaler = StandardScaler()\r\n",
        "crypto_scaled = scaler.fit_transform(X)\r\n",
        "crypto_scaled[0:5]"
      ],
      "outputs": [
        {
          "output_type": "execute_result",
          "data": {
            "text/plain": [
              "array([[-0.11710817, -0.1528703 , -0.0433963 , -0.0433963 , -0.0433963 ,\n",
              "        -0.06142951, -0.07530656, -0.0433963 , -0.06142951, -0.06142951,\n",
              "        -0.0433963 , -0.0433963 , -0.19245009, -0.06142951, -0.09740465,\n",
              "        -0.0433963 , -0.11547005, -0.07530656, -0.0433963 , -0.0433963 ,\n",
              "        -0.15191091, -0.0433963 , -0.13118084, -0.0433963 , -0.0433963 ,\n",
              "        -0.08703883, -0.0433963 , -0.0433963 , -0.0433963 , -0.0433963 ,\n",
              "        -0.06142951, -0.0433963 , -0.08703883, -0.08703883, -0.08703883,\n",
              "        -0.0433963 , -0.13118084, -0.13840913, -0.13840913, -0.0433963 ,\n",
              "        -0.06142951, -0.0433963 , -0.07530656, -0.18168574, -0.0433963 ,\n",
              "        -0.0433963 , -0.0433963 , -0.07530656, -0.15826614, -0.31491833,\n",
              "        -0.0433963 , -0.08703883, -0.07530656, -0.06142951,  1.38675049,\n",
              "        -0.0433963 , -0.0433963 , -0.06142951, -0.0433963 , -0.0433963 ,\n",
              "        -0.0433963 , -0.0433963 , -0.0433963 , -0.0433963 , -0.0433963 ,\n",
              "        -0.0433963 , -0.39879994, -0.0433963 , -0.18168574, -0.0433963 ,\n",
              "        -0.08703883, -0.08703883, -0.10680283, -0.0433963 , -0.13118084,\n",
              "        -0.0433963 , -0.0433963 , -0.0433963 , -0.0433963 , -0.07530656,\n",
              "        -0.43911856, -0.0433963 , -0.06142951, -0.0433963 , -0.0433963 ,\n",
              "        -0.89632016, -0.0433963 , -0.0433963 ,  1.42222617, -0.0433963 ,\n",
              "        -0.0433963 , -0.0433963 , -0.0433963 , -0.0433963 , -0.0433963 ,\n",
              "        -0.0433963 , -0.0433963 , -0.0433963 ],\n",
              "       [-0.09396955, -0.145009  , -0.0433963 , -0.0433963 , -0.0433963 ,\n",
              "        -0.06142951, -0.07530656, -0.0433963 , -0.06142951, -0.06142951,\n",
              "        -0.0433963 , -0.0433963 , -0.19245009, -0.06142951, -0.09740465,\n",
              "        -0.0433963 , -0.11547005, -0.07530656, -0.0433963 , -0.0433963 ,\n",
              "        -0.15191091, -0.0433963 , -0.13118084, -0.0433963 , -0.0433963 ,\n",
              "        -0.08703883, -0.0433963 , -0.0433963 , -0.0433963 , -0.0433963 ,\n",
              "        -0.06142951, -0.0433963 , -0.08703883, -0.08703883, -0.08703883,\n",
              "        -0.0433963 , -0.13118084, -0.13840913, -0.13840913, -0.0433963 ,\n",
              "        -0.06142951, -0.0433963 , -0.07530656, -0.18168574, -0.0433963 ,\n",
              "        -0.0433963 , -0.0433963 , -0.07530656, -0.15826614, -0.31491833,\n",
              "        -0.0433963 , -0.08703883, -0.07530656, -0.06142951,  1.38675049,\n",
              "        -0.0433963 , -0.0433963 , -0.06142951, -0.0433963 , -0.0433963 ,\n",
              "        -0.0433963 , -0.0433963 , -0.0433963 , -0.0433963 , -0.0433963 ,\n",
              "        -0.0433963 , -0.39879994, -0.0433963 , -0.18168574, -0.0433963 ,\n",
              "        -0.08703883, -0.08703883, -0.10680283, -0.0433963 , -0.13118084,\n",
              "        -0.0433963 , -0.0433963 , -0.0433963 , -0.0433963 , -0.07530656,\n",
              "        -0.43911856, -0.0433963 , -0.06142951, -0.0433963 , -0.0433963 ,\n",
              "        -0.89632016, -0.0433963 , -0.0433963 ,  1.42222617, -0.0433963 ,\n",
              "        -0.0433963 , -0.0433963 , -0.0433963 , -0.0433963 , -0.0433963 ,\n",
              "        -0.0433963 , -0.0433963 , -0.0433963 ],\n",
              "       [ 0.52494561,  4.48942416, -0.0433963 , -0.0433963 , -0.0433963 ,\n",
              "        -0.06142951, -0.07530656, -0.0433963 , -0.06142951, -0.06142951,\n",
              "        -0.0433963 , -0.0433963 , -0.19245009, -0.06142951, -0.09740465,\n",
              "        -0.0433963 , -0.11547005, -0.07530656, -0.0433963 , -0.0433963 ,\n",
              "        -0.15191091, -0.0433963 , -0.13118084, -0.0433963 , -0.0433963 ,\n",
              "        -0.08703883, -0.0433963 , -0.0433963 , -0.0433963 , -0.0433963 ,\n",
              "        -0.06142951, -0.0433963 , -0.08703883, -0.08703883, -0.08703883,\n",
              "        -0.0433963 , -0.13118084, -0.13840913, -0.13840913, -0.0433963 ,\n",
              "        -0.06142951, -0.0433963 , -0.07530656, -0.18168574, -0.0433963 ,\n",
              "        -0.0433963 , -0.0433963 , -0.07530656, -0.15826614, -0.31491833,\n",
              "        -0.0433963 , -0.08703883, -0.07530656, -0.06142951, -0.72111026,\n",
              "        -0.0433963 , -0.0433963 , -0.06142951, -0.0433963 , -0.0433963 ,\n",
              "        -0.0433963 , -0.0433963 , -0.0433963 , -0.0433963 , -0.0433963 ,\n",
              "        -0.0433963 , -0.39879994, -0.0433963 ,  5.50400923, -0.0433963 ,\n",
              "        -0.08703883, -0.08703883, -0.10680283, -0.0433963 , -0.13118084,\n",
              "        -0.0433963 , -0.0433963 , -0.0433963 , -0.0433963 , -0.07530656,\n",
              "        -0.43911856, -0.0433963 , -0.06142951, -0.0433963 , -0.0433963 ,\n",
              "        -0.89632016, -0.0433963 , -0.0433963 ,  1.42222617, -0.0433963 ,\n",
              "        -0.0433963 , -0.0433963 , -0.0433963 , -0.0433963 , -0.0433963 ,\n",
              "        -0.0433963 , -0.0433963 , -0.0433963 ],\n",
              "       [-0.11671506, -0.15255998, -0.0433963 , -0.0433963 , -0.0433963 ,\n",
              "        -0.06142951, -0.07530656, -0.0433963 , -0.06142951, -0.06142951,\n",
              "        -0.0433963 , -0.0433963 , -0.19245009, -0.06142951, -0.09740465,\n",
              "        -0.0433963 , -0.11547005, -0.07530656, -0.0433963 , -0.0433963 ,\n",
              "        -0.15191091, -0.0433963 , -0.13118084, -0.0433963 , -0.0433963 ,\n",
              "        -0.08703883, -0.0433963 , -0.0433963 , -0.0433963 , -0.0433963 ,\n",
              "        -0.06142951, -0.0433963 , -0.08703883, -0.08703883, -0.08703883,\n",
              "        -0.0433963 , -0.13118084, -0.13840913, -0.13840913, -0.0433963 ,\n",
              "        -0.06142951, -0.0433963 , -0.07530656, -0.18168574, -0.0433963 ,\n",
              "        -0.0433963 , -0.0433963 , -0.07530656, -0.15826614,  3.17542648,\n",
              "        -0.0433963 , -0.08703883, -0.07530656, -0.06142951, -0.72111026,\n",
              "        -0.0433963 , -0.0433963 , -0.06142951, -0.0433963 , -0.0433963 ,\n",
              "        -0.0433963 , -0.0433963 , -0.0433963 , -0.0433963 , -0.0433963 ,\n",
              "        -0.0433963 , -0.39879994, -0.0433963 , -0.18168574, -0.0433963 ,\n",
              "        -0.08703883, -0.08703883, -0.10680283, -0.0433963 , -0.13118084,\n",
              "        -0.0433963 , -0.0433963 , -0.0433963 , -0.0433963 , -0.07530656,\n",
              "        -0.43911856, -0.0433963 , -0.06142951, -0.0433963 , -0.0433963 ,\n",
              "         1.11567277, -0.0433963 , -0.0433963 , -0.70312305, -0.0433963 ,\n",
              "        -0.0433963 , -0.0433963 , -0.0433963 , -0.0433963 , -0.0433963 ,\n",
              "        -0.0433963 , -0.0433963 , -0.0433963 ],\n",
              "       [-0.11474682, -0.1528703 , -0.0433963 , -0.0433963 , -0.0433963 ,\n",
              "        -0.06142951, -0.07530656, -0.0433963 , -0.06142951, -0.06142951,\n",
              "        -0.0433963 , -0.0433963 , -0.19245009, -0.06142951, -0.09740465,\n",
              "        -0.0433963 , -0.11547005, -0.07530656, -0.0433963 , -0.0433963 ,\n",
              "        -0.15191091, -0.0433963 ,  7.62306442, -0.0433963 , -0.0433963 ,\n",
              "        -0.08703883, -0.0433963 , -0.0433963 , -0.0433963 , -0.0433963 ,\n",
              "        -0.06142951, -0.0433963 , -0.08703883, -0.08703883, -0.08703883,\n",
              "        -0.0433963 , -0.13118084, -0.13840913, -0.13840913, -0.0433963 ,\n",
              "        -0.06142951, -0.0433963 , -0.07530656, -0.18168574, -0.0433963 ,\n",
              "        -0.0433963 , -0.0433963 , -0.07530656, -0.15826614, -0.31491833,\n",
              "        -0.0433963 , -0.08703883, -0.07530656, -0.06142951, -0.72111026,\n",
              "        -0.0433963 , -0.0433963 , -0.06142951, -0.0433963 , -0.0433963 ,\n",
              "        -0.0433963 , -0.0433963 , -0.0433963 , -0.0433963 , -0.0433963 ,\n",
              "        -0.0433963 , -0.39879994, -0.0433963 , -0.18168574, -0.0433963 ,\n",
              "        -0.08703883, -0.08703883, -0.10680283, -0.0433963 , -0.13118084,\n",
              "        -0.0433963 , -0.0433963 , -0.0433963 , -0.0433963 , -0.07530656,\n",
              "        -0.43911856, -0.0433963 , -0.06142951, -0.0433963 , -0.0433963 ,\n",
              "         1.11567277, -0.0433963 , -0.0433963 , -0.70312305, -0.0433963 ,\n",
              "        -0.0433963 , -0.0433963 , -0.0433963 , -0.0433963 , -0.0433963 ,\n",
              "        -0.0433963 , -0.0433963 , -0.0433963 ]])"
            ]
          },
          "metadata": {},
          "execution_count": 14
        }
      ],
      "metadata": {
        "id": "RtP4ziZCjTR3"
      }
    },
    {
      "cell_type": "markdown",
      "source": [
        "### Deliverable 2: Reducing Data Dimensions Using PCA"
      ],
      "metadata": {
        "id": "E3ObuxuxjTR4"
      }
    },
    {
      "cell_type": "code",
      "execution_count": 15,
      "source": [
        "# Using PCA to reduce dimension to three principal components.\r\n",
        "pca = PCA(n_components=3)\r\n",
        "crypto_pca = pca.fit_transform(crypto_scaled)\r\n",
        "crypto_pca"
      ],
      "outputs": [
        {
          "output_type": "execute_result",
          "data": {
            "text/plain": [
              "array([[-0.33287167,  1.03132598, -0.49739632],\n",
              "       [-0.31622386,  1.03129731, -0.49759735],\n",
              "       [ 2.30385459,  1.5940128 , -0.53788469],\n",
              "       ...,\n",
              "       [ 0.32536433, -2.28677541,  0.36106248],\n",
              "       [-0.13769859, -1.94749524,  0.38065472],\n",
              "       [-0.29703974,  0.75850117, -0.1921995 ]])"
            ]
          },
          "metadata": {},
          "execution_count": 15
        }
      ],
      "metadata": {
        "id": "XAuo_xkejTR6"
      }
    },
    {
      "cell_type": "code",
      "execution_count": 16,
      "source": [
        "# Create a DataFrame with the three principal components.\r\n",
        "pcs_df = pd.DataFrame(crypto_pca, columns=[\"PC 1\", \"PC 2\", \"PC 3\"], index=crypto_df.index)\r\n",
        "print(pcs_df.shape)\r\n",
        "pcs_df.head(10)"
      ],
      "outputs": [
        {
          "output_type": "stream",
          "name": "stdout",
          "text": [
            "(532, 3)\n"
          ]
        },
        {
          "output_type": "execute_result",
          "data": {
            "text/plain": [
              "          PC 1      PC 2      PC 3\n",
              "42   -0.332872  1.031326 -0.497396\n",
              "404  -0.316224  1.031297 -0.497597\n",
              "1337  2.303855  1.594013 -0.537885\n",
              "BTC  -0.144854 -1.318368  0.191856\n",
              "ETH  -0.155989 -2.014666  0.321407\n",
              "LTC  -0.163466 -1.106048 -0.004958\n",
              "DASH -0.392066  1.251805 -0.494807\n",
              "XMR  -0.144529 -2.148720  0.271452\n",
              "ETC  -0.154433 -2.014782  0.321399\n",
              "ZEC  -0.137698 -1.947495  0.380655"
            ],
            "text/html": [
              "<div>\n",
              "<style scoped>\n",
              "    .dataframe tbody tr th:only-of-type {\n",
              "        vertical-align: middle;\n",
              "    }\n",
              "\n",
              "    .dataframe tbody tr th {\n",
              "        vertical-align: top;\n",
              "    }\n",
              "\n",
              "    .dataframe thead th {\n",
              "        text-align: right;\n",
              "    }\n",
              "</style>\n",
              "<table border=\"1\" class=\"dataframe\">\n",
              "  <thead>\n",
              "    <tr style=\"text-align: right;\">\n",
              "      <th></th>\n",
              "      <th>PC 1</th>\n",
              "      <th>PC 2</th>\n",
              "      <th>PC 3</th>\n",
              "    </tr>\n",
              "  </thead>\n",
              "  <tbody>\n",
              "    <tr>\n",
              "      <th>42</th>\n",
              "      <td>-0.332872</td>\n",
              "      <td>1.031326</td>\n",
              "      <td>-0.497396</td>\n",
              "    </tr>\n",
              "    <tr>\n",
              "      <th>404</th>\n",
              "      <td>-0.316224</td>\n",
              "      <td>1.031297</td>\n",
              "      <td>-0.497597</td>\n",
              "    </tr>\n",
              "    <tr>\n",
              "      <th>1337</th>\n",
              "      <td>2.303855</td>\n",
              "      <td>1.594013</td>\n",
              "      <td>-0.537885</td>\n",
              "    </tr>\n",
              "    <tr>\n",
              "      <th>BTC</th>\n",
              "      <td>-0.144854</td>\n",
              "      <td>-1.318368</td>\n",
              "      <td>0.191856</td>\n",
              "    </tr>\n",
              "    <tr>\n",
              "      <th>ETH</th>\n",
              "      <td>-0.155989</td>\n",
              "      <td>-2.014666</td>\n",
              "      <td>0.321407</td>\n",
              "    </tr>\n",
              "    <tr>\n",
              "      <th>LTC</th>\n",
              "      <td>-0.163466</td>\n",
              "      <td>-1.106048</td>\n",
              "      <td>-0.004958</td>\n",
              "    </tr>\n",
              "    <tr>\n",
              "      <th>DASH</th>\n",
              "      <td>-0.392066</td>\n",
              "      <td>1.251805</td>\n",
              "      <td>-0.494807</td>\n",
              "    </tr>\n",
              "    <tr>\n",
              "      <th>XMR</th>\n",
              "      <td>-0.144529</td>\n",
              "      <td>-2.148720</td>\n",
              "      <td>0.271452</td>\n",
              "    </tr>\n",
              "    <tr>\n",
              "      <th>ETC</th>\n",
              "      <td>-0.154433</td>\n",
              "      <td>-2.014782</td>\n",
              "      <td>0.321399</td>\n",
              "    </tr>\n",
              "    <tr>\n",
              "      <th>ZEC</th>\n",
              "      <td>-0.137698</td>\n",
              "      <td>-1.947495</td>\n",
              "      <td>0.380655</td>\n",
              "    </tr>\n",
              "  </tbody>\n",
              "</table>\n",
              "</div>"
            ]
          },
          "metadata": {},
          "execution_count": 16
        }
      ],
      "metadata": {
        "id": "Uo02yWJNjTR7"
      }
    },
    {
      "cell_type": "markdown",
      "source": [
        "### Deliverable 3: Clustering Crytocurrencies Using K-Means\n",
        "\n",
        "#### Finding the Best Value for `k` Using the Elbow Curve"
      ],
      "metadata": {
        "id": "gy45IIjIjTR8"
      }
    },
    {
      "cell_type": "code",
      "execution_count": 17,
      "source": [
        "# Create an elbow curve to find the best value for K.\r\n",
        "inertia = []\r\n",
        "k = list(range(1,11))\r\n",
        "for i in k:\r\n",
        "    km = KMeans(n_clusters=i, random_state=0)\r\n",
        "    km.fit(pcs_df)\r\n",
        "    inertia.append(km.inertia_)\r\n",
        "elbow_data = {\"k\": k, \"inertia\": inertia}\r\n",
        "elbow_df = pd.DataFrame(elbow_data)\r\n",
        "elbow_df.hvplot.line(x=\"k\", y=\"inertia\", title=\"Elbow Curve\", xticks=k)"
      ],
      "outputs": [
        {
          "output_type": "stream",
          "name": "stderr",
          "text": [
            "C:\\Users\\laure\\anaconda3\\envs\\PythonData\\lib\\site-packages\\sklearn\\cluster\\_kmeans.py:882: UserWarning: KMeans is known to have a memory leak on Windows with MKL, when there are less chunks than available threads. You can avoid it by setting the environment variable OMP_NUM_THREADS=3.\n",
            "  f\"KMeans is known to have a memory leak on Windows \"\n"
          ]
        },
        {
          "output_type": "display_data",
          "data": {},
          "metadata": {}
        },
        {
          "output_type": "execute_result",
          "data": {
            "application/vnd.holoviews_exec.v0+json": "",
            "text/plain": [
              ":Curve   [k]   (inertia)"
            ],
            "text/html": [
              "<div id='1002'>\n",
              "\n",
              "\n",
              "\n",
              "\n",
              "\n",
              "  <div class=\"bk-root\" id=\"e781c309-3cb5-4175-a50d-73b4e1a12dc7\" data-root-id=\"1002\"></div>\n",
              "</div>\n",
              "<script type=\"application/javascript\">(function(root) {\n",
              "  function embed_document(root) {\n",
              "    var docs_json = {\"ec76f3f0-a9bc-489b-a386-f261cc0eefc6\":{\"defs\":[{\"extends\":null,\"module\":null,\"name\":\"ReactiveHTML1\",\"overrides\":[],\"properties\":[]},{\"extends\":null,\"module\":null,\"name\":\"FlexBox1\",\"overrides\":[],\"properties\":[{\"default\":\"flex-start\",\"kind\":null,\"name\":\"align_content\"},{\"default\":\"flex-start\",\"kind\":null,\"name\":\"align_items\"},{\"default\":\"row\",\"kind\":null,\"name\":\"flex_direction\"},{\"default\":\"wrap\",\"kind\":null,\"name\":\"flex_wrap\"},{\"default\":\"flex-start\",\"kind\":null,\"name\":\"justify_content\"}]},{\"extends\":null,\"module\":null,\"name\":\"TemplateActions1\",\"overrides\":[],\"properties\":[{\"default\":0,\"kind\":null,\"name\":\"open_modal\"},{\"default\":0,\"kind\":null,\"name\":\"close_modal\"}]},{\"extends\":null,\"module\":null,\"name\":\"MaterialTemplateActions1\",\"overrides\":[],\"properties\":[{\"default\":0,\"kind\":null,\"name\":\"open_modal\"},{\"default\":0,\"kind\":null,\"name\":\"close_modal\"}]}],\"roots\":{\"references\":[{\"attributes\":{},\"id\":\"1012\",\"type\":\"LinearScale\"},{\"attributes\":{\"axis\":{\"id\":\"1016\"},\"grid_line_color\":null,\"ticker\":null},\"id\":\"1019\",\"type\":\"Grid\"},{\"attributes\":{},\"id\":\"1014\",\"type\":\"LinearScale\"},{\"attributes\":{\"axis_label\":\"inertia\",\"formatter\":{\"id\":\"1052\"},\"major_label_policy\":{\"id\":\"1054\"},\"ticker\":{\"id\":\"1021\"}},\"id\":\"1020\",\"type\":\"LinearAxis\"},{\"attributes\":{},\"id\":\"1054\",\"type\":\"AllLabels\"},{\"attributes\":{\"axis_label\":\"k\",\"formatter\":{\"id\":\"1047\"},\"major_label_policy\":{\"id\":\"1049\"},\"ticker\":{\"id\":\"1046\"}},\"id\":\"1016\",\"type\":\"LinearAxis\"},{\"attributes\":{\"line_alpha\":0.1,\"line_color\":\"#30a2da\",\"line_width\":2,\"x\":{\"field\":\"k\"},\"y\":{\"field\":\"inertia\"}},\"id\":\"1041\",\"type\":\"Line\"},{\"attributes\":{},\"id\":\"1052\",\"type\":\"BasicTickFormatter\"},{\"attributes\":{\"active_multi\":null,\"tools\":[{\"id\":\"1006\"},{\"id\":\"1024\"},{\"id\":\"1025\"},{\"id\":\"1026\"},{\"id\":\"1027\"},{\"id\":\"1028\"}]},\"id\":\"1030\",\"type\":\"Toolbar\"},{\"attributes\":{},\"id\":\"1021\",\"type\":\"BasicTicker\"},{\"attributes\":{\"axis\":{\"id\":\"1020\"},\"dimension\":1,\"grid_line_color\":null,\"ticker\":null},\"id\":\"1023\",\"type\":\"Grid\"},{\"attributes\":{\"below\":[{\"id\":\"1016\"}],\"center\":[{\"id\":\"1019\"},{\"id\":\"1023\"}],\"height\":300,\"left\":[{\"id\":\"1020\"}],\"margin\":[5,5,5,5],\"min_border_bottom\":10,\"min_border_left\":10,\"min_border_right\":10,\"min_border_top\":10,\"renderers\":[{\"id\":\"1043\"}],\"sizing_mode\":\"fixed\",\"title\":{\"id\":\"1008\"},\"toolbar\":{\"id\":\"1030\"},\"width\":700,\"x_range\":{\"id\":\"1004\"},\"x_scale\":{\"id\":\"1012\"},\"y_range\":{\"id\":\"1005\"},\"y_scale\":{\"id\":\"1014\"}},\"id\":\"1007\",\"subtype\":\"Figure\",\"type\":\"Plot\"},{\"attributes\":{\"source\":{\"id\":\"1037\"}},\"id\":\"1044\",\"type\":\"CDSView\"},{\"attributes\":{\"line_alpha\":0.2,\"line_color\":\"#30a2da\",\"line_width\":2,\"x\":{\"field\":\"k\"},\"y\":{\"field\":\"inertia\"}},\"id\":\"1042\",\"type\":\"Line\"},{\"attributes\":{\"bottom_units\":\"screen\",\"fill_alpha\":0.5,\"fill_color\":\"lightgrey\",\"left_units\":\"screen\",\"level\":\"overlay\",\"line_alpha\":1.0,\"line_color\":\"black\",\"line_dash\":[4,4],\"line_width\":2,\"right_units\":\"screen\",\"syncable\":false,\"top_units\":\"screen\"},\"id\":\"1029\",\"type\":\"BoxAnnotation\"},{\"attributes\":{\"margin\":[5,5,5,5],\"name\":\"HSpacer01631\",\"sizing_mode\":\"stretch_width\"},\"id\":\"1003\",\"type\":\"Spacer\"},{\"attributes\":{\"end\":3990.687010120105,\"reset_end\":3990.687010120105,\"reset_start\":-225.38715437852005,\"start\":-225.38715437852005,\"tags\":[[[\"inertia\",\"inertia\",null]]]},\"id\":\"1005\",\"type\":\"Range1d\"},{\"attributes\":{\"callback\":null,\"renderers\":[{\"id\":\"1043\"}],\"tags\":[\"hv_created\"],\"tooltips\":[[\"k\",\"@{k}\"],[\"inertia\",\"@{inertia}\"]]},\"id\":\"1006\",\"type\":\"HoverTool\"},{\"attributes\":{\"line_color\":\"#30a2da\",\"line_width\":2,\"x\":{\"field\":\"k\"},\"y\":{\"field\":\"inertia\"}},\"id\":\"1045\",\"type\":\"Line\"},{\"attributes\":{\"data_source\":{\"id\":\"1037\"},\"glyph\":{\"id\":\"1040\"},\"hover_glyph\":null,\"muted_glyph\":{\"id\":\"1042\"},\"nonselection_glyph\":{\"id\":\"1041\"},\"selection_glyph\":{\"id\":\"1045\"},\"view\":{\"id\":\"1044\"}},\"id\":\"1043\",\"type\":\"GlyphRenderer\"},{\"attributes\":{\"ticks\":[1,2,3,4,5,6,7,8,9,10]},\"id\":\"1046\",\"type\":\"FixedTicker\"},{\"attributes\":{},\"id\":\"1024\",\"type\":\"SaveTool\"},{\"attributes\":{\"margin\":[5,5,5,5],\"name\":\"HSpacer01632\",\"sizing_mode\":\"stretch_width\"},\"id\":\"1073\",\"type\":\"Spacer\"},{\"attributes\":{},\"id\":\"1025\",\"type\":\"PanTool\"},{\"attributes\":{},\"id\":\"1028\",\"type\":\"ResetTool\"},{\"attributes\":{\"data\":{\"inertia\":{\"__ndarray__\":\"DrkM67FurEDJ06qlQlmjQHIzdpgRQJdAnbTyUaRtgEC1RBxrvh91QLOIRGJVPnFAFc9Gyo+La0AZZ1KtprpmQDRZqf/uS2NALcaLdPN8X0A=\",\"dtype\":\"float64\",\"order\":\"little\",\"shape\":[10]},\"k\":[1,2,3,4,5,6,7,8,9,10]},\"selected\":{\"id\":\"1038\"},\"selection_policy\":{\"id\":\"1062\"}},\"id\":\"1037\",\"type\":\"ColumnDataSource\"},{\"attributes\":{},\"id\":\"1026\",\"type\":\"WheelZoomTool\"},{\"attributes\":{\"line_color\":\"#30a2da\",\"line_width\":2,\"x\":{\"field\":\"k\"},\"y\":{\"field\":\"inertia\"}},\"id\":\"1040\",\"type\":\"Line\"},{\"attributes\":{},\"id\":\"1049\",\"type\":\"AllLabels\"},{\"attributes\":{\"overlay\":{\"id\":\"1029\"}},\"id\":\"1027\",\"type\":\"BoxZoomTool\"},{\"attributes\":{},\"id\":\"1062\",\"type\":\"UnionRenderers\"},{\"attributes\":{\"end\":10.0,\"reset_end\":10.0,\"reset_start\":1.0,\"start\":1.0,\"tags\":[[[\"k\",\"k\",null]]]},\"id\":\"1004\",\"type\":\"Range1d\"},{\"attributes\":{\"text\":\"Elbow Curve\",\"text_color\":\"black\",\"text_font_size\":\"12pt\"},\"id\":\"1008\",\"type\":\"Title\"},{\"attributes\":{},\"id\":\"1038\",\"type\":\"Selection\"},{\"attributes\":{\"children\":[{\"id\":\"1003\"},{\"id\":\"1007\"},{\"id\":\"1073\"}],\"margin\":[0,0,0,0],\"name\":\"Row01627\",\"tags\":[\"embedded\"]},\"id\":\"1002\",\"type\":\"Row\"},{\"attributes\":{},\"id\":\"1047\",\"type\":\"BasicTickFormatter\"}],\"root_ids\":[\"1002\"]},\"title\":\"Bokeh Application\",\"version\":\"2.3.2\"}};\n",
              "    var render_items = [{\"docid\":\"ec76f3f0-a9bc-489b-a386-f261cc0eefc6\",\"root_ids\":[\"1002\"],\"roots\":{\"1002\":\"e781c309-3cb5-4175-a50d-73b4e1a12dc7\"}}];\n",
              "    root.Bokeh.embed.embed_items_notebook(docs_json, render_items);\n",
              "  }\n",
              "  if (root.Bokeh !== undefined && root.Bokeh.Panel !== undefined) {\n",
              "    embed_document(root);\n",
              "  } else {\n",
              "    var attempts = 0;\n",
              "    var timer = setInterval(function(root) {\n",
              "      if (root.Bokeh !== undefined && root.Bokeh.Panel !== undefined) {\n",
              "        clearInterval(timer);\n",
              "        embed_document(root);\n",
              "      } else if (document.readyState == \"complete\") {\n",
              "        attempts++;\n",
              "        if (attempts > 200) {\n",
              "          clearInterval(timer);\n",
              "          console.log(\"Bokeh: ERROR: Unable to run BokehJS code because BokehJS library is missing\");\n",
              "        }\n",
              "      }\n",
              "    }, 25, root)\n",
              "  }\n",
              "})(window);</script>"
            ]
          },
          "metadata": {
            "application/vnd.holoviews_exec.v0+json": {
              "id": "1002"
            }
          },
          "execution_count": 17
        }
      ],
      "metadata": {
        "id": "0zmAVarcjTR9"
      }
    },
    {
      "cell_type": "markdown",
      "source": [
        "Running K-Means with `k=4`"
      ],
      "metadata": {
        "id": "pttoeGJ9jTR-"
      }
    },
    {
      "cell_type": "code",
      "execution_count": 18,
      "source": [
        "# Initialize the K-Means model.\r\n",
        "model = KMeans(n_clusters=4, random_state=0)\r\n",
        "\r\n",
        "# Fit the model\r\n",
        "model.fit(pcs_df)\r\n",
        "\r\n",
        "# Predict clusters\r\n",
        "predictions = model.predict(pcs_df)\r\n",
        "predictions"
      ],
      "outputs": [
        {
          "output_type": "execute_result",
          "data": {
            "text/plain": [
              "array([0, 0, 0, 3, 3, 3, 0, 3, 3, 3, 0, 3, 0, 0, 3, 0, 3, 3, 0, 0, 3, 3,\n",
              "       3, 3, 3, 0, 3, 3, 3, 0, 3, 0, 3, 3, 0, 0, 3, 3, 3, 3, 3, 3, 0, 0,\n",
              "       3, 3, 3, 3, 3, 0, 0, 3, 0, 3, 3, 3, 3, 0, 3, 3, 0, 3, 0, 0, 0, 3,\n",
              "       3, 3, 0, 0, 0, 0, 0, 3, 3, 3, 0, 0, 3, 0, 3, 0, 0, 3, 3, 3, 3, 0,\n",
              "       0, 3, 0, 3, 3, 0, 0, 3, 0, 0, 3, 3, 3, 0, 3, 0, 0, 3, 0, 3, 0, 3,\n",
              "       0, 3, 0, 0, 3, 3, 0, 3, 3, 3, 0, 3, 3, 3, 3, 3, 0, 0, 3, 3, 3, 0,\n",
              "       3, 0, 3, 3, 0, 3, 0, 3, 0, 0, 3, 3, 0, 3, 3, 0, 0, 3, 0, 3, 0, 0,\n",
              "       0, 3, 3, 3, 3, 0, 0, 0, 0, 0, 3, 3, 0, 0, 0, 0, 0, 3, 0, 0, 0, 0,\n",
              "       0, 3, 0, 3, 0, 0, 3, 0, 3, 0, 0, 3, 0, 3, 0, 3, 0, 3, 0, 0, 0, 0,\n",
              "       3, 0, 0, 0, 0, 0, 3, 3, 0, 0, 3, 3, 0, 0, 0, 0, 0, 3, 0, 0, 0, 0,\n",
              "       0, 0, 0, 0, 3, 0, 0, 0, 0, 0, 0, 3, 3, 3, 0, 0, 0, 0, 3, 0, 3, 0,\n",
              "       0, 3, 0, 3, 3, 0, 3, 3, 0, 3, 0, 0, 0, 3, 0, 0, 3, 0, 0, 0, 0, 0,\n",
              "       0, 0, 3, 0, 3, 0, 0, 0, 0, 3, 0, 3, 0, 3, 3, 3, 3, 0, 3, 0, 0, 3,\n",
              "       0, 3, 3, 3, 0, 3, 0, 3, 3, 3, 0, 3, 0, 3, 0, 0, 0, 3, 0, 3, 3, 3,\n",
              "       3, 3, 0, 0, 3, 0, 0, 0, 3, 0, 3, 0, 3, 0, 3, 0, 0, 0, 0, 3, 0, 0,\n",
              "       3, 0, 0, 0, 3, 3, 3, 3, 0, 0, 0, 0, 3, 0, 3, 3, 3, 0, 0, 3, 3, 0,\n",
              "       0, 3, 0, 3, 3, 3, 0, 3, 3, 0, 0, 0, 3, 3, 3, 0, 3, 0, 3, 3, 0, 3,\n",
              "       3, 3, 3, 0, 1, 0, 3, 3, 3, 0, 1, 0, 0, 0, 0, 3, 3, 3, 3, 0, 0, 0,\n",
              "       3, 0, 3, 0, 0, 0, 0, 3, 0, 0, 3, 0, 0, 3, 3, 0, 3, 0, 3, 3, 3, 3,\n",
              "       0, 0, 3, 0, 3, 0, 0, 0, 0, 0, 0, 3, 3, 3, 0, 0, 0, 0, 0, 0, 3, 0,\n",
              "       3, 3, 3, 3, 0, 0, 0, 0, 3, 0, 0, 3, 0, 0, 3, 1, 3, 0, 3, 3, 0, 0,\n",
              "       3, 0, 3, 3, 0, 3, 3, 0, 3, 0, 3, 0, 0, 3, 0, 0, 0, 0, 0, 3, 3, 3,\n",
              "       0, 0, 0, 3, 0, 3, 0, 3, 0, 0, 0, 0, 3, 0, 0, 0, 3, 0, 3, 0, 3, 0,\n",
              "       0, 0, 3, 3, 0, 0, 0, 0, 0, 0, 3, 0, 3, 0, 3, 0, 0, 0, 0, 2, 0, 0,\n",
              "       0, 3, 3, 0])"
            ]
          },
          "metadata": {},
          "execution_count": 18
        }
      ],
      "metadata": {
        "id": "XmEyFKszjTR_"
      }
    },
    {
      "cell_type": "code",
      "execution_count": 19,
      "source": [
        "# Create a new DataFrame including predicted clusters and cryptocurrencies features.\r\n",
        "# Concatentate the crypto_df and pcs_df DataFrames on the same columns.\r\n",
        "clustered_df = pd.concat([crypto_df, pcs_df], axis=1, join ='inner')\r\n",
        "\r\n",
        "#  Add a new column, \"CoinName\" to the clustered_df DataFrame that holds the names of the cryptocurrencies. \r\n",
        "clustered_df['CoinName']=crypto_df_CoinName.CoinName\r\n",
        "\r\n",
        "#  Add a new column, \"Class\" to the clustered_df DataFrame that holds the predictions.\r\n",
        "clustered_df['Class'] = model.labels_\r\n",
        "\r\n",
        "# Print the shape of the clustered_df\r\n",
        "print(clustered_df.shape)\r\n",
        "clustered_df.head(10)"
      ],
      "outputs": [
        {
          "output_type": "stream",
          "name": "stdout",
          "text": [
            "(532, 9)\n"
          ]
        },
        {
          "output_type": "execute_result",
          "data": {
            "text/plain": [
              "           Algorithm ProofType  TotalCoinsMined TotalCoinSupply      PC 1  \\\n",
              "42            Scrypt   PoW/PoS     4.199995e+01              42 -0.332872   \n",
              "404           Scrypt   PoW/PoS     1.055185e+09       532000000 -0.316224   \n",
              "1337             X13   PoW/PoS     2.927942e+10    314159265359  2.303855   \n",
              "BTC          SHA-256       PoW     1.792718e+07        21000000 -0.144854   \n",
              "ETH           Ethash       PoW     1.076842e+08               0 -0.155989   \n",
              "LTC           Scrypt       PoW     6.303924e+07        84000000 -0.163466   \n",
              "DASH             X11   PoW/PoS     9.031294e+06        22000000 -0.392066   \n",
              "XMR   CryptoNight-V7       PoW     1.720114e+07               0 -0.144529   \n",
              "ETC           Ethash       PoW     1.133597e+08       210000000 -0.154433   \n",
              "ZEC         Equihash       PoW     7.383056e+06        21000000 -0.137698   \n",
              "\n",
              "          PC 2      PC 3          CoinName  Class  \n",
              "42    1.031326 -0.497396           42 Coin      0  \n",
              "404   1.031297 -0.497597           404Coin      0  \n",
              "1337  1.594013 -0.537885         EliteCoin      0  \n",
              "BTC  -1.318368  0.191856           Bitcoin      3  \n",
              "ETH  -2.014666  0.321407          Ethereum      3  \n",
              "LTC  -1.106048 -0.004958          Litecoin      3  \n",
              "DASH  1.251805 -0.494807              Dash      0  \n",
              "XMR  -2.148720  0.271452            Monero      3  \n",
              "ETC  -2.014782  0.321399  Ethereum Classic      3  \n",
              "ZEC  -1.947495  0.380655             ZCash      3  "
            ],
            "text/html": [
              "<div>\n",
              "<style scoped>\n",
              "    .dataframe tbody tr th:only-of-type {\n",
              "        vertical-align: middle;\n",
              "    }\n",
              "\n",
              "    .dataframe tbody tr th {\n",
              "        vertical-align: top;\n",
              "    }\n",
              "\n",
              "    .dataframe thead th {\n",
              "        text-align: right;\n",
              "    }\n",
              "</style>\n",
              "<table border=\"1\" class=\"dataframe\">\n",
              "  <thead>\n",
              "    <tr style=\"text-align: right;\">\n",
              "      <th></th>\n",
              "      <th>Algorithm</th>\n",
              "      <th>ProofType</th>\n",
              "      <th>TotalCoinsMined</th>\n",
              "      <th>TotalCoinSupply</th>\n",
              "      <th>PC 1</th>\n",
              "      <th>PC 2</th>\n",
              "      <th>PC 3</th>\n",
              "      <th>CoinName</th>\n",
              "      <th>Class</th>\n",
              "    </tr>\n",
              "  </thead>\n",
              "  <tbody>\n",
              "    <tr>\n",
              "      <th>42</th>\n",
              "      <td>Scrypt</td>\n",
              "      <td>PoW/PoS</td>\n",
              "      <td>4.199995e+01</td>\n",
              "      <td>42</td>\n",
              "      <td>-0.332872</td>\n",
              "      <td>1.031326</td>\n",
              "      <td>-0.497396</td>\n",
              "      <td>42 Coin</td>\n",
              "      <td>0</td>\n",
              "    </tr>\n",
              "    <tr>\n",
              "      <th>404</th>\n",
              "      <td>Scrypt</td>\n",
              "      <td>PoW/PoS</td>\n",
              "      <td>1.055185e+09</td>\n",
              "      <td>532000000</td>\n",
              "      <td>-0.316224</td>\n",
              "      <td>1.031297</td>\n",
              "      <td>-0.497597</td>\n",
              "      <td>404Coin</td>\n",
              "      <td>0</td>\n",
              "    </tr>\n",
              "    <tr>\n",
              "      <th>1337</th>\n",
              "      <td>X13</td>\n",
              "      <td>PoW/PoS</td>\n",
              "      <td>2.927942e+10</td>\n",
              "      <td>314159265359</td>\n",
              "      <td>2.303855</td>\n",
              "      <td>1.594013</td>\n",
              "      <td>-0.537885</td>\n",
              "      <td>EliteCoin</td>\n",
              "      <td>0</td>\n",
              "    </tr>\n",
              "    <tr>\n",
              "      <th>BTC</th>\n",
              "      <td>SHA-256</td>\n",
              "      <td>PoW</td>\n",
              "      <td>1.792718e+07</td>\n",
              "      <td>21000000</td>\n",
              "      <td>-0.144854</td>\n",
              "      <td>-1.318368</td>\n",
              "      <td>0.191856</td>\n",
              "      <td>Bitcoin</td>\n",
              "      <td>3</td>\n",
              "    </tr>\n",
              "    <tr>\n",
              "      <th>ETH</th>\n",
              "      <td>Ethash</td>\n",
              "      <td>PoW</td>\n",
              "      <td>1.076842e+08</td>\n",
              "      <td>0</td>\n",
              "      <td>-0.155989</td>\n",
              "      <td>-2.014666</td>\n",
              "      <td>0.321407</td>\n",
              "      <td>Ethereum</td>\n",
              "      <td>3</td>\n",
              "    </tr>\n",
              "    <tr>\n",
              "      <th>LTC</th>\n",
              "      <td>Scrypt</td>\n",
              "      <td>PoW</td>\n",
              "      <td>6.303924e+07</td>\n",
              "      <td>84000000</td>\n",
              "      <td>-0.163466</td>\n",
              "      <td>-1.106048</td>\n",
              "      <td>-0.004958</td>\n",
              "      <td>Litecoin</td>\n",
              "      <td>3</td>\n",
              "    </tr>\n",
              "    <tr>\n",
              "      <th>DASH</th>\n",
              "      <td>X11</td>\n",
              "      <td>PoW/PoS</td>\n",
              "      <td>9.031294e+06</td>\n",
              "      <td>22000000</td>\n",
              "      <td>-0.392066</td>\n",
              "      <td>1.251805</td>\n",
              "      <td>-0.494807</td>\n",
              "      <td>Dash</td>\n",
              "      <td>0</td>\n",
              "    </tr>\n",
              "    <tr>\n",
              "      <th>XMR</th>\n",
              "      <td>CryptoNight-V7</td>\n",
              "      <td>PoW</td>\n",
              "      <td>1.720114e+07</td>\n",
              "      <td>0</td>\n",
              "      <td>-0.144529</td>\n",
              "      <td>-2.148720</td>\n",
              "      <td>0.271452</td>\n",
              "      <td>Monero</td>\n",
              "      <td>3</td>\n",
              "    </tr>\n",
              "    <tr>\n",
              "      <th>ETC</th>\n",
              "      <td>Ethash</td>\n",
              "      <td>PoW</td>\n",
              "      <td>1.133597e+08</td>\n",
              "      <td>210000000</td>\n",
              "      <td>-0.154433</td>\n",
              "      <td>-2.014782</td>\n",
              "      <td>0.321399</td>\n",
              "      <td>Ethereum Classic</td>\n",
              "      <td>3</td>\n",
              "    </tr>\n",
              "    <tr>\n",
              "      <th>ZEC</th>\n",
              "      <td>Equihash</td>\n",
              "      <td>PoW</td>\n",
              "      <td>7.383056e+06</td>\n",
              "      <td>21000000</td>\n",
              "      <td>-0.137698</td>\n",
              "      <td>-1.947495</td>\n",
              "      <td>0.380655</td>\n",
              "      <td>ZCash</td>\n",
              "      <td>3</td>\n",
              "    </tr>\n",
              "  </tbody>\n",
              "</table>\n",
              "</div>"
            ]
          },
          "metadata": {},
          "execution_count": 19
        }
      ],
      "metadata": {
        "id": "P9YDve5-jTSA"
      }
    },
    {
      "cell_type": "markdown",
      "source": [
        "### Deliverable 4: Visualizing Cryptocurrencies Results\n",
        "\n",
        "#### 3D-Scatter with Clusters"
      ],
      "metadata": {
        "id": "3hBF7UL2jTSC"
      }
    },
    {
      "cell_type": "code",
      "execution_count": 20,
      "source": [
        "# Creating a 3D-Scatter with the PCA data and the clusters\r\n",
        "fig = px.scatter_3d(clustered_df, \r\n",
        "                    x=\"PC 1\", \r\n",
        "                    y=\"PC 2\", \r\n",
        "                    z=\"PC 3\", \r\n",
        "                    color=\"Class\", \r\n",
        "                    symbol=\"Class\",\r\n",
        "                    width=800, \r\n",
        "                    hover_name =\"CoinName\",\r\n",
        "                    hover_data =[\"Algorithm\"])\r\n",
        "fig.update_layout(legend=dict(x=0,y=1))\r\n",
        "fig.show()\r\n",
        "\r\n"
      ],
      "outputs": [
        {
          "output_type": "display_data",
          "data": {
            "application/vnd.plotly.v1+json": {
              "config": {
                "plotlyServerURL": "https://plot.ly"
              },
              "data": [
                {
                  "customdata": [
                    [
                      "Scrypt"
                    ],
                    [
                      "Scrypt"
                    ],
                    [
                      "X13"
                    ],
                    [
                      "X11"
                    ],
                    [
                      "SHA-512"
                    ],
                    [
                      "SHA-256"
                    ],
                    [
                      "SHA-256"
                    ],
                    [
                      "X15"
                    ],
                    [
                      "Scrypt"
                    ],
                    [
                      "Scrypt"
                    ],
                    [
                      "Scrypt"
                    ],
                    [
                      "Scrypt"
                    ],
                    [
                      "Scrypt"
                    ],
                    [
                      "Scrypt"
                    ],
                    [
                      "Groestl"
                    ],
                    [
                      "PoS"
                    ],
                    [
                      "Scrypt"
                    ],
                    [
                      "Scrypt"
                    ],
                    [
                      "X11"
                    ],
                    [
                      "X11"
                    ],
                    [
                      "SHA3"
                    ],
                    [
                      "Scrypt"
                    ],
                    [
                      "SHA-256"
                    ],
                    [
                      "Scrypt"
                    ],
                    [
                      "X13"
                    ],
                    [
                      "X13"
                    ],
                    [
                      "NeoScrypt"
                    ],
                    [
                      "Scrypt"
                    ],
                    [
                      "Scrypt"
                    ],
                    [
                      "Scrypt"
                    ],
                    [
                      "X11"
                    ],
                    [
                      "X11"
                    ],
                    [
                      "Multiple"
                    ],
                    [
                      "PHI1612"
                    ],
                    [
                      "X11"
                    ],
                    [
                      "Scrypt"
                    ],
                    [
                      "Scrypt"
                    ],
                    [
                      "Scrypt"
                    ],
                    [
                      "X11"
                    ],
                    [
                      "Multiple"
                    ],
                    [
                      "X13"
                    ],
                    [
                      "Scrypt"
                    ],
                    [
                      "Counterparty"
                    ],
                    [
                      "SHA-256"
                    ],
                    [
                      "Groestl"
                    ],
                    [
                      "Scrypt"
                    ],
                    [
                      "X13"
                    ],
                    [
                      "Scrypt"
                    ],
                    [
                      "Scrypt"
                    ],
                    [
                      "X13"
                    ],
                    [
                      "X11"
                    ],
                    [
                      "Scrypt"
                    ],
                    [
                      "X11"
                    ],
                    [
                      "SHA3"
                    ],
                    [
                      "QUAIT"
                    ],
                    [
                      "X11"
                    ],
                    [
                      "Scrypt"
                    ],
                    [
                      "X13"
                    ],
                    [
                      "SHA-256"
                    ],
                    [
                      "X15"
                    ],
                    [
                      "BLAKE256"
                    ],
                    [
                      "SHA-256"
                    ],
                    [
                      "X11"
                    ],
                    [
                      "SHA-256"
                    ],
                    [
                      "NIST5"
                    ],
                    [
                      "Scrypt"
                    ],
                    [
                      "Scrypt"
                    ],
                    [
                      "X11"
                    ],
                    [
                      "Scrypt"
                    ],
                    [
                      "SHA-256"
                    ],
                    [
                      "Scrypt"
                    ],
                    [
                      "PoS"
                    ],
                    [
                      "X11"
                    ],
                    [
                      "SHA-256"
                    ],
                    [
                      "SHA-256"
                    ],
                    [
                      "NIST5"
                    ],
                    [
                      "X11"
                    ],
                    [
                      "POS 3.0"
                    ],
                    [
                      "Scrypt"
                    ],
                    [
                      "Scrypt"
                    ],
                    [
                      "Scrypt"
                    ],
                    [
                      "X13"
                    ],
                    [
                      "X11"
                    ],
                    [
                      "X11"
                    ],
                    [
                      "Scrypt"
                    ],
                    [
                      "SHA-256"
                    ],
                    [
                      "X11"
                    ],
                    [
                      "Scrypt"
                    ],
                    [
                      "Scrypt"
                    ],
                    [
                      "Scrypt"
                    ],
                    [
                      "Scrypt"
                    ],
                    [
                      "SHA-256D"
                    ],
                    [
                      "PoS"
                    ],
                    [
                      "Scrypt"
                    ],
                    [
                      "X11"
                    ],
                    [
                      "PoS"
                    ],
                    [
                      "X13"
                    ],
                    [
                      "X14"
                    ],
                    [
                      "PoS"
                    ],
                    [
                      "SHA-256D"
                    ],
                    [
                      "DPoS"
                    ],
                    [
                      "X11"
                    ],
                    [
                      "X13"
                    ],
                    [
                      "X11"
                    ],
                    [
                      "PoS"
                    ],
                    [
                      "Scrypt"
                    ],
                    [
                      "Scrypt"
                    ],
                    [
                      "PoS"
                    ],
                    [
                      "X11"
                    ],
                    [
                      "SHA-256"
                    ],
                    [
                      "Scrypt"
                    ],
                    [
                      "X11"
                    ],
                    [
                      "Scrypt"
                    ],
                    [
                      "Scrypt"
                    ],
                    [
                      "X11"
                    ],
                    [
                      "Scrypt"
                    ],
                    [
                      "Scrypt"
                    ],
                    [
                      "Scrypt"
                    ],
                    [
                      "Scrypt"
                    ],
                    [
                      "Quark"
                    ],
                    [
                      "QuBit"
                    ],
                    [
                      "Scrypt"
                    ],
                    [
                      "SHA-256"
                    ],
                    [
                      "X11"
                    ],
                    [
                      "Scrypt"
                    ],
                    [
                      "Scrypt"
                    ],
                    [
                      "Scrypt"
                    ],
                    [
                      "Scrypt"
                    ],
                    [
                      "X13"
                    ],
                    [
                      "Scrypt"
                    ],
                    [
                      "Scrypt"
                    ],
                    [
                      "X11"
                    ],
                    [
                      "Blake2S"
                    ],
                    [
                      "X11"
                    ],
                    [
                      "PoS"
                    ],
                    [
                      "X11"
                    ],
                    [
                      "PoS"
                    ],
                    [
                      "X11"
                    ],
                    [
                      "Scrypt"
                    ],
                    [
                      "Scrypt"
                    ],
                    [
                      "Scrypt"
                    ],
                    [
                      "SHA-256"
                    ],
                    [
                      "X11"
                    ],
                    [
                      "Scrypt"
                    ],
                    [
                      "PoS"
                    ],
                    [
                      "Scrypt"
                    ],
                    [
                      "X15"
                    ],
                    [
                      "SHA-256"
                    ],
                    [
                      "POS 3.0"
                    ],
                    [
                      "536"
                    ],
                    [
                      "NIST5"
                    ],
                    [
                      "NIST5"
                    ],
                    [
                      "Skein"
                    ],
                    [
                      "X13"
                    ],
                    [
                      "Scrypt"
                    ],
                    [
                      "X13"
                    ],
                    [
                      "SkunkHash v2 Raptor"
                    ],
                    [
                      "Skein"
                    ],
                    [
                      "X11"
                    ],
                    [
                      "Scrypt"
                    ],
                    [
                      "VeChainThor Authority"
                    ],
                    [
                      "PoS"
                    ],
                    [
                      "Scrypt"
                    ],
                    [
                      "Scrypt"
                    ],
                    [
                      "SHA-512"
                    ],
                    [
                      "Ouroboros"
                    ],
                    [
                      "X11"
                    ],
                    [
                      "NeoScrypt"
                    ],
                    [
                      "Scrypt"
                    ],
                    [
                      "Lyra2REv2"
                    ],
                    [
                      "Scrypt"
                    ],
                    [
                      "SHA-256"
                    ],
                    [
                      "NIST5"
                    ],
                    [
                      "PHI1612"
                    ],
                    [
                      "Scrypt"
                    ],
                    [
                      "Quark"
                    ],
                    [
                      "POS 2.0"
                    ],
                    [
                      "Scrypt"
                    ],
                    [
                      "SHA-256"
                    ],
                    [
                      "X11"
                    ],
                    [
                      "DPoS"
                    ],
                    [
                      "NIST5"
                    ],
                    [
                      "X13"
                    ],
                    [
                      "Scrypt"
                    ],
                    [
                      "NIST5"
                    ],
                    [
                      "Quark"
                    ],
                    [
                      "Scrypt"
                    ],
                    [
                      "Scrypt"
                    ],
                    [
                      "X11"
                    ],
                    [
                      "Quark"
                    ],
                    [
                      "Scrypt"
                    ],
                    [
                      "Scrypt"
                    ],
                    [
                      "X11"
                    ],
                    [
                      "POS 3.0"
                    ],
                    [
                      "Scrypt"
                    ],
                    [
                      "Scrypt"
                    ],
                    [
                      "X13"
                    ],
                    [
                      "SHA-256 + Hive"
                    ],
                    [
                      "C11"
                    ],
                    [
                      "X11"
                    ],
                    [
                      "XEVAN"
                    ],
                    [
                      "Scrypt"
                    ],
                    [
                      "VBFT"
                    ],
                    [
                      "NIST5"
                    ],
                    [
                      "Scrypt"
                    ],
                    [
                      "Scrypt"
                    ],
                    [
                      "Scrypt"
                    ],
                    [
                      "Green Protocol"
                    ],
                    [
                      "PoS"
                    ],
                    [
                      "Scrypt"
                    ],
                    [
                      "Semux BFT consensus"
                    ],
                    [
                      "Quark"
                    ],
                    [
                      "PoS"
                    ],
                    [
                      "X16R"
                    ],
                    [
                      "Scrypt"
                    ],
                    [
                      "XEVAN"
                    ],
                    [
                      "Scrypt"
                    ],
                    [
                      "Scrypt"
                    ],
                    [
                      "Scrypt"
                    ],
                    [
                      "SHA-256D"
                    ],
                    [
                      "Scrypt"
                    ],
                    [
                      "X15"
                    ],
                    [
                      "Scrypt"
                    ],
                    [
                      "Quark"
                    ],
                    [
                      "SHA-256"
                    ],
                    [
                      "DPoS"
                    ],
                    [
                      "X16R"
                    ],
                    [
                      "Quark"
                    ],
                    [
                      "Quark"
                    ],
                    [
                      "Scrypt"
                    ],
                    [
                      "Lyra2REv2"
                    ],
                    [
                      "Quark"
                    ],
                    [
                      "Scrypt"
                    ],
                    [
                      "X11"
                    ],
                    [
                      "X11"
                    ],
                    [
                      "Scrypt"
                    ],
                    [
                      "PoS"
                    ],
                    [
                      "Keccak"
                    ],
                    [
                      "X11"
                    ],
                    [
                      "Scrypt"
                    ],
                    [
                      "SHA-512"
                    ],
                    [
                      "XEVAN"
                    ],
                    [
                      "XEVAN"
                    ],
                    [
                      "X11"
                    ],
                    [
                      "Quark"
                    ],
                    [
                      "Equihash"
                    ],
                    [
                      "Scrypt"
                    ],
                    [
                      "Quark"
                    ],
                    [
                      "Quark"
                    ],
                    [
                      "Scrypt"
                    ],
                    [
                      "X11"
                    ],
                    [
                      "Scrypt"
                    ],
                    [
                      "XEVAN"
                    ],
                    [
                      "SHA-256D"
                    ],
                    [
                      "X11"
                    ],
                    [
                      "X11"
                    ],
                    [
                      "DPoS"
                    ],
                    [
                      "Scrypt"
                    ],
                    [
                      "X11"
                    ],
                    [
                      "Scrypt"
                    ],
                    [
                      "Scrypt"
                    ],
                    [
                      "SHA-256"
                    ],
                    [
                      "Scrypt"
                    ],
                    [
                      "X11"
                    ],
                    [
                      "Scrypt"
                    ],
                    [
                      "SHA-256"
                    ],
                    [
                      "X11"
                    ],
                    [
                      "Scrypt"
                    ],
                    [
                      "Scrypt"
                    ],
                    [
                      "X11"
                    ],
                    [
                      "Scrypt"
                    ],
                    [
                      "PoS"
                    ],
                    [
                      "X11"
                    ],
                    [
                      "SHA-256"
                    ],
                    [
                      "DPoS"
                    ],
                    [
                      "Scrypt"
                    ],
                    [
                      "Scrypt"
                    ],
                    [
                      "NeoScrypt"
                    ],
                    [
                      "X13"
                    ],
                    [
                      "DPoS"
                    ],
                    [
                      "DPoS"
                    ],
                    [
                      "SHA-256"
                    ],
                    [
                      "Leased POS"
                    ],
                    [
                      "PoS"
                    ],
                    [
                      "PoS"
                    ],
                    [
                      "SHA-256"
                    ],
                    [
                      "Scrypt"
                    ],
                    [
                      "Scrypt"
                    ]
                  ],
                  "hovertemplate": "<b>%{hovertext}</b><br><br>Class=%{marker.color}<br>PC 1=%{x}<br>PC 2=%{y}<br>PC 3=%{z}<br>Algorithm=%{customdata[0]}<extra></extra>",
                  "hovertext": [
                    "42 Coin",
                    "404Coin",
                    "EliteCoin",
                    "Dash",
                    "Bitshares",
                    "BitcoinDark",
                    "PayCoin",
                    "KoboCoin",
                    "Aurora Coin",
                    "BlueCoin",
                    "EnergyCoin",
                    "BitBar",
                    "CryptoBullion",
                    "CasinoCoin",
                    "Diamond",
                    "Exclusive Coin",
                    "FlutterCoin",
                    "HoboNickels",
                    "HyperStake",
                    "IOCoin",
                    "MaxCoin",
                    "MintCoin",
                    "MazaCoin",
                    "Nautilus Coin",
                    "NavCoin",
                    "OpalCoin",
                    "Orbitcoin",
                    "PotCoin",
                    "PhoenixCoin",
                    "Reddcoin",
                    "SuperCoin",
                    "SyncCoin",
                    "TeslaCoin",
                    "TittieCoin",
                    "TorCoin",
                    "UnitaryStatus Dollar",
                    "UltraCoin",
                    "VeriCoin",
                    "X11 Coin",
                    "Crypti",
                    "StealthCoin",
                    "ZCC Coin",
                    "StorjCoin",
                    "Neutron",
                    "FairCoin",
                    "RubyCoin",
                    "Kore",
                    "Dnotes",
                    "8BIT Coin",
                    "Sativa Coin",
                    "Ucoin",
                    "Vtorrent",
                    "IslaCoin",
                    "Nexus",
                    "Droidz",
                    "Squall Coin",
                    "Diggits",
                    "Paycon",
                    "Emercoin",
                    "EverGreenCoin",
                    "Decred",
                    "EDRCoin",
                    "Hitcoin",
                    "DubaiCoin",
                    "PWR Coin",
                    "BillaryCoin",
                    "GPU Coin",
                    "EuropeCoin",
                    "ZeitCoin",
                    "SwingCoin",
                    "SafeExchangeCoin",
                    "Nebuchadnezzar",
                    "Ratecoin",
                    "Revenu",
                    "Clockcoin",
                    "VIP Tokens",
                    "BitSend",
                    "Let it Ride",
                    "PutinCoin",
                    "iBankCoin",
                    "Frankywillcoin",
                    "MudraCoin",
                    "Lutetium Coin",
                    "GoldBlocks",
                    "CarterCoin",
                    "BitTokens",
                    "MustangCoin",
                    "ZoneCoin",
                    "RootCoin",
                    "BitCurrency",
                    "Swiscoin",
                    "BuzzCoin",
                    "Opair",
                    "PesoBit",
                    "Halloween Coin",
                    "CoffeeCoin",
                    "RoyalCoin",
                    "GanjaCoin V2",
                    "TeamUP",
                    "LanaCoin",
                    "ARK",
                    "InsaneCoin",
                    "EmberCoin",
                    "XenixCoin",
                    "FreeCoin",
                    "PLNCoin",
                    "AquariusCoin",
                    "Creatio",
                    "Eternity",
                    "Eurocoin",
                    "BitcoinFast",
                    "Stakenet",
                    "BitConnect Coin",
                    "MoneyCoin",
                    "Enigma",
                    "Russiacoin",
                    "PandaCoin",
                    "GameUnits",
                    "GAKHcoin",
                    "Allsafe",
                    "LiteCreed",
                    "Klingon Empire Darsek",
                    "Internet of People",
                    "KushCoin",
                    "Printerium",
                    "Impeach",
                    "Zilbercoin",
                    "FirstCoin",
                    "FindCoin",
                    "OpenChat",
                    "RenosCoin",
                    "VirtacoinPlus",
                    "TajCoin",
                    "Impact",
                    "Atmos",
                    "HappyCoin",
                    "MacronCoin",
                    "Condensate",
                    "Independent Money System",
                    "ArgusCoin",
                    "LomoCoin",
                    "ProCurrency",
                    "GoldReserve",
                    "GrowthCoin",
                    "Phreak",
                    "Degas Coin",
                    "HTML5 Coin",
                    "Ultimate Secure Cash",
                    "QTUM",
                    "Espers",
                    "Denarius",
                    "Virta Unique Coin",
                    "Bitcoin Planet",
                    "BritCoin",
                    "Linda",
                    "DeepOnion",
                    "Signatum",
                    "Cream",
                    "Monoeci",
                    "Draftcoin",
                    "Vechain",
                    "Stakecoin",
                    "CoinonatX",
                    "Ethereum Dark",
                    "Obsidian",
                    "Cardano",
                    "Regalcoin",
                    "TrezarCoin",
                    "TerraNovaCoin",
                    "Rupee",
                    "WomenCoin",
                    "Theresa May Coin",
                    "NamoCoin",
                    "LUXCoin",
                    "Xios",
                    "Bitcloud 2.0",
                    "KekCoin",
                    "BlackholeCoin",
                    "Infinity Economics",
                    "Magnet",
                    "Lamden Tau",
                    "Electra",
                    "Bitcoin Diamond",
                    "Cash & Back Coin",
                    "Bulwark",
                    "Kalkulus",
                    "GermanCoin",
                    "LiteCoin Ultra",
                    "PhantomX",
                    "Digiwage",
                    "Trollcoin",
                    "Litecoin Plus",
                    "Monkey Project",
                    "TokenPay",
                    "My Big Coin",
                    "Unified Society USDEX",
                    "Tokyo Coin",
                    "LitecoinCash",
                    "Stipend",
                    "Pushi",
                    "Ellerium",
                    "Velox",
                    "Ontology",
                    "Bitspace",
                    "Briacoin",
                    "Ignition",
                    "MedicCoin",
                    "Bitcoin Green",
                    "Deviant Coin",
                    "Abjcoin",
                    "Semux",
                    "Carebit",
                    "Zealium",
                    "Proton",
                    "iDealCash",
                    "Bitcoin Incognito",
                    "HollyWoodCoin",
                    "Swisscoin",
                    "Xt3ch",
                    "TheVig",
                    "EmaratCoin",
                    "Dekado",
                    "Lynx",
                    "Poseidon Quark",
                    "BitcoinWSpectrum",
                    "Muse",
                    "Trivechain",
                    "Dystem",
                    "Giant",
                    "Peony Coin",
                    "Absolute Coin",
                    "Vitae",
                    "TPCash",
                    "ARENON",
                    "EUNO",
                    "MMOCoin",
                    "Ketan",
                    "XDNA",
                    "PAXEX",
                    "ThunderStake",
                    "Kcash",
                    "Bettex coin",
                    "BitMoney",
                    "Junson Ming Chan Coin",
                    "HerbCoin",
                    "PirateCash",
                    "Oduwa",
                    "Galilel",
                    "Crypto Sports",
                    "Credit",
                    "Dash Platinum",
                    "Nasdacoin",
                    "Beetle Coin",
                    "Titan Coin",
                    "Award",
                    "Insane Coin",
                    "ALAX",
                    "LiteDoge",
                    "TruckCoin",
                    "OrangeCoin",
                    "BitstarCoin",
                    "NeosCoin",
                    "HyperCoin",
                    "PinkCoin",
                    "AudioCoin",
                    "IncaKoin",
                    "Piggy Coin",
                    "Genstake",
                    "XiaoMiCoin",
                    "CapriCoin",
                    " ClubCoin",
                    "Radium",
                    "Creditbit ",
                    "OKCash",
                    "Lisk",
                    "HiCoin",
                    "WhiteCoin",
                    "FriendshipCoin",
                    "Triangles Coin",
                    "EOS",
                    "Oxycoin",
                    "TigerCash",
                    "Waves",
                    "Particl",
                    "Nxt",
                    "ZEPHYR",
                    "Gapcoin",
                    "BitcoinPlus"
                  ],
                  "legendgroup": "0",
                  "marker": {
                    "color": [
                      0,
                      0,
                      0,
                      0,
                      0,
                      0,
                      0,
                      0,
                      0,
                      0,
                      0,
                      0,
                      0,
                      0,
                      0,
                      0,
                      0,
                      0,
                      0,
                      0,
                      0,
                      0,
                      0,
                      0,
                      0,
                      0,
                      0,
                      0,
                      0,
                      0,
                      0,
                      0,
                      0,
                      0,
                      0,
                      0,
                      0,
                      0,
                      0,
                      0,
                      0,
                      0,
                      0,
                      0,
                      0,
                      0,
                      0,
                      0,
                      0,
                      0,
                      0,
                      0,
                      0,
                      0,
                      0,
                      0,
                      0,
                      0,
                      0,
                      0,
                      0,
                      0,
                      0,
                      0,
                      0,
                      0,
                      0,
                      0,
                      0,
                      0,
                      0,
                      0,
                      0,
                      0,
                      0,
                      0,
                      0,
                      0,
                      0,
                      0,
                      0,
                      0,
                      0,
                      0,
                      0,
                      0,
                      0,
                      0,
                      0,
                      0,
                      0,
                      0,
                      0,
                      0,
                      0,
                      0,
                      0,
                      0,
                      0,
                      0,
                      0,
                      0,
                      0,
                      0,
                      0,
                      0,
                      0,
                      0,
                      0,
                      0,
                      0,
                      0,
                      0,
                      0,
                      0,
                      0,
                      0,
                      0,
                      0,
                      0,
                      0,
                      0,
                      0,
                      0,
                      0,
                      0,
                      0,
                      0,
                      0,
                      0,
                      0,
                      0,
                      0,
                      0,
                      0,
                      0,
                      0,
                      0,
                      0,
                      0,
                      0,
                      0,
                      0,
                      0,
                      0,
                      0,
                      0,
                      0,
                      0,
                      0,
                      0,
                      0,
                      0,
                      0,
                      0,
                      0,
                      0,
                      0,
                      0,
                      0,
                      0,
                      0,
                      0,
                      0,
                      0,
                      0,
                      0,
                      0,
                      0,
                      0,
                      0,
                      0,
                      0,
                      0,
                      0,
                      0,
                      0,
                      0,
                      0,
                      0,
                      0,
                      0,
                      0,
                      0,
                      0,
                      0,
                      0,
                      0,
                      0,
                      0,
                      0,
                      0,
                      0,
                      0,
                      0,
                      0,
                      0,
                      0,
                      0,
                      0,
                      0,
                      0,
                      0,
                      0,
                      0,
                      0,
                      0,
                      0,
                      0,
                      0,
                      0,
                      0,
                      0,
                      0,
                      0,
                      0,
                      0,
                      0,
                      0,
                      0,
                      0,
                      0,
                      0,
                      0,
                      0,
                      0,
                      0,
                      0,
                      0,
                      0,
                      0,
                      0,
                      0,
                      0,
                      0,
                      0,
                      0,
                      0,
                      0,
                      0,
                      0,
                      0,
                      0,
                      0,
                      0,
                      0,
                      0,
                      0,
                      0,
                      0,
                      0,
                      0,
                      0,
                      0,
                      0,
                      0,
                      0,
                      0,
                      0,
                      0,
                      0,
                      0,
                      0,
                      0,
                      0,
                      0,
                      0,
                      0,
                      0,
                      0,
                      0,
                      0,
                      0,
                      0,
                      0,
                      0,
                      0,
                      0,
                      0,
                      0,
                      0,
                      0,
                      0,
                      0,
                      0,
                      0,
                      0,
                      0
                    ],
                    "coloraxis": "coloraxis",
                    "symbol": "circle"
                  },
                  "mode": "markers",
                  "name": "0",
                  "scene": "scene",
                  "showlegend": true,
                  "type": "scatter3d",
                  "x": [
                    -0.3328716674863555,
                    -0.3162238644415025,
                    2.3038545868690083,
                    -0.3920656441738228,
                    -0.28799925527092723,
                    -0.3130915492917278,
                    -0.2772048631114174,
                    -0.2436547489843508,
                    -0.3325315418320848,
                    -0.32511550068145223,
                    -0.3313695282090117,
                    -0.33286760728820036,
                    -0.3328519019967802,
                    0.6083400631435147,
                    -0.3590326211117581,
                    -0.373069797292224,
                    -0.2742664408075201,
                    -0.33093214531098464,
                    -0.33601991371787165,
                    -0.3919604306079097,
                    -0.405563606173708,
                    -0.03712858122503283,
                    -0.2764300628598242,
                    -0.2967362909903421,
                    -0.277777973846095,
                    -0.27839964906667564,
                    -0.3495222513932053,
                    -0.32717893821962113,
                    -0.33127481093733796,
                    0.02496261003848714,
                    -0.35588946229061663,
                    -0.39233167723107004,
                    -0.24935301101815335,
                    -0.32842155001573997,
                    -0.3922433956756897,
                    -0.30812546873557295,
                    -0.33155022862343203,
                    -0.27814693555803927,
                    -0.3922079008489807,
                    -0.24982031871769936,
                    -0.2781807004575332,
                    -0.3239827149223809,
                    -0.35191504423858155,
                    -0.31230395389680204,
                    -0.3584546789145074,
                    -0.2967165625290772,
                    -0.2784749747344378,
                    -0.29137533247248715,
                    -0.332853751405373,
                    -0.27842720060330445,
                    -0.3563339311949097,
                    -0.33258836687277277,
                    -0.39231322197227675,
                    -0.3964297533374313,
                    -0.4094162448642155,
                    -0.365424240810206,
                    -0.2951195012124197,
                    -0.27794926025825206,
                    -0.3056549553490348,
                    -0.24609400361465172,
                    -0.07165242506266681,
                    -0.3130624881951273,
                    -0.07006597991808401,
                    -0.31312612451812605,
                    -0.2381544692734126,
                    -0.3324643602825614,
                    -0.29498869530080774,
                    -0.389484968491118,
                    0.8554048367380723,
                    -0.31292636783909283,
                    -0.12179067827351425,
                    -0.37275334880029354,
                    -0.39015809157867304,
                    -0.3116710453884743,
                    -0.3093413717983836,
                    -0.359409023437767,
                    -0.3910495417633144,
                    -0.35623077943094844,
                    -0.30878174482652826,
                    -0.33250242599482965,
                    -0.33094278524003085,
                    -0.24128382819611488,
                    -0.3438356529718781,
                    -0.3917875944624825,
                    -0.33170734897709553,
                    -0.313107096076963,
                    -0.39230242375589225,
                    -0.33269141864739465,
                    -0.33284798945117167,
                    -0.29497821458691487,
                    -0.24234589339587256,
                    0.04388566642451339,
                    -0.3717113392943047,
                    -0.33246247740290724,
                    -0.3784771442960214,
                    -0.37104054406112313,
                    -0.24271314353056833,
                    -0.3787438232247009,
                    -0.3707897803515297,
                    -0.27036654589500886,
                    3.7387948499797825,
                    -0.3918953247542495,
                    0.8527677252170521,
                    -0.3922573725131008,
                    -0.37217468388335645,
                    -0.33239010654317075,
                    -0.33254430129183743,
                    -0.37275334880029354,
                    -0.39183266032184394,
                    -0.3129698865534157,
                    -0.3323908400188474,
                    -0.3779360512811559,
                    -0.3325381026291341,
                    -0.32813011829762917,
                    -0.39228634186196415,
                    -0.33174951954101195,
                    0.34597287131969306,
                    -0.33273720301977144,
                    -0.33280771060427916,
                    -0.35950135468111155,
                    -0.3539325816093305,
                    -0.32903786914829586,
                    -0.3130835300119536,
                    -0.39219637201283075,
                    -0.3325857180348719,
                    -0.33271256282696393,
                    -0.29662317020018747,
                    -0.2965340023485262,
                    -0.24248120059956932,
                    -0.313582837731915,
                    -0.29636451652368734,
                    -0.39146277618464576,
                    -0.4255380006741242,
                    -0.39020223262217035,
                    -0.37100143554682224,
                    -0.3913607490298253,
                    -0.3654062431546909,
                    -0.3873053441471939,
                    -0.33265589780417,
                    -0.3326550908268298,
                    -0.32578302335796444,
                    0.25497811155315114,
                    -0.3918387981613688,
                    -0.27928079195178995,
                    -0.3727876167703582,
                    -0.33186729016694005,
                    0.887279082537731,
                    -0.2758964576724351,
                    -0.35501019987276555,
                    0.574907393988022,
                    -0.3609433294050616,
                    -0.35944687775770967,
                    -0.4254192162500575,
                    -0.27811257130003353,
                    0.13166046041229532,
                    -0.2781832793714456,
                    -0.37399286059354514,
                    -0.42492452660846347,
                    -0.39211093898806293,
                    -0.2966972967201593,
                    4.490730530593751,
                    -0.3726540159298733,
                    -0.33229141563625403,
                    -0.3327906552081169,
                    -0.34601241818961737,
                    0.6283874846213832,
                    -0.39205182307547254,
                    -0.3445259105794667,
                    -0.33274631216814954,
                    -0.32955604055259424,
                    0.4357021909934285,
                    -0.3114312446071927,
                    -0.3457236252258957,
                    -0.39981093059275175,
                    -0.3326966952063169,
                    -0.3937678773937333,
                    -0.3815413389488468,
                    -0.332567203764527,
                    -0.1038403384462484,
                    -0.3908455495828864,
                    3.7436465739285874,
                    0.19805941018168957,
                    -0.27485704894263135,
                    -0.330029717488006,
                    -0.32488378841248994,
                    -0.35938735798069876,
                    0.0812066119949239,
                    -0.3317065173713628,
                    -0.3914261620883288,
                    -0.3585528429865828,
                    -0.3192831863497795,
                    -0.3328127676471945,
                    -0.3563058850845296,
                    -0.35651245129431985,
                    -0.2843077411007755,
                    -0.32836191726345254,
                    -0.2342842393814132,
                    -0.30533575980839367,
                    -0.3663109595023838,
                    -0.39212817401197325,
                    -0.31416272964717984,
                    -0.2958580341222167,
                    -0.35207400485233503,
                    -0.3605426462914484,
                    -0.3328400985717592,
                    -0.3328218258805253,
                    -0.2902444007470713,
                    -0.3562666039031683,
                    -0.3722488297972611,
                    -0.3325385877775171,
                    3.9343059890118046,
                    -0.3924370495804583,
                    -0.3724373343183888,
                    -0.3256036303987899,
                    -0.27945568242952734,
                    -0.2874075178852334,
                    -0.2963917716884988,
                    -0.1361255965378406,
                    -0.2966436184464285,
                    -0.3356233251796134,
                    -0.3320130870084835,
                    -0.20961504774247194,
                    2.227705986965605,
                    -0.3550991680987161,
                    -0.27602404437573547,
                    1.0204935677056242,
                    -0.3607640490995312,
                    -0.3595007926766651,
                    -0.39545052263264563,
                    -0.17748235967892423,
                    -0.3653076812849044,
                    -0.3582214488951808,
                    -0.3257231661286261,
                    -0.3558836656513326,
                    -0.3916019703412512,
                    -0.2938915265115789,
                    -0.371537941973142,
                    -0.34584579050740283,
                    -0.35574517554894836,
                    -0.19244781041281228,
                    -0.33543470424841076,
                    -0.2783325398062421,
                    0.525193238158502,
                    -0.14643911590769043,
                    -0.3947457718137244,
                    -0.26924622652799496,
                    -0.3325425558835877,
                    -0.3952014885467042,
                    -0.3596176666681793,
                    0.5731699757191128,
                    -0.35636015303364327,
                    -0.3320259379292682,
                    -0.30862323261656727,
                    -0.29038334199784516,
                    -0.3891688072911856,
                    -0.3918290061891201,
                    3.755877616937222,
                    0.10200405385090652,
                    -0.38937076910382157,
                    -0.3314119844633361,
                    -0.3322362339745966,
                    -0.2772374668551574,
                    -0.33275410708816666,
                    -0.38346416943678985,
                    -0.24653387500274843,
                    -0.09293995012652174,
                    -0.37921631259463856,
                    -0.33203305284334994,
                    -0.3251034479236803,
                    -0.38840061885858845,
                    -0.33047362306599665,
                    -0.3730287393064542,
                    -0.36647238064974513,
                    -0.31160791293156614,
                    3.739186317961098,
                    -0.10409451326231456,
                    -0.32767085306995564,
                    -0.34914844520354854,
                    -0.2785820837474804,
                    3.749045847524354,
                    3.750288908634284,
                    -0.2581509828407718,
                    -0.3550078234976012,
                    -0.3729646610964759,
                    -0.3936383296443159,
                    2.477583224123209,
                    -0.330918780186945,
                    -0.2970397353307085
                  ],
                  "y": [
                    1.0313259760918934,
                    1.0312973127470662,
                    1.5940128000956073,
                    1.2518054875571423,
                    1.4556581602981011,
                    0.818970086326557,
                    0.5461537919432159,
                    1.8982377723787422,
                    1.031321247059747,
                    1.0314867027205226,
                    1.031357104092656,
                    1.0313257090872512,
                    1.0313256833677116,
                    0.07802104475042963,
                    0.9184216541893678,
                    1.394099640688478,
                    0.3545158382455911,
                    1.0312818866176345,
                    0.9794157167761798,
                    1.2518076678375638,
                    2.0973966092384084,
                    0.7638878647218962,
                    0.8180461456535596,
                    0.7584967990473479,
                    1.7611625385774405,
                    1.761149655958166,
                    0.5192352440636419,
                    1.0311489594016714,
                    1.0312902372911192,
                    1.0387411707566123,
                    0.979003971509628,
                    1.2518154255410907,
                    0.043301834035796564,
                    1.4661492162296026,
                    1.251810232225663,
                    1.0307150292794547,
                    1.0312831252831016,
                    0.3474982177814156,
                    1.2518141283062414,
                    0.04336238454462051,
                    1.7611541931047001,
                    1.030807834206161,
                    1.3787701258380614,
                    0.8189540994556231,
                    0.9184367068147851,
                    0.7585085717719581,
                    1.7611396669165147,
                    0.7582680837288303,
                    1.0313263473860617,
                    1.761142061597621,
                    0.9789807141835902,
                    1.0313177999459344,
                    1.2518158086811844,
                    2.4142194137489894,
                    1.9463296716846628,
                    0.894416999440342,
                    0.7584714324998065,
                    1.7611238719780773,
                    0.8184372995529213,
                    1.8984145748023795,
                    0.938024613967514,
                    0.8189706885430048,
                    1.2398463579624497,
                    0.818977446783678,
                    1.4747375205270365,
                    1.0313049181265708,
                    0.7583891226973358,
                    1.25160471740462,
                    0.7128514073208081,
                    0.818960867120605,
                    0.08947639804152163,
                    1.394092151417511,
                    1.2518077925192586,
                    0.818858544899513,
                    0.8186945207853425,
                    1.4721616210673056,
                    1.2517443695826298,
                    1.4229543882351925,
                    1.0304204926124265,
                    1.0313024905135038,
                    1.0312957129841707,
                    1.4882116914570889,
                    0.9787923166133898,
                    1.2517915838295801,
                    1.031286892793912,
                    0.8189704665020218,
                    1.25181392541868,
                    1.0313149621204902,
                    1.031326466787736,
                    0.7585445945600038,
                    0.3754199201842202,
                    1.936224633822693,
                    1.3940758178837052,
                    1.0313344555329502,
                    1.2510490119119586,
                    1.3941135981083537,
                    1.4883207851479692,
                    1.94923218211921,
                    1.393935483054818,
                    1.9384876335941894,
                    2.013511692595165,
                    1.2518033982481778,
                    1.7839931979137031,
                    1.2518142596620287,
                    1.3940830724813835,
                    1.0313088869495945,
                    1.031303261554855,
                    1.394092151417511,
                    1.2517836265297628,
                    0.8189740121589189,
                    1.0313127627281162,
                    0.7688882974156237,
                    1.031313222802371,
                    1.0309672464188766,
                    1.2518128539893818,
                    1.0312480924179304,
                    0.748990045777964,
                    1.0313196320978584,
                    1.0313249726433784,
                    1.3873935131377648,
                    0.6044177719963153,
                    1.03105425043476,
                    0.8189709548480796,
                    1.2518116603833853,
                    1.0313178548362838,
                    1.0313138684422645,
                    0.7584718782455198,
                    0.29289201512706053,
                    1.4883171460902107,
                    1.0310233449003388,
                    0.7584916878766466,
                    1.2517631977233585,
                    1.9029526373645327,
                    1.2517822958192608,
                    1.3940650407787154,
                    1.2517653119736096,
                    1.3939775110946426,
                    1.2515684127708284,
                    1.0313155492169537,
                    1.0313103771174525,
                    1.0307705274463235,
                    0.5045150001530302,
                    1.2517975461905195,
                    0.7574651980833179,
                    1.394084417876165,
                    1.0312730432855421,
                    1.8587084532690707,
                    0.5460491569073805,
                    1.4229329758239233,
                    1.826611085044203,
                    1.4721860139309053,
                    1.4721397663563995,
                    1.9044531270304936,
                    1.7611345346286502,
                    1.0058350799357814,
                    1.7611408666614115,
                    1.3348168111264496,
                    1.904463378200398,
                    1.2518133231142403,
                    0.7584967461076673,
                    4.420057473510264,
                    1.3940649924087232,
                    1.0313041109135133,
                    1.0313247050535388,
                    1.4569206344171033,
                    1.3796306893145736,
                    1.2518022622509197,
                    0.519060491168393,
                    1.0313175235980343,
                    0.5433992496458379,
                    1.029694127062028,
                    0.8189497091473256,
                    1.47166561546181,
                    1.7398097282693958,
                    1.0313148527773843,
                    1.660120120116469,
                    1.3398705729748877,
                    1.031321898912606,
                    0.5434340216443924,
                    1.2517450850827418,
                    2.01334885362058,
                    1.4627066531974346,
                    1.7610755752873257,
                    1.0312373762795768,
                    1.1993541864780044,
                    1.3873923637131274,
                    1.004789553753385,
                    1.0312447694717382,
                    1.251799073585509,
                    1.387339422630598,
                    1.0309754541016054,
                    1.0313243872986544,
                    0.9789805930244763,
                    1.4229545212225796,
                    0.359598691754695,
                    1.03125648561085,
                    1.4879353343735553,
                    4.639520154105615,
                    0.8918333503481264,
                    1.2518020847593931,
                    1.4151291512826658,
                    0.7584392720835927,
                    1.3412473758565624,
                    1.4721662233540365,
                    1.0313245232781545,
                    1.0313234972474927,
                    0.7582915193787658,
                    1.408992210080001,
                    1.3940548469799008,
                    1.0313118080637498,
                    2.047182752265139,
                    1.66014769809846,
                    1.3940565594494283,
                    0.6358171194465657,
                    1.028835520506676,
                    1.0577549613760078,
                    0.758497041319195,
                    1.0282391378211633,
                    0.7584791802766614,
                    1.9423369039398217,
                    1.031284771215432,
                    1.625559140802534,
                    0.2953819126924369,
                    1.3870387495860572,
                    0.5461166222392021,
                    1.7020749751863526,
                    0.9086287655583726,
                    1.3873893107283553,
                    1.6602221023738384,
                    0.7491238509925707,
                    0.8162049979894915,
                    1.3873603367720981,
                    1.0307717678333792,
                    0.9789654627879203,
                    1.2517954304118506,
                    0.7583845043022014,
                    1.3939838925055308,
                    0.9363115243889166,
                    0.9789367272226378,
                    1.0215937327068105,
                    1.6681567952363248,
                    1.1423120373293567,
                    0.9072282858314556,
                    0.98334429098821,
                    1.660202397788216,
                    -0.08302182552347984,
                    1.0313180469182215,
                    1.660217510938382,
                    1.387392247689535,
                    0.9975661324714099,
                    0.9789803815062309,
                    1.0312845049131665,
                    1.4149349123674633,
                    1.9398329075179104,
                    1.251585984698916,
                    1.251804772529792,
                    2.01325113922226,
                    1.0157556659862212,
                    1.2518767834454674,
                    1.0312157557791568,
                    1.031301037463004,
                    0.5461471464025548,
                    1.0313284122581348,
                    1.2516480112327268,
                    1.0257405075733332,
                    0.8234141681787929,
                    1.2513848658431592,
                    1.0313328191132016,
                    1.0312060154491642,
                    1.2517508000553939,
                    1.0312632946079334,
                    1.394094170426324,
                    0.8319684550463072,
                    0.8189425364379778,
                    2.0134952800824673,
                    0.7554705366083241,
                    1.0312230468423011,
                    0.5192033794161446,
                    1.7611457911877313,
                    2.013811910964819,
                    2.013837670207722,
                    0.545855071280987,
                    4.483996951300178,
                    1.3940957552414002,
                    1.4514817914758535,
                    0.8570257918125292,
                    1.031190859039471,
                    0.7585011725046364
                  ],
                  "z": [
                    -0.4973963192267467,
                    -0.497597346137075,
                    -0.5378846920263658,
                    -0.4948070966715631,
                    0.09570971833437178,
                    -0.3005937558554541,
                    0.004601638900012647,
                    -0.6067739891444196,
                    -0.4974000582563496,
                    -0.49750544170520244,
                    -0.49741745301376256,
                    -0.49739634515627273,
                    -0.4973965349194449,
                    -0.013210025630549547,
                    -0.47763485790509047,
                    -0.067186106549482,
                    -0.3336343747442651,
                    -0.49741611944169695,
                    -0.18989610193146833,
                    -0.4948085769343153,
                    -0.6630874429613498,
                    -0.19585628376514544,
                    -0.30095998224061743,
                    -0.19220282107526895,
                    -0.5211647383176177,
                    -0.5211559918915876,
                    -0.29090057179916745,
                    -0.497450205863058,
                    -0.4974126710835514,
                    -0.5024307342032358,
                    -0.1896165547803386,
                    -0.4948047264041766,
                    0.14064729294840614,
                    -0.08672749348739248,
                    -0.49480534458021674,
                    -0.4976446476922351,
                    -0.4974086714117491,
                    -0.3449186222491314,
                    -0.4948061247300933,
                    0.14064762825317592,
                    -0.5211590723068122,
                    -0.4974589859549987,
                    -0.07855590324819355,
                    -0.30060196655257715,
                    -0.4776432623273504,
                    -0.19220410815705882,
                    -0.5211541834087476,
                    -0.19224805806030779,
                    -0.4973965712929392,
                    -0.5211549803350507,
                    -0.18960905363094113,
                    -0.49739905715986893,
                    -0.494804986115902,
                    -0.6566681971213965,
                    -0.6633677919190374,
                    -0.22455298215607625,
                    -0.1922203381060369,
                    -0.5211592088150729,
                    -0.3006373618141215,
                    -0.6067598677238869,
                    -0.5044393195236715,
                    -0.30059416471963757,
                    -0.4976821870762765,
                    -0.30059398693241224,
                    -0.4450630254619888,
                    -0.4973994291768283,
                    -0.1922146255872783,
                    -0.49482081823329865,
                    -0.20223653513007958,
                    -0.3005949567388913,
                    -0.005299459480002023,
                    -0.0671893108416091,
                    -0.49483062743451117,
                    -0.3006012172558509,
                    -0.30061513386306227,
                    -0.4433514646775468,
                    -0.49481409235548945,
                    0.010019690580486375,
                    -0.4976104572406566,
                    -0.49739874804181405,
                    -0.49741721760829094,
                    -0.21596481864020117,
                    -0.18974514908695927,
                    -0.49480926158203853,
                    -0.4974070847964837,
                    -0.3005935995188517,
                    -0.4948049508581898,
                    -0.49739754491857563,
                    -0.4973966523585897,
                    -0.19222856519055018,
                    -0.2427905096339304,
                    -0.6681730119397631,
                    -0.06720060177808429,
                    -0.49740207617556415,
                    -0.4949060580332852,
                    -0.06721216064988345,
                    -0.2159570320453459,
                    -0.6699125948007957,
                    -0.06719940408225863,
                    -0.6645312972805555,
                    0.1213640146759803,
                    -0.49480899377223914,
                    -0.5370174923294919,
                    -0.49480553144806644,
                    -0.0671955803587057,
                    -0.49740068974189333,
                    -0.4973983044768221,
                    -0.0671893108416091,
                    -0.49480800361431576,
                    -0.3005955923297647,
                    -0.497401025080052,
                    -0.5375120696718662,
                    -0.497399265189335,
                    -0.49742243202077563,
                    -0.4948050523302484,
                    -0.49740312226865746,
                    -0.19921748080257945,
                    -0.49739739991697585,
                    -0.49739701216449606,
                    -0.10015174734949918,
                    -0.2241076499756374,
                    -0.4974190608882062,
                    -0.30059393107275245,
                    -0.4948060464678935,
                    -0.49739909442669894,
                    -0.497397189204986,
                    -0.19220199048738443,
                    -0.1436118695133153,
                    -0.21595954501983075,
                    -0.4976053031211917,
                    -0.19220691316644248,
                    -0.49481071183810504,
                    -0.6985398165792084,
                    -0.49482782265178804,
                    -0.06720832525643611,
                    -0.4948121472708408,
                    -0.06726896882457936,
                    -0.4948442460451287,
                    -0.4973980314308616,
                    -0.4973975818319929,
                    -0.49743365719161586,
                    0.0017929895492450173,
                    -0.4948091651213677,
                    -0.19232462807475942,
                    -0.06718820479073433,
                    -0.49740389866817325,
                    -0.6170917006454308,
                    0.004594934732212767,
                    0.010006667232902567,
                    -0.5841898096687039,
                    -0.443334869780307,
                    -0.44334906030878946,
                    -0.6220254027748874,
                    -0.5211581590327862,
                    -0.500812226836248,
                    -0.5211578569081108,
                    0.0856375498868359,
                    -0.6220323626250067,
                    -0.49480723887270317,
                    -0.19220329320341217,
                    -1.055211033694212,
                    -0.06718811281926036,
                    -0.4974014722752021,
                    -0.4973971969503623,
                    0.09630696418743637,
                    -0.05653286699938336,
                    -0.49480697915704763,
                    -0.29094614393995916,
                    -0.49739710121824043,
                    0.06664267461013045,
                    -0.5066496541239172,
                    -0.30061224823043137,
                    -0.443474749957855,
                    -0.3915637495929454,
                    -0.49739747068201157,
                    -0.40535898640540463,
                    0.09991045935453106,
                    -0.4973996800816495,
                    0.0027233094044703224,
                    -0.49481665038158756,
                    0.12131915256331882,
                    -0.44932838118792423,
                    -0.5211927306321803,
                    -0.4974232004361632,
                    -0.13814020884379527,
                    -0.10015303921799137,
                    -0.500102385365166,
                    -0.4974033529132087,
                    -0.4948143466190815,
                    -0.10015854080787823,
                    -0.49753134351262307,
                    -0.4973968983263165,
                    -0.18960938582210374,
                    0.010023123116019972,
                    -0.1677122732682563,
                    -0.49744529227784967,
                    -0.2160258608937591,
                    -0.9740881184657972,
                    -0.2767645198000742,
                    -0.4948060297523302,
                    -0.31568849632240065,
                    -0.19220845016134147,
                    0.01712588802001388,
                    -0.4433380113187275,
                    -0.49739657619719213,
                    -0.49739670849185064,
                    -0.19226396927946837,
                    -0.1452279903617986,
                    -0.06719216625456582,
                    -0.49739913357761395,
                    0.1122359763988008,
                    -0.40537770998749756,
                    -0.06719001330543477,
                    0.004588751932480327,
                    -0.49782826119036444,
                    -0.04543704367334637,
                    -0.1922070554604031,
                    -0.4995279550308394,
                    -0.19220238912205787,
                    -0.6640752744911385,
                    -0.49740315768840276,
                    -0.30156823838807006,
                    -0.29526520828993813,
                    -0.10017406267098068,
                    0.004590501566292822,
                    0.03682771828137432,
                    -0.3006151108597396,
                    -0.10015138089808598,
                    -0.40534747028435386,
                    -0.1928284342411918,
                    -0.2385534346485203,
                    -0.10016445109366354,
                    -0.497434499330423,
                    -0.18961320471600807,
                    -0.49481187315089625,
                    -0.1922276317462541,
                    -0.06719455587122805,
                    -0.425535471365976,
                    -0.18961234546306036,
                    -0.4982488849748077,
                    0.34463290707690186,
                    -0.010492337909433193,
                    0.23499363182636335,
                    -0.19256333776436704,
                    -0.40535433767301887,
                    0.1933948253469255,
                    -0.4973996392873218,
                    -0.4053501076484025,
                    -0.10015021264235928,
                    -0.50547653140266,
                    -0.1896087034305456,
                    -0.49740297688719926,
                    -0.3157389792516165,
                    -0.6644060354789142,
                    -0.49482302019461505,
                    -0.4948099268163837,
                    0.12117826902438465,
                    -0.5013308829722695,
                    -0.49484638385142155,
                    -0.49740437708063884,
                    -0.49740187401754493,
                    0.0046026279470987586,
                    -0.4973979732012364,
                    -0.49489828801006586,
                    -0.4979558893074169,
                    -0.3036806140633034,
                    -0.4949268551095184,
                    -0.4974071819073134,
                    -0.4974806540553536,
                    -0.49484705526070155,
                    -0.49742007472605326,
                    -0.06718612266190657,
                    -0.2886419204876661,
                    -0.30060945069652384,
                    0.12136068572985911,
                    -0.19428964991290873,
                    -0.49745077221830164,
                    -0.2909023120724544,
                    -0.5211534177081976,
                    0.12121199298430035,
                    0.12119450420287901,
                    0.004395180628533617,
                    5.234418917424956,
                    -0.0671870470133381,
                    -0.2042000954478003,
                    0.08874193313793877,
                    -0.4974081963802706,
                    -0.19219949900564784
                  ]
                },
                {
                  "customdata": [
                    [
                      "SHA-256"
                    ],
                    [
                      "Ethash"
                    ],
                    [
                      "Scrypt"
                    ],
                    [
                      "CryptoNight-V7"
                    ],
                    [
                      "Ethash"
                    ],
                    [
                      "Equihash"
                    ],
                    [
                      "Multiple"
                    ],
                    [
                      "Scrypt"
                    ],
                    [
                      "X11"
                    ],
                    [
                      "Scrypt"
                    ],
                    [
                      "Multiple"
                    ],
                    [
                      "Scrypt"
                    ],
                    [
                      "SHA-256"
                    ],
                    [
                      "Scrypt"
                    ],
                    [
                      "Scrypt"
                    ],
                    [
                      "Quark"
                    ],
                    [
                      "Groestl"
                    ],
                    [
                      "Scrypt"
                    ],
                    [
                      "Scrypt"
                    ],
                    [
                      "Scrypt"
                    ],
                    [
                      "X11"
                    ],
                    [
                      "Multiple"
                    ],
                    [
                      "SHA-256"
                    ],
                    [
                      "Scrypt"
                    ],
                    [
                      "Scrypt"
                    ],
                    [
                      "Scrypt"
                    ],
                    [
                      "Scrypt"
                    ],
                    [
                      "Scrypt"
                    ],
                    [
                      "NeoScrypt"
                    ],
                    [
                      "Scrypt"
                    ],
                    [
                      "Scrypt"
                    ],
                    [
                      "Scrypt"
                    ],
                    [
                      "Scrypt"
                    ],
                    [
                      "SHA-256"
                    ],
                    [
                      "Scrypt"
                    ],
                    [
                      "Scrypt"
                    ],
                    [
                      "Scrypt"
                    ],
                    [
                      "Scrypt"
                    ],
                    [
                      "HybridScryptHash256"
                    ],
                    [
                      "Scrypt"
                    ],
                    [
                      "Scrypt"
                    ],
                    [
                      "SHA-256"
                    ],
                    [
                      "Scrypt"
                    ],
                    [
                      "Scrypt"
                    ],
                    [
                      "Scrypt"
                    ],
                    [
                      "Scrypt"
                    ],
                    [
                      "SHA-256"
                    ],
                    [
                      "SHA-256"
                    ],
                    [
                      "SHA-256"
                    ],
                    [
                      "SHA-256"
                    ],
                    [
                      "SHA-256"
                    ],
                    [
                      "X11"
                    ],
                    [
                      "Scrypt"
                    ],
                    [
                      "Lyra2REv2"
                    ],
                    [
                      "Scrypt"
                    ],
                    [
                      "SHA-256"
                    ],
                    [
                      "CryptoNight"
                    ],
                    [
                      "CryptoNight"
                    ],
                    [
                      "Shabal256"
                    ],
                    [
                      "Scrypt"
                    ],
                    [
                      "Scrypt"
                    ],
                    [
                      "Scrypt"
                    ],
                    [
                      "Scrypt"
                    ],
                    [
                      "Scrypt"
                    ],
                    [
                      "Scrypt"
                    ],
                    [
                      "Stanford Folding"
                    ],
                    [
                      "Multiple"
                    ],
                    [
                      "QuBit"
                    ],
                    [
                      "Scrypt"
                    ],
                    [
                      "Scrypt"
                    ],
                    [
                      "M7 POW"
                    ],
                    [
                      "Scrypt"
                    ],
                    [
                      "SHA-256"
                    ],
                    [
                      "Scrypt"
                    ],
                    [
                      "X11"
                    ],
                    [
                      "Lyra2RE"
                    ],
                    [
                      "SHA-256"
                    ],
                    [
                      "X11"
                    ],
                    [
                      "Scrypt"
                    ],
                    [
                      "Scrypt"
                    ],
                    [
                      "Ethash"
                    ],
                    [
                      "Blake2b"
                    ],
                    [
                      "X11"
                    ],
                    [
                      "SHA-256"
                    ],
                    [
                      "Scrypt"
                    ],
                    [
                      "1GB AES Pattern Search"
                    ],
                    [
                      "Scrypt"
                    ],
                    [
                      "SHA-256"
                    ],
                    [
                      "X11"
                    ],
                    [
                      "Dagger"
                    ],
                    [
                      "Scrypt"
                    ],
                    [
                      "X11GOST"
                    ],
                    [
                      "Scrypt"
                    ],
                    [
                      "X11"
                    ],
                    [
                      "Scrypt"
                    ],
                    [
                      "X11"
                    ],
                    [
                      "Equihash"
                    ],
                    [
                      "CryptoNight"
                    ],
                    [
                      "SHA-256"
                    ],
                    [
                      "Multiple"
                    ],
                    [
                      "Scrypt"
                    ],
                    [
                      "SHA-256"
                    ],
                    [
                      "Scrypt"
                    ],
                    [
                      "Lyra2Z"
                    ],
                    [
                      "Ethash"
                    ],
                    [
                      "Equihash"
                    ],
                    [
                      "Scrypt"
                    ],
                    [
                      "X11"
                    ],
                    [
                      "X11"
                    ],
                    [
                      "CryptoNight"
                    ],
                    [
                      "Scrypt"
                    ],
                    [
                      "CryptoNight"
                    ],
                    [
                      "Lyra2RE"
                    ],
                    [
                      "X11"
                    ],
                    [
                      "CryptoNight-V7"
                    ],
                    [
                      "Scrypt"
                    ],
                    [
                      "X11"
                    ],
                    [
                      "Equihash"
                    ],
                    [
                      "Scrypt"
                    ],
                    [
                      "Lyra2RE"
                    ],
                    [
                      "Dagger-Hashimoto"
                    ],
                    [
                      "Scrypt"
                    ],
                    [
                      "NIST5"
                    ],
                    [
                      "Scrypt"
                    ],
                    [
                      "SHA-256"
                    ],
                    [
                      "Scrypt"
                    ],
                    [
                      "CryptoNight-V7"
                    ],
                    [
                      "Argon2d"
                    ],
                    [
                      "Blake2b"
                    ],
                    [
                      "Cloverhash"
                    ],
                    [
                      "CryptoNight"
                    ],
                    [
                      "X11"
                    ],
                    [
                      "Scrypt"
                    ],
                    [
                      "Scrypt"
                    ],
                    [
                      "X11"
                    ],
                    [
                      "X11"
                    ],
                    [
                      "CryptoNight"
                    ],
                    [
                      "Time Travel"
                    ],
                    [
                      "Scrypt"
                    ],
                    [
                      "Keccak"
                    ],
                    [
                      "X11"
                    ],
                    [
                      "SHA-256"
                    ],
                    [
                      "Scrypt"
                    ],
                    [
                      "Scrypt"
                    ],
                    [
                      "Scrypt"
                    ],
                    [
                      "Scrypt"
                    ],
                    [
                      "Scrypt"
                    ],
                    [
                      "Scrypt"
                    ],
                    [
                      "CryptoNight"
                    ],
                    [
                      "Equihash"
                    ],
                    [
                      "X11"
                    ],
                    [
                      "NeoScrypt"
                    ],
                    [
                      "Equihash"
                    ],
                    [
                      "Dagger"
                    ],
                    [
                      "Scrypt"
                    ],
                    [
                      "X11"
                    ],
                    [
                      "NeoScrypt"
                    ],
                    [
                      "Ethash"
                    ],
                    [
                      "NeoScrypt"
                    ],
                    [
                      "Multiple"
                    ],
                    [
                      "CryptoNight"
                    ],
                    [
                      "CryptoNight"
                    ],
                    [
                      "Ethash"
                    ],
                    [
                      "X11"
                    ],
                    [
                      "CryptoNight-V7"
                    ],
                    [
                      "Scrypt"
                    ],
                    [
                      "BLAKE256"
                    ],
                    [
                      "X11"
                    ],
                    [
                      "NeoScrypt"
                    ],
                    [
                      "NeoScrypt"
                    ],
                    [
                      "Scrypt"
                    ],
                    [
                      "X11"
                    ],
                    [
                      "SHA-256"
                    ],
                    [
                      "C11"
                    ],
                    [
                      "Ethash"
                    ],
                    [
                      "CryptoNight"
                    ],
                    [
                      "SkunkHash"
                    ],
                    [
                      "CryptoNight"
                    ],
                    [
                      "Scrypt"
                    ],
                    [
                      "Dagger"
                    ],
                    [
                      "Lyra2REv2"
                    ],
                    [
                      "Scrypt"
                    ],
                    [
                      "Scrypt"
                    ],
                    [
                      "X11"
                    ],
                    [
                      "Ethash"
                    ],
                    [
                      "CryptoNight"
                    ],
                    [
                      "Scrypt"
                    ],
                    [
                      "IMesh"
                    ],
                    [
                      "Equihash"
                    ],
                    [
                      "Lyra2Z"
                    ],
                    [
                      "X11"
                    ],
                    [
                      "CryptoNight"
                    ],
                    [
                      "NIST5"
                    ],
                    [
                      "Lyra2RE"
                    ],
                    [
                      "Tribus"
                    ],
                    [
                      "Lyra2Z"
                    ],
                    [
                      "CryptoNight"
                    ],
                    [
                      "CryptoNight Heavy"
                    ],
                    [
                      "CryptoNight"
                    ],
                    [
                      "Jump Consistent Hash"
                    ],
                    [
                      "CryptoNight"
                    ],
                    [
                      "X16R"
                    ],
                    [
                      "HMQ1725"
                    ],
                    [
                      "X11"
                    ],
                    [
                      "Scrypt"
                    ],
                    [
                      "CryptoNight-V7"
                    ],
                    [
                      "Cryptonight-GPU"
                    ],
                    [
                      "XEVAN"
                    ],
                    [
                      "CryptoNight Heavy"
                    ],
                    [
                      "SHA-256"
                    ],
                    [
                      "X11"
                    ],
                    [
                      "X16R"
                    ],
                    [
                      "Equihash"
                    ],
                    [
                      "Lyra2Z"
                    ],
                    [
                      "SHA-256"
                    ],
                    [
                      "CryptoNight"
                    ],
                    [
                      "Blake"
                    ],
                    [
                      "Blake"
                    ],
                    [
                      "Exosis"
                    ],
                    [
                      "Scrypt"
                    ],
                    [
                      "Equihash"
                    ],
                    [
                      "Equihash"
                    ],
                    [
                      "QuBit"
                    ],
                    [
                      "SHA-256"
                    ],
                    [
                      "X13"
                    ],
                    [
                      "SHA-256"
                    ],
                    [
                      "Scrypt"
                    ],
                    [
                      "NeoScrypt"
                    ],
                    [
                      "Blake"
                    ],
                    [
                      "Scrypt"
                    ],
                    [
                      "SHA-256"
                    ],
                    [
                      "Scrypt"
                    ],
                    [
                      "Groestl"
                    ],
                    [
                      "Scrypt"
                    ],
                    [
                      "Scrypt"
                    ],
                    [
                      "Multiple"
                    ],
                    [
                      "Equihash+Scrypt"
                    ],
                    [
                      "Ethash"
                    ],
                    [
                      "CryptoNight"
                    ],
                    [
                      "Equihash"
                    ]
                  ],
                  "hovertemplate": "<b>%{hovertext}</b><br><br>Class=%{marker.color}<br>PC 1=%{x}<br>PC 2=%{y}<br>PC 3=%{z}<br>Algorithm=%{customdata[0]}<extra></extra>",
                  "hovertext": [
                    "Bitcoin",
                    "Ethereum",
                    "Litecoin",
                    "Monero",
                    "Ethereum Classic",
                    "ZCash",
                    "DigiByte",
                    "ProsperCoin",
                    "Spreadcoin",
                    "Argentum",
                    "MyriadCoin",
                    "MoonCoin",
                    "ZetaCoin",
                    "SexCoin",
                    "Quatloo",
                    "QuarkCoin",
                    "Riecoin",
                    "Digitalcoin ",
                    "Catcoin",
                    "CannaCoin",
                    "CryptCoin",
                    "Verge",
                    "DevCoin",
                    "EarthCoin",
                    "E-Gulden",
                    "Einsteinium",
                    "Emerald",
                    "Franko",
                    "FeatherCoin",
                    "GrandCoin",
                    "GlobalCoin",
                    "GoldCoin",
                    "Infinite Coin",
                    "IXcoin",
                    "KrugerCoin",
                    "LuckyCoin",
                    "Litebar ",
                    "MegaCoin",
                    "MediterraneanCoin",
                    "MinCoin",
                    "NobleCoin",
                    "Namecoin",
                    "NyanCoin",
                    "RonPaulCoin",
                    "StableCoin",
                    "SmartCoin",
                    "SysCoin",
                    "TigerCoin",
                    "TerraCoin",
                    "UnbreakableCoin",
                    "Unobtanium",
                    "UroCoin",
                    "ViaCoin",
                    "Vertcoin",
                    "WorldCoin",
                    "JouleCoin",
                    "ByteCoin",
                    "DigitalNote ",
                    "BurstCoin",
                    "MonaCoin",
                    "Gulden",
                    "PesetaCoin",
                    "Wild Beast Coin",
                    "Flo",
                    "ArtByte",
                    "Folding Coin",
                    "Unitus",
                    "CypherPunkCoin",
                    "OmniCron",
                    "GreenCoin",
                    "Cryptonite",
                    "MasterCoin",
                    "SoonCoin",
                    "1Credit",
                    "MarsCoin ",
                    "Crypto",
                    "Anarchists Prime",
                    "BowsCoin",
                    "Song Coin",
                    "BitZeny",
                    "Expanse",
                    "Siacoin",
                    "MindCoin",
                    "I0coin",
                    "Revolution VR",
                    "HOdlcoin",
                    "Gamecredits",
                    "CarpeDiemCoin",
                    "Adzcoin",
                    "SoilCoin",
                    "YoCoin",
                    "SibCoin",
                    "Francs",
                    "BolivarCoin",
                    "Omni",
                    "PizzaCoin",
                    "Komodo",
                    "Karbo",
                    "ZayedCoin",
                    "Circuits of Value",
                    "DopeCoin",
                    "DollarCoin",
                    "Shilling",
                    "ZCoin",
                    "Elementrem",
                    "ZClassic",
                    "KiloCoin",
                    "ArtexCoin",
                    "Kurrent",
                    "Cannabis Industry Coin",
                    "OsmiumCoin",
                    "Bikercoins",
                    "HexxCoin",
                    "PacCoin",
                    "Citadel",
                    "BeaverCoin",
                    "VaultCoin",
                    "Zero",
                    "Canada eCoin",
                    "Zoin",
                    "DubaiCoin",
                    "EB3coin",
                    "Coinonat",
                    "BenjiRolls",
                    "ILCoin",
                    "EquiTrader",
                    "Quantum Resistant Ledger",
                    "Dynamic",
                    "Nano",
                    "ChanCoin",
                    "Dinastycoin",
                    "DigitalPrice",
                    "Unify",
                    "SocialCoin",
                    "ArcticCoin",
                    "DAS",
                    "LeviarCoin",
                    "Bitcore",
                    "gCn Coin",
                    "SmartCash",
                    "Onix",
                    "Bitcoin Cash",
                    "Sojourn Coin",
                    "NewYorkCoin",
                    "FrazCoin",
                    "Kronecoin",
                    "AdCoin",
                    "Linx",
                    "Sumokoin",
                    "BitcoinZ",
                    "Elements",
                    "VIVO Coin",
                    "Bitcoin Gold",
                    "Pirl",
                    "eBoost",
                    "Pura",
                    "Innova",
                    "Ellaism",
                    "GoByte",
                    "SHIELD",
                    "UltraNote",
                    "BitCoal",
                    "DaxxCoin",
                    "AC3",
                    "Lethean",
                    "PopularCoin",
                    "Photon",
                    "Sucre",
                    "SparksPay",
                    "GunCoin",
                    "IrishCoin",
                    "Pioneer Coin",
                    "UnitedBitcoin",
                    "Interzone",
                    "1717 Masonic Commemorative Token",
                    "TurtleCoin",
                    "MUNcoin",
                    "Niobio Cash",
                    "ShareChain",
                    "Travelflex",
                    "KREDS",
                    "BitFlip",
                    "LottoCoin",
                    "Crypto Improvement Fund",
                    "Callisto Network",
                    "BitTube",
                    "Poseidon",
                    "Aidos Kuneen",
                    "Bitrolium",
                    "Alpenschillling",
                    "FuturoCoin",
                    "Monero Classic",
                    "Jumpcoin",
                    "Infinex",
                    "KEYCO",
                    "GINcoin",
                    "PlatinCoin",
                    "Loki",
                    "Newton Coin",
                    "MassGrid",
                    "PluraCoin",
                    "Motion",
                    "PlusOneCoin",
                    "Axe",
                    "HexCoin",
                    "Webchain",
                    "Ryo",
                    "Urals Coin",
                    "Qwertycoin",
                    "Project Pai",
                    "Azart",
                    "Xchange",
                    "CrypticCoin",
                    "Actinium",
                    "Bitcoin SV",
                    "FREDEnergy",
                    "Universal Molecule",
                    "Lithium",
                    "Exosis",
                    "Block-Logic",
                    "Beam",
                    "Bithereum",
                    "SLICE",
                    "BLAST",
                    "Bitcoin Rhodium",
                    "GlobalToken",
                    "SolarCoin",
                    "UFO Coin",
                    "BlakeCoin",
                    "Crypto Escudo",
                    "Crown Coin",
                    "SmileyCoin",
                    "Groestlcoin",
                    "Bata",
                    "Pakcoin",
                    "JoinCoin",
                    "Vollar",
                    "Reality Clash",
                    "Beldex",
                    "Horizen"
                  ],
                  "legendgroup": "3",
                  "marker": {
                    "color": [
                      3,
                      3,
                      3,
                      3,
                      3,
                      3,
                      3,
                      3,
                      3,
                      3,
                      3,
                      3,
                      3,
                      3,
                      3,
                      3,
                      3,
                      3,
                      3,
                      3,
                      3,
                      3,
                      3,
                      3,
                      3,
                      3,
                      3,
                      3,
                      3,
                      3,
                      3,
                      3,
                      3,
                      3,
                      3,
                      3,
                      3,
                      3,
                      3,
                      3,
                      3,
                      3,
                      3,
                      3,
                      3,
                      3,
                      3,
                      3,
                      3,
                      3,
                      3,
                      3,
                      3,
                      3,
                      3,
                      3,
                      3,
                      3,
                      3,
                      3,
                      3,
                      3,
                      3,
                      3,
                      3,
                      3,
                      3,
                      3,
                      3,
                      3,
                      3,
                      3,
                      3,
                      3,
                      3,
                      3,
                      3,
                      3,
                      3,
                      3,
                      3,
                      3,
                      3,
                      3,
                      3,
                      3,
                      3,
                      3,
                      3,
                      3,
                      3,
                      3,
                      3,
                      3,
                      3,
                      3,
                      3,
                      3,
                      3,
                      3,
                      3,
                      3,
                      3,
                      3,
                      3,
                      3,
                      3,
                      3,
                      3,
                      3,
                      3,
                      3,
                      3,
                      3,
                      3,
                      3,
                      3,
                      3,
                      3,
                      3,
                      3,
                      3,
                      3,
                      3,
                      3,
                      3,
                      3,
                      3,
                      3,
                      3,
                      3,
                      3,
                      3,
                      3,
                      3,
                      3,
                      3,
                      3,
                      3,
                      3,
                      3,
                      3,
                      3,
                      3,
                      3,
                      3,
                      3,
                      3,
                      3,
                      3,
                      3,
                      3,
                      3,
                      3,
                      3,
                      3,
                      3,
                      3,
                      3,
                      3,
                      3,
                      3,
                      3,
                      3,
                      3,
                      3,
                      3,
                      3,
                      3,
                      3,
                      3,
                      3,
                      3,
                      3,
                      3,
                      3,
                      3,
                      3,
                      3,
                      3,
                      3,
                      3,
                      3,
                      3,
                      3,
                      3,
                      3,
                      3,
                      3,
                      3,
                      3,
                      3,
                      3,
                      3,
                      3,
                      3,
                      3,
                      3,
                      3,
                      3,
                      3,
                      3,
                      3,
                      3,
                      3,
                      3,
                      3,
                      3,
                      3,
                      3,
                      3,
                      3,
                      3,
                      3,
                      3,
                      3,
                      3,
                      3,
                      3,
                      3,
                      3,
                      3,
                      3,
                      3,
                      3,
                      3,
                      3,
                      3,
                      3,
                      3,
                      3,
                      3,
                      3,
                      3,
                      3,
                      3,
                      3,
                      3,
                      3,
                      3
                    ],
                    "coloraxis": "coloraxis",
                    "symbol": "diamond"
                  },
                  "mode": "markers",
                  "name": "3",
                  "scene": "scene",
                  "showlegend": true,
                  "type": "scatter3d",
                  "x": [
                    -0.14485425591952295,
                    -0.15598921666030158,
                    -0.16346597571732283,
                    -0.1445288190891683,
                    -0.15443260633191513,
                    -0.1376975314598168,
                    0.16913803452932932,
                    -0.16461124140036557,
                    -0.2240126671107744,
                    -0.16422811429692113,
                    -0.08405054527979502,
                    2.55486566558772,
                    -0.1419416652922744,
                    -0.16148585850261035,
                    -0.16403231888825529,
                    -0.22260035841550543,
                    -0.18986295646652215,
                    -0.1640810319544899,
                    -0.16459352218220866,
                    -0.164679902924704,
                    -0.2241019344106418,
                    0.1928689829652604,
                    0.23267069008481323,
                    0.08383877005246637,
                    -0.1644264117153059,
                    -0.16003547824985573,
                    -0.16436575969440922,
                    -0.16473685780185685,
                    -0.17662017123767654,
                    -0.1439769626227058,
                    -0.1635329863196228,
                    -0.16381020375864963,
                    1.582685824833732,
                    -0.14481565751054884,
                    -0.1611019167795239,
                    -0.16445283096739896,
                    -0.16480734305963202,
                    -0.16406722335118068,
                    -0.16272510910523577,
                    -0.16468871121673348,
                    -0.029711368945381133,
                    -0.1448932034405745,
                    -0.15835801041503214,
                    -0.16466817339360568,
                    -0.1627641714863213,
                    -0.16415535374956947,
                    -0.1320562679608476,
                    -0.14435742659096257,
                    -0.14464439075009383,
                    -0.1446274024717947,
                    -0.14521759054929473,
                    -0.22427567804505008,
                    -0.16438489949925944,
                    -0.1965813978918149,
                    -0.1614905736657919,
                    -0.1444246646781275,
                    3.8567535354087212,
                    0.4586115319154707,
                    -0.14932303736873154,
                    -0.16325346374813676,
                    -0.147865708653855,
                    -0.1619733684358507,
                    -0.16480955095696476,
                    -0.16183851804200267,
                    -0.1480739041066552,
                    -0.1149200283085759,
                    -0.11802815599447723,
                    -0.18674092348587593,
                    -0.1646827344897987,
                    -0.03772981730146018,
                    -0.09264479481632484,
                    -0.1648184354294395,
                    -0.14492095785585496,
                    0.4867645373784736,
                    -0.22366338509343564,
                    -0.15230312813241798,
                    -0.14466104754347742,
                    -0.22394804286033662,
                    -0.1629438493931245,
                    -0.16213677656485323,
                    -0.15705579272109838,
                    0.3709814270098223,
                    -0.22398340848354806,
                    -0.14481677892834624,
                    -0.16077973001705942,
                    -0.16178593650490683,
                    -0.16338301132171135,
                    0.27331159360617363,
                    -0.2231448516675661,
                    -0.1476115505516512,
                    -0.16363026047147564,
                    -0.13237425840716496,
                    -0.16460852842402351,
                    -0.2239466856008164,
                    -0.16481849387459607,
                    -0.22409653202188845,
                    -0.2132073775105355,
                    0.30364861947410715,
                    -0.14507664383110405,
                    -0.09811760883808475,
                    -0.1619876294823769,
                    -0.14503530820105087,
                    -0.1644821840156996,
                    -0.1517501844246949,
                    -0.1567981671768087,
                    -0.13771913056408552,
                    -0.09160889677515863,
                    -0.21069116197563792,
                    -0.2219265586626604,
                    0.30364298408145063,
                    -0.16480024765205936,
                    0.3037735900464765,
                    -0.15284310381516614,
                    0.4905183228540962,
                    -0.14329461630815515,
                    -0.16476856135644927,
                    -0.21683697834972143,
                    -0.13773149363731937,
                    -0.1629034127824784,
                    -0.15256172176210267,
                    -0.14197332353120495,
                    -0.1357178423393092,
                    -0.19255847454626684,
                    -0.164331313796755,
                    -0.11143065257522326,
                    -0.16415353987905107,
                    -0.14315244076415573,
                    -0.16645509886808776,
                    -0.028989406967400877,
                    -0.1381846840580581,
                    0.3397342732397931,
                    -0.22315324416418464,
                    -0.16447251667946214,
                    -0.16423611444710895,
                    -0.2235475816920887,
                    -0.22412453907570837,
                    0.304037631497256,
                    -0.13282044669806567,
                    3.2419755799684813,
                    -0.11768663721316763,
                    -0.21500464583646453,
                    -0.14485342083058672,
                    -0.09045777293496629,
                    1.58075032252961,
                    -0.16457028326084464,
                    -0.16402240541955723,
                    -0.16372363482944,
                    -0.1637105766035143,
                    0.30422107587778585,
                    0.0744107171326518,
                    -0.17855000279127137,
                    -0.1813049008555538,
                    -0.1375776741894273,
                    -0.1463717237905077,
                    -0.16290162342382064,
                    -0.21967278981948327,
                    -0.1811504478536593,
                    -0.15516482177681062,
                    -0.1812505648362563,
                    -0.10826832777230251,
                    1.1408578438782586,
                    0.30362577125533835,
                    -0.08012006795222228,
                    -0.21941465401718124,
                    -0.13227388383141658,
                    -0.08102949028416943,
                    1.100825587846157,
                    -0.22409855960240876,
                    -0.18130245926747163,
                    -0.17434628920305156,
                    -0.16382192252639338,
                    -0.22402403016848413,
                    -0.14483283501492286,
                    -0.19823563756193718,
                    -0.2894904312473054,
                    8.034664279154539,
                    -0.1556205179922066,
                    0.3074968636036629,
                    0.028057921210112923,
                    -0.14587533028103342,
                    -0.18215181787385082,
                    -0.1643951620731546,
                    0.1424193261843058,
                    -0.21816998393042863,
                    -0.10824469061205896,
                    0.31154195519933875,
                    -0.16463196887309173,
                    -0.14938250531515967,
                    -0.13656962107088594,
                    -0.14953564284898913,
                    -0.22319398282156402,
                    0.3038081364196377,
                    -0.19261787615316223,
                    -0.1526884769402694,
                    -0.16143938602652563,
                    -0.1518344867444223,
                    0.3077328689188277,
                    0.6007798860554617,
                    2.1107228372689306,
                    -0.1285343294747481,
                    0.3174014238488982,
                    -0.19350256027791568,
                    -0.15762568013759035,
                    -0.22408073506733686,
                    -0.16465653078807813,
                    -0.13215415665797084,
                    -0.15582776842827603,
                    -0.1448841865106072,
                    3.1211742098974495,
                    -0.10471526938648427,
                    -0.22405212597821308,
                    -0.19293078768812014,
                    -0.032414072925822726,
                    -0.1512327670183682,
                    -0.1448534583649246,
                    0.3834990598136355,
                    -0.13979689261127679,
                    -0.14018856068631091,
                    -0.13547260548275805,
                    -0.163549783973315,
                    -0.13563948039596943,
                    -0.13741063539320703,
                    -0.18595258988279278,
                    -0.14413021722647046,
                    -0.11051420989956899,
                    -0.14299913461831115,
                    0.5306452089372902,
                    -0.10653160359824432,
                    -0.09069778208806406,
                    -0.14822436553549828,
                    -0.144643761722372,
                    0.5504074219283422,
                    -0.18942432838424303,
                    -0.1647332987700633,
                    -0.16269077324319145,
                    -0.11876243402997763,
                    -0.13842859648748582,
                    -0.15683129757457268,
                    0.3253643263937425,
                    -0.13769858753266362
                  ],
                  "y": [
                    -1.3183679493713367,
                    -2.014666304236116,
                    -1.1060475466458892,
                    -2.148719898967037,
                    -2.014781539435194,
                    -1.9474952177142908,
                    -1.8299633730817169,
                    -1.106027031747398,
                    -0.8855356652793995,
                    -1.1060492931551567,
                    -1.8218655457992783,
                    -1.3193576737169788,
                    -1.3184120989029826,
                    -1.1061231026807876,
                    -1.106070520132163,
                    -0.4771909066397438,
                    -1.21895368337219,
                    -1.1060351243595956,
                    -1.106026664562196,
                    -1.1060229341680992,
                    -0.8855361104293209,
                    -1.8263496974514741,
                    -1.3252791613767845,
                    -1.1103454202575753,
                    -1.1060232016277722,
                    -1.106128018645751,
                    -1.106029670539135,
                    -1.1060227770197555,
                    -1.6182401675508225,
                    -1.1065824448485369,
                    -1.1060391024720113,
                    -1.106046424340851,
                    -1.1334362850825648,
                    -1.3183671495186315,
                    -1.1061259771610472,
                    -1.1060230467562062,
                    -1.1060172944179014,
                    -1.1060305075674486,
                    -2.2614545066729095,
                    -1.1060209113415715,
                    -1.1137519685816755,
                    -1.318368756458493,
                    -1.1061193898824817,
                    -1.1060282115164628,
                    -1.1061495924280655,
                    -1.1060387953949573,
                    -1.3187116750228747,
                    -1.3183759231747565,
                    -1.31837834964999,
                    -1.3184046866298427,
                    -1.3183609049379938,
                    -0.8855270686525547,
                    -1.1060237460790812,
                    -1.3211457307824643,
                    -1.1061340310749375,
                    -1.3183759034202935,
                    -2.342172354552323,
                    -2.2900541903812694,
                    -0.16748218584901078,
                    -1.1060579763575387,
                    -1.1068452100177142,
                    -1.1060744793968615,
                    -1.106018237764715,
                    -1.1060671998096976,
                    -1.1063719313753781,
                    -2.229452059346992,
                    -1.8211649591826091,
                    -1.5328872648259941,
                    -1.1060161318969826,
                    -1.1104064173691979,
                    -2.1278873867260186,
                    -1.1060170112020138,
                    -1.3183693315973326,
                    -1.1571297133974037,
                    -0.885537557761947,
                    -2.2095159297094864,
                    -1.3183869543679652,
                    -0.8855350284506823,
                    -1.106125390649189,
                    -1.1061365912827084,
                    -2.0147002803630616,
                    -2.186081994422107,
                    -0.8855322495992997,
                    -1.31836717275713,
                    -1.106080376281535,
                    -2.2773765595642566,
                    -1.1060458274222713,
                    -1.3248768463407776,
                    -0.8855626319627709,
                    -2.1988425013412005,
                    -1.106110194534725,
                    -2.1794024299859296,
                    -1.10602627318536,
                    -0.8855378096953087,
                    -1.106017010285041,
                    -0.8855409148768058,
                    -1.0893840770892904,
                    -2.2862489955786494,
                    -1.3183646466016943,
                    -1.8215951754271553,
                    -1.106098383463986,
                    -1.3183644237494334,
                    -1.106030678448446,
                    -2.2170999483649636,
                    -2.014701472919994,
                    -1.9474956653001483,
                    -1.1115229226515542,
                    -0.885596735804398,
                    -0.8856385233072623,
                    -2.286256838126088,
                    -1.1060181055799923,
                    -2.2862569410238716,
                    -2.209487936254688,
                    -0.9409490607039017,
                    -2.148824256668316,
                    -1.1060179024754895,
                    -0.8860752633267412,
                    -1.9474931121226915,
                    -1.1060471264579816,
                    -2.209489831104812,
                    -2.1615672780740742,
                    -1.108222911542552,
                    -0.6651765322860016,
                    -1.106031429263375,
                    -1.3194164384631213,
                    -1.1060533665329133,
                    -2.1487651230392584,
                    -2.2719387739060988,
                    -2.1946093555625734,
                    -2.142145491775801,
                    -2.286898875001583,
                    -0.8855740433570178,
                    -1.1060229467577776,
                    -1.1060571847061114,
                    -0.8855541212842133,
                    -0.885537210961165,
                    -2.2862718373791733,
                    -2.0998274305461138,
                    -1.175888053263476,
                    -1.2030401428294732,
                    -0.8861075272087343,
                    -1.3183679320662678,
                    -1.1118502398641843,
                    -1.0698441552431608,
                    -1.1060254806527643,
                    -1.1060590772196832,
                    -1.1060641234493387,
                    -1.1060638528512072,
                    -2.286292539918183,
                    -1.9578342651292187,
                    -0.8858437383444792,
                    -1.6181202226590012,
                    -1.9474927339807744,
                    -2.1989055197189282,
                    -1.1060470893781278,
                    -0.8856775055425992,
                    -1.6181296641844887,
                    -2.014845876697084,
                    -1.618122467929222,
                    -1.8214262579620348,
                    -2.3285920849259125,
                    -2.2862512249056506,
                    -2.0201175371966853,
                    -0.885812624859197,
                    -2.1491679253987668,
                    -1.107791978752009,
                    -1.241699902636571,
                    -0.8855373047117562,
                    -1.6181159580078643,
                    -1.6183082313805646,
                    -1.10604087587591,
                    -0.8855380077772846,
                    -1.3183669197244938,
                    -1.2455113142901637,
                    -0.1501755126245702,
                    -2.8283791501553424,
                    -2.241694139464903,
                    -2.286398214303735,
                    -1.1090431357712216,
                    -2.198855686624578,
                    -1.3215602949319996,
                    -1.1060358985684522,
                    -1.1125778698714492,
                    -0.8857517151451716,
                    -2.018242148586719,
                    -2.286780745665124,
                    -1.1060274612709349,
                    -2.22856010854554,
                    -1.9475062594604133,
                    -2.217249730333194,
                    -0.8855748875608648,
                    -2.286251589678124,
                    -0.6651586229913452,
                    -2.2094961661485635,
                    -2.1387402979067196,
                    -2.2170940397794463,
                    -2.2865787425069466,
                    -2.150068319791983,
                    -2.378026044413131,
                    -2.131181650970679,
                    -2.2866593232547388,
                    -1.2286877222576107,
                    -2.2120445095455854,
                    -0.8855377781552338,
                    -1.1060287465266934,
                    -2.1496925654528467,
                    -2.235203240238404,
                    -0.7222933609234102,
                    -2.227295417971486,
                    -1.318996342392571,
                    -0.8855399946758148,
                    -1.2287306032961995,
                    -1.9506365433948067,
                    -2.2171331928663993,
                    -1.318367932844071,
                    -2.290262205326832,
                    -2.2027990699656765,
                    -2.2027510752858173,
                    -2.0601753092434367,
                    -1.1060745676893797,
                    -1.947622396338598,
                    -1.9474962158903304,
                    -1.53294116289902,
                    -1.3183831462636224,
                    -0.3761978482747619,
                    -1.3184327511158058,
                    -1.1605046891562172,
                    -1.619361145565059,
                    -2.2066241850773105,
                    -1.1063750493013285,
                    -1.3183783366150101,
                    -1.12631248983501,
                    -1.2189593431281187,
                    -1.1060183235909615,
                    -1.1061003121426052,
                    -1.8211821417647125,
                    -2.237866093771375,
                    -2.014700953122126,
                    -2.2867754059715875,
                    -1.9474952395986829
                  ],
                  "z": [
                    0.1918560059336785,
                    0.32140731822184354,
                    -0.004957692373079785,
                    0.27145219496928447,
                    0.3213985206187897,
                    0.3806547032245282,
                    0.3251793990394621,
                    -0.004945510250088103,
                    -0.0023548041064127916,
                    -0.004948217611655129,
                    0.3275560726457791,
                    -0.019248546744424964,
                    0.1918243121448896,
                    -0.00497519364158626,
                    -0.004948726131677507,
                    0.08705254454166332,
                    0.014806816364591734,
                    -0.004951274863048399,
                    -0.004945759543972933,
                    -0.004945034651963513,
                    -0.0023536729797719873,
                    0.3245681882482006,
                    0.18785350437470855,
                    -0.007599988399707829,
                    -0.004948110641924528,
                    -0.004992492518304669,
                    -0.0049482776391592065,
                    -0.004944352154752413,
                    0.20150435176166573,
                    -0.005148490567404568,
                    -0.004957623095334646,
                    -0.004953582772611227,
                    -0.023876949643825408,
                    0.19185546288784736,
                    -0.004979633214653201,
                    -0.004947801339233666,
                    -0.004943977294954964,
                    -0.004951853853577432,
                    0.4625910886674618,
                    -0.004945106641196281,
                    -0.005908847784729266,
                    0.1918565538911856,
                    -0.0050137715298138805,
                    -0.004944709266791422,
                    -0.004957208897164845,
                    -0.004950039919940147,
                    0.19173004422650453,
                    0.19185063894614848,
                    0.19185436356861857,
                    0.1918564954944693,
                    0.1918598230779094,
                    -0.0023523516339334113,
                    -0.004948569896349256,
                    0.25389147525340766,
                    -0.0049741651525617376,
                    0.19185145939433484,
                    0.3228010445640476,
                    0.3597243707734352,
                    0.530967706699289,
                    -0.004959364489116068,
                    -0.0050775951572771694,
                    -0.004973551736493899,
                    -0.004943866493449558,
                    -0.004975847405506587,
                    -0.005117093306263459,
                    0.3978365018864212,
                    0.32790932177058396,
                    0.26835196661006305,
                    -0.004945604311039851,
                    -0.006108000507088767,
                    0.15497137657817653,
                    -0.004943866814522434,
                    0.1918569443715075,
                    -0.008370946415502255,
                    -0.002358907088872168,
                    0.30042964084140994,
                    0.19185533165743232,
                    -0.0023556509199790464,
                    -0.004957161734164514,
                    -0.004966035794378464,
                    0.3214233788548903,
                    0.3373907285428389,
                    -0.0023554653218958487,
                    0.19185547866521394,
                    -0.00498762397326897,
                    0.4106233910566103,
                    -0.0049588596094849715,
                    0.18732079796819576,
                    -0.0023630203544052174,
                    0.3297958156848968,
                    -0.00495011809521774,
                    0.20125879715620665,
                    -0.004945610812343817,
                    -0.002355420443216211,
                    -0.0049438661813012335,
                    -0.0023533122352734936,
                    0.565027295104377,
                    0.36128125666035876,
                    0.19185843194150418,
                    0.32770406947007313,
                    -0.004971253815939224,
                    0.19185790668250957,
                    -0.004946764437005068,
                    0.3615576599640049,
                    0.3214203344909215,
                    0.3806550071050157,
                    -0.005349969034092499,
                    -0.0025122773537640704,
                    -0.0023711760705015872,
                    0.36128202226899314,
                    -0.00494399199915697,
                    0.36128043432963647,
                    0.3004337569740857,
                    -0.006169571971051616,
                    0.27144637353178364,
                    -0.0049443975095240225,
                    -0.002394614571509283,
                    0.3806549314704153,
                    -0.00496460885214344,
                    0.30043048449862697,
                    0.2646352302723002,
                    -0.005103753114681926,
                    0.04911526500005264,
                    -0.004948542614271823,
                    0.19154043748035038,
                    -0.004948767663987038,
                    0.27143938180204547,
                    0.49036507265386264,
                    0.3430391992283567,
                    0.41559865964952875,
                    0.36089772528503705,
                    -0.002361903990462166,
                    -0.004947569501157894,
                    -0.004947418732952849,
                    -0.0023588517288765974,
                    -0.0023532987981779727,
                    0.36127852889617823,
                    0.1734345459501659,
                    -0.040395903558202696,
                    0.0663604341254142,
                    -0.0024141545802260573,
                    0.1918559941846957,
                    -0.005334967811630944,
                    -0.02950252951299576,
                    -0.004946148888303194,
                    -0.00494986389436606,
                    -0.0049530690461089865,
                    -0.00495325276391428,
                    0.3612781248186363,
                    0.37897946976336044,
                    -0.002883364351285499,
                    0.20155098235187074,
                    0.38065301693768006,
                    0.32978625307072296,
                    -0.0049646340268530145,
                    -0.0023952726721931075,
                    0.20154993240834115,
                    0.32141318976276934,
                    0.20155051737831362,
                    0.3278131889486004,
                    0.3548052415718294,
                    0.36128173409742637,
                    0.3209638362686284,
                    -0.0023864258061152394,
                    0.27134213946452407,
                    -0.005810777290387689,
                    -0.02050421837148739,
                    -0.00235360815287172,
                    0.20155057364254017,
                    0.2014825926932489,
                    -0.004953932374214934,
                    -0.0023544570589780875,
                    0.19185565252448672,
                    0.2156878114998419,
                    0.13416977052177353,
                    0.3149050654801634,
                    0.4105451150915257,
                    0.36124745537048625,
                    -0.0070335763858183,
                    0.3297757560996604,
                    0.25375185503959924,
                    -0.004947364829002243,
                    -0.008118004074678959,
                    -0.002407056877132944,
                    0.3211411493952423,
                    0.36123197346137037,
                    -0.004945218632695437,
                    0.42220921309750015,
                    0.38064189177257435,
                    0.3615438860078761,
                    -0.0023613308332226008,
                    0.3612795364982578,
                    0.04911440039314363,
                    0.3004325972683251,
                    0.25085461260388775,
                    0.361558165939542,
                    0.3612606067809164,
                    0.20662112063114468,
                    0.3473370026502577,
                    0.5179041838707441,
                    0.36114953586787785,
                    0.19184466907618725,
                    0.3635379206910674,
                    -0.0023537840568086483,
                    -0.004944804107323229,
                    0.27138728214832014,
                    0.41797338993775035,
                    0.1767560373453796,
                    0.18266166700234449,
                    0.19142100069711157,
                    -0.0023539369894272633,
                    0.19184148667153636,
                    0.37964633410279286,
                    0.3615542861593162,
                    0.191855994712771,
                    0.3606613428256026,
                    0.39750571369500287,
                    0.3975062394658385,
                    0.31664129275016867,
                    -0.004954267114355162,
                    0.38064083488849687,
                    0.3806512836658041,
                    0.2683471147519127,
                    0.19184850224452688,
                    -0.028701086403410018,
                    0.1918390777801936,
                    -0.00860771141412926,
                    0.20074687513264367,
                    0.397245124819953,
                    -0.005114976445699959,
                    0.19185435471874934,
                    -0.01188685434474541,
                    0.014801955505659938,
                    -0.004944791298630773,
                    -0.004962484273851557,
                    0.327919827120179,
                    0.5456136228545988,
                    0.32142069344061225,
                    0.3610624759121093,
                    0.38065471808255064
                  ]
                },
                {
                  "customdata": [
                    [
                      "Proof-of-BibleHash"
                    ],
                    [
                      "Proof-of-Authority"
                    ],
                    [
                      "ECC 256K1"
                    ]
                  ],
                  "hovertemplate": "<b>%{hovertext}</b><br><br>Class=%{marker.color}<br>PC 1=%{x}<br>PC 2=%{y}<br>PC 3=%{z}<br>Algorithm=%{customdata[0]}<extra></extra>",
                  "hovertext": [
                    "BiblePay",
                    "Poa Network",
                    "Acute Angle Cloud"
                  ],
                  "legendgroup": "1",
                  "marker": {
                    "color": [
                      1,
                      1,
                      1
                    ],
                    "coloraxis": "coloraxis",
                    "symbol": "square"
                  },
                  "mode": "markers",
                  "name": "1",
                  "scene": "scene",
                  "showlegend": true,
                  "type": "scatter3d",
                  "x": [
                    -0.19205895428591602,
                    -0.4217924830906506,
                    -0.3203626491915661
                  ],
                  "y": [
                    3.261411053375893,
                    2.8471776600968353,
                    3.855879888156291
                  ],
                  "z": [
                    17.8300021599289,
                    21.713634865796564,
                    13.834624257387949
                  ]
                },
                {
                  "customdata": [
                    [
                      "TRC10"
                    ]
                  ],
                  "hovertemplate": "<b>%{hovertext}</b><br><br>Class=%{marker.color}<br>PC 1=%{x}<br>PC 2=%{y}<br>PC 3=%{z}<br>Algorithm=%{customdata[0]}<extra></extra>",
                  "hovertext": [
                    "BitTorrent"
                  ],
                  "legendgroup": "2",
                  "marker": {
                    "color": [
                      2
                    ],
                    "coloraxis": "coloraxis",
                    "symbol": "x"
                  },
                  "mode": "markers",
                  "name": "2",
                  "scene": "scene",
                  "showlegend": true,
                  "type": "scatter3d",
                  "x": [
                    34.038311851963236
                  ],
                  "y": [
                    1.3647780045212452
                  ],
                  "z": [
                    -0.24994920231951803
                  ]
                }
              ],
              "layout": {
                "coloraxis": {
                  "colorbar": {
                    "title": {
                      "text": "Class"
                    }
                  },
                  "colorscale": [
                    [
                      0,
                      "#0d0887"
                    ],
                    [
                      0.1111111111111111,
                      "#46039f"
                    ],
                    [
                      0.2222222222222222,
                      "#7201a8"
                    ],
                    [
                      0.3333333333333333,
                      "#9c179e"
                    ],
                    [
                      0.4444444444444444,
                      "#bd3786"
                    ],
                    [
                      0.5555555555555556,
                      "#d8576b"
                    ],
                    [
                      0.6666666666666666,
                      "#ed7953"
                    ],
                    [
                      0.7777777777777778,
                      "#fb9f3a"
                    ],
                    [
                      0.8888888888888888,
                      "#fdca26"
                    ],
                    [
                      1,
                      "#f0f921"
                    ]
                  ]
                },
                "legend": {
                  "title": {
                    "text": "Class"
                  },
                  "tracegroupgap": 0,
                  "x": 0,
                  "y": 1
                },
                "margin": {
                  "t": 60
                },
                "scene": {
                  "domain": {
                    "x": [
                      0,
                      1
                    ],
                    "y": [
                      0,
                      1
                    ]
                  },
                  "xaxis": {
                    "title": {
                      "text": "PC 1"
                    }
                  },
                  "yaxis": {
                    "title": {
                      "text": "PC 2"
                    }
                  },
                  "zaxis": {
                    "title": {
                      "text": "PC 3"
                    }
                  }
                },
                "template": {
                  "data": {
                    "bar": [
                      {
                        "error_x": {
                          "color": "#2a3f5f"
                        },
                        "error_y": {
                          "color": "#2a3f5f"
                        },
                        "marker": {
                          "line": {
                            "color": "#E5ECF6",
                            "width": 0.5
                          },
                          "pattern": {
                            "fillmode": "overlay",
                            "size": 10,
                            "solidity": 0.2
                          }
                        },
                        "type": "bar"
                      }
                    ],
                    "barpolar": [
                      {
                        "marker": {
                          "line": {
                            "color": "#E5ECF6",
                            "width": 0.5
                          },
                          "pattern": {
                            "fillmode": "overlay",
                            "size": 10,
                            "solidity": 0.2
                          }
                        },
                        "type": "barpolar"
                      }
                    ],
                    "carpet": [
                      {
                        "aaxis": {
                          "endlinecolor": "#2a3f5f",
                          "gridcolor": "white",
                          "linecolor": "white",
                          "minorgridcolor": "white",
                          "startlinecolor": "#2a3f5f"
                        },
                        "baxis": {
                          "endlinecolor": "#2a3f5f",
                          "gridcolor": "white",
                          "linecolor": "white",
                          "minorgridcolor": "white",
                          "startlinecolor": "#2a3f5f"
                        },
                        "type": "carpet"
                      }
                    ],
                    "choropleth": [
                      {
                        "colorbar": {
                          "outlinewidth": 0,
                          "ticks": ""
                        },
                        "type": "choropleth"
                      }
                    ],
                    "contour": [
                      {
                        "colorbar": {
                          "outlinewidth": 0,
                          "ticks": ""
                        },
                        "colorscale": [
                          [
                            0,
                            "#0d0887"
                          ],
                          [
                            0.1111111111111111,
                            "#46039f"
                          ],
                          [
                            0.2222222222222222,
                            "#7201a8"
                          ],
                          [
                            0.3333333333333333,
                            "#9c179e"
                          ],
                          [
                            0.4444444444444444,
                            "#bd3786"
                          ],
                          [
                            0.5555555555555556,
                            "#d8576b"
                          ],
                          [
                            0.6666666666666666,
                            "#ed7953"
                          ],
                          [
                            0.7777777777777778,
                            "#fb9f3a"
                          ],
                          [
                            0.8888888888888888,
                            "#fdca26"
                          ],
                          [
                            1,
                            "#f0f921"
                          ]
                        ],
                        "type": "contour"
                      }
                    ],
                    "contourcarpet": [
                      {
                        "colorbar": {
                          "outlinewidth": 0,
                          "ticks": ""
                        },
                        "type": "contourcarpet"
                      }
                    ],
                    "heatmap": [
                      {
                        "colorbar": {
                          "outlinewidth": 0,
                          "ticks": ""
                        },
                        "colorscale": [
                          [
                            0,
                            "#0d0887"
                          ],
                          [
                            0.1111111111111111,
                            "#46039f"
                          ],
                          [
                            0.2222222222222222,
                            "#7201a8"
                          ],
                          [
                            0.3333333333333333,
                            "#9c179e"
                          ],
                          [
                            0.4444444444444444,
                            "#bd3786"
                          ],
                          [
                            0.5555555555555556,
                            "#d8576b"
                          ],
                          [
                            0.6666666666666666,
                            "#ed7953"
                          ],
                          [
                            0.7777777777777778,
                            "#fb9f3a"
                          ],
                          [
                            0.8888888888888888,
                            "#fdca26"
                          ],
                          [
                            1,
                            "#f0f921"
                          ]
                        ],
                        "type": "heatmap"
                      }
                    ],
                    "heatmapgl": [
                      {
                        "colorbar": {
                          "outlinewidth": 0,
                          "ticks": ""
                        },
                        "colorscale": [
                          [
                            0,
                            "#0d0887"
                          ],
                          [
                            0.1111111111111111,
                            "#46039f"
                          ],
                          [
                            0.2222222222222222,
                            "#7201a8"
                          ],
                          [
                            0.3333333333333333,
                            "#9c179e"
                          ],
                          [
                            0.4444444444444444,
                            "#bd3786"
                          ],
                          [
                            0.5555555555555556,
                            "#d8576b"
                          ],
                          [
                            0.6666666666666666,
                            "#ed7953"
                          ],
                          [
                            0.7777777777777778,
                            "#fb9f3a"
                          ],
                          [
                            0.8888888888888888,
                            "#fdca26"
                          ],
                          [
                            1,
                            "#f0f921"
                          ]
                        ],
                        "type": "heatmapgl"
                      }
                    ],
                    "histogram": [
                      {
                        "marker": {
                          "pattern": {
                            "fillmode": "overlay",
                            "size": 10,
                            "solidity": 0.2
                          }
                        },
                        "type": "histogram"
                      }
                    ],
                    "histogram2d": [
                      {
                        "colorbar": {
                          "outlinewidth": 0,
                          "ticks": ""
                        },
                        "colorscale": [
                          [
                            0,
                            "#0d0887"
                          ],
                          [
                            0.1111111111111111,
                            "#46039f"
                          ],
                          [
                            0.2222222222222222,
                            "#7201a8"
                          ],
                          [
                            0.3333333333333333,
                            "#9c179e"
                          ],
                          [
                            0.4444444444444444,
                            "#bd3786"
                          ],
                          [
                            0.5555555555555556,
                            "#d8576b"
                          ],
                          [
                            0.6666666666666666,
                            "#ed7953"
                          ],
                          [
                            0.7777777777777778,
                            "#fb9f3a"
                          ],
                          [
                            0.8888888888888888,
                            "#fdca26"
                          ],
                          [
                            1,
                            "#f0f921"
                          ]
                        ],
                        "type": "histogram2d"
                      }
                    ],
                    "histogram2dcontour": [
                      {
                        "colorbar": {
                          "outlinewidth": 0,
                          "ticks": ""
                        },
                        "colorscale": [
                          [
                            0,
                            "#0d0887"
                          ],
                          [
                            0.1111111111111111,
                            "#46039f"
                          ],
                          [
                            0.2222222222222222,
                            "#7201a8"
                          ],
                          [
                            0.3333333333333333,
                            "#9c179e"
                          ],
                          [
                            0.4444444444444444,
                            "#bd3786"
                          ],
                          [
                            0.5555555555555556,
                            "#d8576b"
                          ],
                          [
                            0.6666666666666666,
                            "#ed7953"
                          ],
                          [
                            0.7777777777777778,
                            "#fb9f3a"
                          ],
                          [
                            0.8888888888888888,
                            "#fdca26"
                          ],
                          [
                            1,
                            "#f0f921"
                          ]
                        ],
                        "type": "histogram2dcontour"
                      }
                    ],
                    "mesh3d": [
                      {
                        "colorbar": {
                          "outlinewidth": 0,
                          "ticks": ""
                        },
                        "type": "mesh3d"
                      }
                    ],
                    "parcoords": [
                      {
                        "line": {
                          "colorbar": {
                            "outlinewidth": 0,
                            "ticks": ""
                          }
                        },
                        "type": "parcoords"
                      }
                    ],
                    "pie": [
                      {
                        "automargin": true,
                        "type": "pie"
                      }
                    ],
                    "scatter": [
                      {
                        "marker": {
                          "colorbar": {
                            "outlinewidth": 0,
                            "ticks": ""
                          }
                        },
                        "type": "scatter"
                      }
                    ],
                    "scatter3d": [
                      {
                        "line": {
                          "colorbar": {
                            "outlinewidth": 0,
                            "ticks": ""
                          }
                        },
                        "marker": {
                          "colorbar": {
                            "outlinewidth": 0,
                            "ticks": ""
                          }
                        },
                        "type": "scatter3d"
                      }
                    ],
                    "scattercarpet": [
                      {
                        "marker": {
                          "colorbar": {
                            "outlinewidth": 0,
                            "ticks": ""
                          }
                        },
                        "type": "scattercarpet"
                      }
                    ],
                    "scattergeo": [
                      {
                        "marker": {
                          "colorbar": {
                            "outlinewidth": 0,
                            "ticks": ""
                          }
                        },
                        "type": "scattergeo"
                      }
                    ],
                    "scattergl": [
                      {
                        "marker": {
                          "colorbar": {
                            "outlinewidth": 0,
                            "ticks": ""
                          }
                        },
                        "type": "scattergl"
                      }
                    ],
                    "scattermapbox": [
                      {
                        "marker": {
                          "colorbar": {
                            "outlinewidth": 0,
                            "ticks": ""
                          }
                        },
                        "type": "scattermapbox"
                      }
                    ],
                    "scatterpolar": [
                      {
                        "marker": {
                          "colorbar": {
                            "outlinewidth": 0,
                            "ticks": ""
                          }
                        },
                        "type": "scatterpolar"
                      }
                    ],
                    "scatterpolargl": [
                      {
                        "marker": {
                          "colorbar": {
                            "outlinewidth": 0,
                            "ticks": ""
                          }
                        },
                        "type": "scatterpolargl"
                      }
                    ],
                    "scatterternary": [
                      {
                        "marker": {
                          "colorbar": {
                            "outlinewidth": 0,
                            "ticks": ""
                          }
                        },
                        "type": "scatterternary"
                      }
                    ],
                    "surface": [
                      {
                        "colorbar": {
                          "outlinewidth": 0,
                          "ticks": ""
                        },
                        "colorscale": [
                          [
                            0,
                            "#0d0887"
                          ],
                          [
                            0.1111111111111111,
                            "#46039f"
                          ],
                          [
                            0.2222222222222222,
                            "#7201a8"
                          ],
                          [
                            0.3333333333333333,
                            "#9c179e"
                          ],
                          [
                            0.4444444444444444,
                            "#bd3786"
                          ],
                          [
                            0.5555555555555556,
                            "#d8576b"
                          ],
                          [
                            0.6666666666666666,
                            "#ed7953"
                          ],
                          [
                            0.7777777777777778,
                            "#fb9f3a"
                          ],
                          [
                            0.8888888888888888,
                            "#fdca26"
                          ],
                          [
                            1,
                            "#f0f921"
                          ]
                        ],
                        "type": "surface"
                      }
                    ],
                    "table": [
                      {
                        "cells": {
                          "fill": {
                            "color": "#EBF0F8"
                          },
                          "line": {
                            "color": "white"
                          }
                        },
                        "header": {
                          "fill": {
                            "color": "#C8D4E3"
                          },
                          "line": {
                            "color": "white"
                          }
                        },
                        "type": "table"
                      }
                    ]
                  },
                  "layout": {
                    "annotationdefaults": {
                      "arrowcolor": "#2a3f5f",
                      "arrowhead": 0,
                      "arrowwidth": 1
                    },
                    "autotypenumbers": "strict",
                    "coloraxis": {
                      "colorbar": {
                        "outlinewidth": 0,
                        "ticks": ""
                      }
                    },
                    "colorscale": {
                      "diverging": [
                        [
                          0,
                          "#8e0152"
                        ],
                        [
                          0.1,
                          "#c51b7d"
                        ],
                        [
                          0.2,
                          "#de77ae"
                        ],
                        [
                          0.3,
                          "#f1b6da"
                        ],
                        [
                          0.4,
                          "#fde0ef"
                        ],
                        [
                          0.5,
                          "#f7f7f7"
                        ],
                        [
                          0.6,
                          "#e6f5d0"
                        ],
                        [
                          0.7,
                          "#b8e186"
                        ],
                        [
                          0.8,
                          "#7fbc41"
                        ],
                        [
                          0.9,
                          "#4d9221"
                        ],
                        [
                          1,
                          "#276419"
                        ]
                      ],
                      "sequential": [
                        [
                          0,
                          "#0d0887"
                        ],
                        [
                          0.1111111111111111,
                          "#46039f"
                        ],
                        [
                          0.2222222222222222,
                          "#7201a8"
                        ],
                        [
                          0.3333333333333333,
                          "#9c179e"
                        ],
                        [
                          0.4444444444444444,
                          "#bd3786"
                        ],
                        [
                          0.5555555555555556,
                          "#d8576b"
                        ],
                        [
                          0.6666666666666666,
                          "#ed7953"
                        ],
                        [
                          0.7777777777777778,
                          "#fb9f3a"
                        ],
                        [
                          0.8888888888888888,
                          "#fdca26"
                        ],
                        [
                          1,
                          "#f0f921"
                        ]
                      ],
                      "sequentialminus": [
                        [
                          0,
                          "#0d0887"
                        ],
                        [
                          0.1111111111111111,
                          "#46039f"
                        ],
                        [
                          0.2222222222222222,
                          "#7201a8"
                        ],
                        [
                          0.3333333333333333,
                          "#9c179e"
                        ],
                        [
                          0.4444444444444444,
                          "#bd3786"
                        ],
                        [
                          0.5555555555555556,
                          "#d8576b"
                        ],
                        [
                          0.6666666666666666,
                          "#ed7953"
                        ],
                        [
                          0.7777777777777778,
                          "#fb9f3a"
                        ],
                        [
                          0.8888888888888888,
                          "#fdca26"
                        ],
                        [
                          1,
                          "#f0f921"
                        ]
                      ]
                    },
                    "colorway": [
                      "#636efa",
                      "#EF553B",
                      "#00cc96",
                      "#ab63fa",
                      "#FFA15A",
                      "#19d3f3",
                      "#FF6692",
                      "#B6E880",
                      "#FF97FF",
                      "#FECB52"
                    ],
                    "font": {
                      "color": "#2a3f5f"
                    },
                    "geo": {
                      "bgcolor": "white",
                      "lakecolor": "white",
                      "landcolor": "#E5ECF6",
                      "showlakes": true,
                      "showland": true,
                      "subunitcolor": "white"
                    },
                    "hoverlabel": {
                      "align": "left"
                    },
                    "hovermode": "closest",
                    "mapbox": {
                      "style": "light"
                    },
                    "paper_bgcolor": "white",
                    "plot_bgcolor": "#E5ECF6",
                    "polar": {
                      "angularaxis": {
                        "gridcolor": "white",
                        "linecolor": "white",
                        "ticks": ""
                      },
                      "bgcolor": "#E5ECF6",
                      "radialaxis": {
                        "gridcolor": "white",
                        "linecolor": "white",
                        "ticks": ""
                      }
                    },
                    "scene": {
                      "xaxis": {
                        "backgroundcolor": "#E5ECF6",
                        "gridcolor": "white",
                        "gridwidth": 2,
                        "linecolor": "white",
                        "showbackground": true,
                        "ticks": "",
                        "zerolinecolor": "white"
                      },
                      "yaxis": {
                        "backgroundcolor": "#E5ECF6",
                        "gridcolor": "white",
                        "gridwidth": 2,
                        "linecolor": "white",
                        "showbackground": true,
                        "ticks": "",
                        "zerolinecolor": "white"
                      },
                      "zaxis": {
                        "backgroundcolor": "#E5ECF6",
                        "gridcolor": "white",
                        "gridwidth": 2,
                        "linecolor": "white",
                        "showbackground": true,
                        "ticks": "",
                        "zerolinecolor": "white"
                      }
                    },
                    "shapedefaults": {
                      "line": {
                        "color": "#2a3f5f"
                      }
                    },
                    "ternary": {
                      "aaxis": {
                        "gridcolor": "white",
                        "linecolor": "white",
                        "ticks": ""
                      },
                      "baxis": {
                        "gridcolor": "white",
                        "linecolor": "white",
                        "ticks": ""
                      },
                      "bgcolor": "#E5ECF6",
                      "caxis": {
                        "gridcolor": "white",
                        "linecolor": "white",
                        "ticks": ""
                      }
                    },
                    "title": {
                      "x": 0.05
                    },
                    "xaxis": {
                      "automargin": true,
                      "gridcolor": "white",
                      "linecolor": "white",
                      "ticks": "",
                      "title": {
                        "standoff": 15
                      },
                      "zerolinecolor": "white",
                      "zerolinewidth": 2
                    },
                    "yaxis": {
                      "automargin": true,
                      "gridcolor": "white",
                      "linecolor": "white",
                      "ticks": "",
                      "title": {
                        "standoff": 15
                      },
                      "zerolinecolor": "white",
                      "zerolinewidth": 2
                    }
                  }
                },
                "width": 800
              }
            }
          },
          "metadata": {}
        }
      ],
      "metadata": {
        "id": "aVwaE2eDjTSD"
      }
    },
    {
      "cell_type": "code",
      "execution_count": 21,
      "source": [
        "# Create a table with tradable cryptocurrencies.\r\n",
        "table = clustered_df.hvplot.table(columns=['CoinName', 'Algorithm', 'ProofType', 'TotalCoinSupply', 'TotalCoinsMined', 'Class'], sortable = True, selectable = True)\r\n",
        "table"
      ],
      "outputs": [
        {
          "output_type": "display_data",
          "data": {},
          "metadata": {}
        },
        {
          "output_type": "execute_result",
          "data": {
            "application/vnd.holoviews_exec.v0+json": "",
            "text/plain": [
              ":Table   [CoinName,Algorithm,ProofType,TotalCoinSupply,TotalCoinsMined,Class]"
            ],
            "text/html": [
              "<div id='1120'>\n",
              "\n",
              "\n",
              "\n",
              "\n",
              "\n",
              "  <div class=\"bk-root\" id=\"d8f00c53-05a5-4a69-a6a3-18da02347b32\" data-root-id=\"1120\"></div>\n",
              "</div>\n",
              "<script type=\"application/javascript\">(function(root) {\n",
              "  function embed_document(root) {\n",
              "    var docs_json = {\"28a1f970-de39-4694-982d-1ea94c2db10f\":{\"defs\":[{\"extends\":null,\"module\":null,\"name\":\"ReactiveHTML1\",\"overrides\":[],\"properties\":[]},{\"extends\":null,\"module\":null,\"name\":\"FlexBox1\",\"overrides\":[],\"properties\":[{\"default\":\"flex-start\",\"kind\":null,\"name\":\"align_content\"},{\"default\":\"flex-start\",\"kind\":null,\"name\":\"align_items\"},{\"default\":\"row\",\"kind\":null,\"name\":\"flex_direction\"},{\"default\":\"wrap\",\"kind\":null,\"name\":\"flex_wrap\"},{\"default\":\"flex-start\",\"kind\":null,\"name\":\"justify_content\"}]},{\"extends\":null,\"module\":null,\"name\":\"TemplateActions1\",\"overrides\":[],\"properties\":[{\"default\":0,\"kind\":null,\"name\":\"open_modal\"},{\"default\":0,\"kind\":null,\"name\":\"close_modal\"}]},{\"extends\":null,\"module\":null,\"name\":\"MaterialTemplateActions1\",\"overrides\":[],\"properties\":[{\"default\":0,\"kind\":null,\"name\":\"open_modal\"},{\"default\":0,\"kind\":null,\"name\":\"close_modal\"}]}],\"roots\":{\"references\":[{\"attributes\":{},\"id\":\"1125\",\"type\":\"StringEditor\"},{\"attributes\":{},\"id\":\"1158\",\"type\":\"UnionRenderers\"},{\"attributes\":{},\"id\":\"1140\",\"type\":\"StringEditor\"},{\"attributes\":{\"data\":{\"Algorithm\":[\"Scrypt\",\"Scrypt\",\"X13\",\"SHA-256\",\"Ethash\",\"Scrypt\",\"X11\",\"CryptoNight-V7\",\"Ethash\",\"Equihash\",\"SHA-512\",\"Multiple\",\"SHA-256\",\"SHA-256\",\"Scrypt\",\"X15\",\"X11\",\"Scrypt\",\"Scrypt\",\"Scrypt\",\"Multiple\",\"Scrypt\",\"SHA-256\",\"Scrypt\",\"Scrypt\",\"Scrypt\",\"Quark\",\"Groestl\",\"Scrypt\",\"Scrypt\",\"Scrypt\",\"Scrypt\",\"Scrypt\",\"X11\",\"Scrypt\",\"Groestl\",\"Multiple\",\"SHA-256\",\"Scrypt\",\"Scrypt\",\"Scrypt\",\"Scrypt\",\"PoS\",\"Scrypt\",\"Scrypt\",\"NeoScrypt\",\"Scrypt\",\"Scrypt\",\"Scrypt\",\"Scrypt\",\"X11\",\"Scrypt\",\"X11\",\"SHA-256\",\"Scrypt\",\"Scrypt\",\"Scrypt\",\"SHA3\",\"Scrypt\",\"HybridScryptHash256\",\"Scrypt\",\"Scrypt\",\"SHA-256\",\"Scrypt\",\"X13\",\"Scrypt\",\"SHA-256\",\"Scrypt\",\"X13\",\"NeoScrypt\",\"Scrypt\",\"Scrypt\",\"Scrypt\",\"Scrypt\",\"Scrypt\",\"Scrypt\",\"X11\",\"X11\",\"SHA-256\",\"Multiple\",\"SHA-256\",\"PHI1612\",\"X11\",\"SHA-256\",\"SHA-256\",\"SHA-256\",\"X11\",\"Scrypt\",\"Scrypt\",\"Scrypt\",\"Scrypt\",\"Lyra2REv2\",\"Scrypt\",\"X11\",\"Multiple\",\"SHA-256\",\"X13\",\"Scrypt\",\"CryptoNight\",\"CryptoNight\",\"Shabal256\",\"Counterparty\",\"Scrypt\",\"SHA-256\",\"Groestl\",\"Scrypt\",\"Scrypt\",\"Scrypt\",\"X13\",\"Scrypt\",\"Scrypt\",\"Scrypt\",\"Scrypt\",\"X13\",\"Scrypt\",\"Stanford Folding\",\"X11\",\"Multiple\",\"QuBit\",\"Scrypt\",\"Scrypt\",\"Scrypt\",\"M7 POW\",\"Scrypt\",\"SHA-256\",\"Scrypt\",\"X11\",\"SHA3\",\"X11\",\"Lyra2RE\",\"SHA-256\",\"QUAIT\",\"X11\",\"X11\",\"Scrypt\",\"Scrypt\",\"Scrypt\",\"Ethash\",\"X13\",\"Blake2b\",\"SHA-256\",\"X15\",\"X11\",\"SHA-256\",\"BLAKE256\",\"Scrypt\",\"1GB AES Pattern Search\",\"SHA-256\",\"X11\",\"Scrypt\",\"SHA-256\",\"SHA-256\",\"NIST5\",\"Scrypt\",\"Scrypt\",\"X11\",\"Dagger\",\"Scrypt\",\"X11GOST\",\"X11\",\"Scrypt\",\"SHA-256\",\"Scrypt\",\"PoS\",\"Scrypt\",\"X11\",\"X11\",\"SHA-256\",\"SHA-256\",\"NIST5\",\"X11\",\"Scrypt\",\"POS 3.0\",\"Scrypt\",\"Scrypt\",\"Scrypt\",\"X13\",\"X11\",\"X11\",\"Equihash\",\"X11\",\"Scrypt\",\"CryptoNight\",\"SHA-256\",\"SHA-256\",\"X11\",\"Scrypt\",\"Multiple\",\"Scrypt\",\"Scrypt\",\"Scrypt\",\"SHA-256\",\"Scrypt\",\"Scrypt\",\"SHA-256D\",\"PoS\",\"Scrypt\",\"X11\",\"Lyra2Z\",\"PoS\",\"X13\",\"X14\",\"PoS\",\"SHA-256D\",\"Ethash\",\"Equihash\",\"DPoS\",\"X11\",\"Scrypt\",\"X11\",\"X13\",\"X11\",\"PoS\",\"Scrypt\",\"Scrypt\",\"X11\",\"PoS\",\"X11\",\"SHA-256\",\"Scrypt\",\"X11\",\"Scrypt\",\"Scrypt\",\"X11\",\"CryptoNight\",\"Scrypt\",\"Scrypt\",\"Scrypt\",\"Scrypt\",\"Quark\",\"QuBit\",\"Scrypt\",\"CryptoNight\",\"Lyra2RE\",\"Scrypt\",\"SHA-256\",\"X11\",\"Scrypt\",\"X11\",\"Scrypt\",\"CryptoNight-V7\",\"Scrypt\",\"Scrypt\",\"Scrypt\",\"X13\",\"X11\",\"Equihash\",\"Scrypt\",\"Scrypt\",\"Lyra2RE\",\"Scrypt\",\"Dagger-Hashimoto\",\"X11\",\"Blake2S\",\"X11\",\"Scrypt\",\"PoS\",\"X11\",\"NIST5\",\"PoS\",\"X11\",\"Scrypt\",\"Scrypt\",\"Scrypt\",\"SHA-256\",\"X11\",\"Scrypt\",\"Scrypt\",\"SHA-256\",\"PoS\",\"Scrypt\",\"X15\",\"SHA-256\",\"Scrypt\",\"POS 3.0\",\"CryptoNight-V7\",\"536\",\"Argon2d\",\"Blake2b\",\"Cloverhash\",\"CryptoNight\",\"NIST5\",\"X11\",\"NIST5\",\"Skein\",\"Scrypt\",\"X13\",\"Scrypt\",\"X11\",\"X11\",\"Scrypt\",\"CryptoNight\",\"X13\",\"Time Travel\",\"Scrypt\",\"Keccak\",\"SkunkHash v2 Raptor\",\"X11\",\"Skein\",\"SHA-256\",\"X11\",\"Scrypt\",\"VeChainThor Authority\",\"Scrypt\",\"PoS\",\"Scrypt\",\"Scrypt\",\"Scrypt\",\"Scrypt\",\"Scrypt\",\"Scrypt\",\"Scrypt\",\"CryptoNight\",\"SHA-512\",\"Ouroboros\",\"X11\",\"Equihash\",\"NeoScrypt\",\"X11\",\"Scrypt\",\"NeoScrypt\",\"Lyra2REv2\",\"Equihash\",\"Scrypt\",\"SHA-256\",\"NIST5\",\"PHI1612\",\"Dagger\",\"Scrypt\",\"Quark\",\"Scrypt\",\"POS 2.0\",\"Scrypt\",\"SHA-256\",\"X11\",\"NeoScrypt\",\"Ethash\",\"NeoScrypt\",\"X11\",\"DPoS\",\"NIST5\",\"X13\",\"Multiple\",\"Scrypt\",\"CryptoNight\",\"CryptoNight\",\"Ethash\",\"NIST5\",\"Quark\",\"X11\",\"CryptoNight-V7\",\"Scrypt\",\"Scrypt\",\"Scrypt\",\"X11\",\"BLAKE256\",\"X11\",\"NeoScrypt\",\"Quark\",\"NeoScrypt\",\"Scrypt\",\"Scrypt\",\"Scrypt\",\"X11\",\"X11\",\"SHA-256\",\"C11\",\"POS 3.0\",\"Ethash\",\"Scrypt\",\"CryptoNight\",\"SkunkHash\",\"Scrypt\",\"CryptoNight\",\"Scrypt\",\"Dagger\",\"Lyra2REv2\",\"X13\",\"Proof-of-BibleHash\",\"SHA-256 + Hive\",\"Scrypt\",\"Scrypt\",\"X11\",\"C11\",\"Proof-of-Authority\",\"X11\",\"XEVAN\",\"Scrypt\",\"VBFT\",\"Ethash\",\"CryptoNight\",\"Scrypt\",\"IMesh\",\"NIST5\",\"Scrypt\",\"Scrypt\",\"Equihash\",\"Scrypt\",\"Lyra2Z\",\"Green Protocol\",\"PoS\",\"Scrypt\",\"Semux BFT consensus\",\"X11\",\"Quark\",\"PoS\",\"CryptoNight\",\"X16R\",\"Scrypt\",\"NIST5\",\"Lyra2RE\",\"XEVAN\",\"Tribus\",\"Scrypt\",\"Lyra2Z\",\"CryptoNight\",\"CryptoNight Heavy\",\"CryptoNight\",\"Scrypt\",\"Scrypt\",\"Jump Consistent Hash\",\"SHA-256D\",\"CryptoNight\",\"Scrypt\",\"X15\",\"Scrypt\",\"Quark\",\"SHA-256\",\"DPoS\",\"X16R\",\"HMQ1725\",\"X11\",\"X16R\",\"Quark\",\"Quark\",\"Scrypt\",\"Lyra2REv2\",\"Quark\",\"Scrypt\",\"Scrypt\",\"CryptoNight-V7\",\"Cryptonight-GPU\",\"XEVAN\",\"CryptoNight Heavy\",\"X11\",\"X11\",\"Scrypt\",\"PoS\",\"SHA-256\",\"Keccak\",\"X11\",\"X11\",\"Scrypt\",\"SHA-512\",\"X16R\",\"ECC 256K1\",\"Equihash\",\"XEVAN\",\"Lyra2Z\",\"SHA-256\",\"XEVAN\",\"X11\",\"CryptoNight\",\"Quark\",\"Blake\",\"Blake\",\"Equihash\",\"Exosis\",\"Scrypt\",\"Scrypt\",\"Equihash\",\"Quark\",\"Equihash\",\"Quark\",\"Scrypt\",\"QuBit\",\"X11\",\"Scrypt\",\"XEVAN\",\"SHA-256D\",\"X11\",\"SHA-256\",\"X13\",\"SHA-256\",\"X11\",\"DPoS\",\"Scrypt\",\"Scrypt\",\"X11\",\"NeoScrypt\",\"Scrypt\",\"Blake\",\"Scrypt\",\"SHA-256\",\"Scrypt\",\"X11\",\"Scrypt\",\"Scrypt\",\"SHA-256\",\"X11\",\"SHA-256\",\"Scrypt\",\"Scrypt\",\"Scrypt\",\"Groestl\",\"X11\",\"Scrypt\",\"PoS\",\"Scrypt\",\"Scrypt\",\"X11\",\"SHA-256\",\"DPoS\",\"Scrypt\",\"Scrypt\",\"NeoScrypt\",\"Multiple\",\"X13\",\"Equihash+Scrypt\",\"DPoS\",\"Ethash\",\"DPoS\",\"SHA-256\",\"Leased POS\",\"PoS\",\"TRC10\",\"PoS\",\"SHA-256\",\"Scrypt\",\"CryptoNight\",\"Equihash\",\"Scrypt\"],\"Class\":{\"__ndarray__\":\"AAAAAAAAAAAAAAAAAwAAAAMAAAADAAAAAAAAAAMAAAADAAAAAwAAAAAAAAADAAAAAAAAAAAAAAADAAAAAAAAAAMAAAADAAAAAAAAAAAAAAADAAAAAwAAAAMAAAADAAAAAwAAAAAAAAADAAAAAwAAAAMAAAAAAAAAAwAAAAAAAAADAAAAAwAAAAAAAAAAAAAAAwAAAAMAAAADAAAAAwAAAAMAAAADAAAAAAAAAAAAAAADAAAAAwAAAAMAAAADAAAAAwAAAAAAAAAAAAAAAwAAAAAAAAADAAAAAwAAAAMAAAADAAAAAAAAAAMAAAADAAAAAAAAAAMAAAAAAAAAAAAAAAAAAAADAAAAAwAAAAMAAAAAAAAAAAAAAAAAAAAAAAAAAAAAAAMAAAADAAAAAwAAAAAAAAAAAAAAAwAAAAAAAAADAAAAAAAAAAAAAAADAAAAAwAAAAMAAAADAAAAAAAAAAAAAAADAAAAAAAAAAMAAAADAAAAAAAAAAAAAAADAAAAAAAAAAAAAAADAAAAAwAAAAMAAAAAAAAAAwAAAAAAAAAAAAAAAwAAAAAAAAADAAAAAAAAAAMAAAAAAAAAAwAAAAAAAAAAAAAAAwAAAAMAAAAAAAAAAwAAAAMAAAADAAAAAAAAAAMAAAADAAAAAwAAAAMAAAADAAAAAAAAAAAAAAADAAAAAwAAAAMAAAAAAAAAAwAAAAAAAAADAAAAAwAAAAAAAAADAAAAAAAAAAMAAAAAAAAAAAAAAAMAAAADAAAAAAAAAAMAAAADAAAAAAAAAAAAAAADAAAAAAAAAAMAAAAAAAAAAAAAAAAAAAADAAAAAwAAAAMAAAADAAAAAAAAAAAAAAAAAAAAAAAAAAAAAAADAAAAAwAAAAAAAAAAAAAAAAAAAAAAAAAAAAAAAwAAAAAAAAAAAAAAAAAAAAAAAAAAAAAAAwAAAAAAAAADAAAAAAAAAAAAAAADAAAAAAAAAAMAAAAAAAAAAAAAAAMAAAAAAAAAAwAAAAAAAAADAAAAAAAAAAMAAAAAAAAAAAAAAAAAAAAAAAAAAwAAAAAAAAAAAAAAAAAAAAAAAAAAAAAAAwAAAAMAAAAAAAAAAAAAAAMAAAADAAAAAAAAAAAAAAAAAAAAAAAAAAAAAAADAAAAAAAAAAAAAAAAAAAAAAAAAAAAAAAAAAAAAAAAAAAAAAADAAAAAAAAAAAAAAAAAAAAAAAAAAAAAAAAAAAAAwAAAAMAAAADAAAAAAAAAAAAAAAAAAAAAAAAAAMAAAAAAAAAAwAAAAAAAAAAAAAAAwAAAAAAAAADAAAAAwAAAAAAAAADAAAAAwAAAAAAAAADAAAAAAAAAAAAAAAAAAAAAwAAAAAAAAAAAAAAAwAAAAAAAAAAAAAAAAAAAAAAAAAAAAAAAAAAAAAAAAADAAAAAAAAAAMAAAAAAAAAAAAAAAAAAAAAAAAAAwAAAAAAAAADAAAAAAAAAAMAAAADAAAAAwAAAAMAAAAAAAAAAwAAAAAAAAAAAAAAAwAAAAAAAAADAAAAAwAAAAMAAAAAAAAAAwAAAAAAAAADAAAAAwAAAAMAAAAAAAAAAwAAAAAAAAADAAAAAAAAAAAAAAAAAAAAAwAAAAAAAAADAAAAAwAAAAMAAAADAAAAAwAAAAAAAAAAAAAAAwAAAAAAAAAAAAAAAAAAAAMAAAAAAAAAAwAAAAAAAAADAAAAAAAAAAMAAAAAAAAAAAAAAAAAAAAAAAAAAwAAAAAAAAAAAAAAAwAAAAAAAAAAAAAAAAAAAAMAAAADAAAAAwAAAAMAAAAAAAAAAAAAAAAAAAAAAAAAAwAAAAAAAAADAAAAAwAAAAMAAAAAAAAAAAAAAAMAAAADAAAAAAAAAAAAAAADAAAAAAAAAAMAAAADAAAAAwAAAAAAAAADAAAAAwAAAAAAAAAAAAAAAAAAAAMAAAADAAAAAwAAAAAAAAADAAAAAAAAAAMAAAADAAAAAAAAAAMAAAADAAAAAwAAAAMAAAAAAAAAAQAAAAAAAAADAAAAAwAAAAMAAAAAAAAAAQAAAAAAAAAAAAAAAAAAAAAAAAADAAAAAwAAAAMAAAADAAAAAAAAAAAAAAAAAAAAAwAAAAAAAAADAAAAAAAAAAAAAAAAAAAAAAAAAAMAAAAAAAAAAAAAAAMAAAAAAAAAAAAAAAMAAAADAAAAAAAAAAMAAAAAAAAAAwAAAAMAAAADAAAAAwAAAAAAAAAAAAAAAwAAAAAAAAADAAAAAAAAAAAAAAAAAAAAAAAAAAAAAAAAAAAAAwAAAAMAAAADAAAAAAAAAAAAAAAAAAAAAAAAAAAAAAAAAAAAAwAAAAAAAAADAAAAAwAAAAMAAAADAAAAAAAAAAAAAAAAAAAAAAAAAAMAAAAAAAAAAAAAAAMAAAAAAAAAAAAAAAMAAAABAAAAAwAAAAAAAAADAAAAAwAAAAAAAAAAAAAAAwAAAAAAAAADAAAAAwAAAAAAAAADAAAAAwAAAAAAAAADAAAAAAAAAAMAAAAAAAAAAAAAAAMAAAAAAAAAAAAAAAAAAAAAAAAAAAAAAAMAAAADAAAAAwAAAAAAAAAAAAAAAAAAAAMAAAAAAAAAAwAAAAAAAAADAAAAAAAAAAAAAAAAAAAAAAAAAAMAAAAAAAAAAAAAAAAAAAADAAAAAAAAAAMAAAAAAAAAAwAAAAAAAAAAAAAAAAAAAAMAAAADAAAAAAAAAAAAAAAAAAAAAAAAAAAAAAAAAAAAAwAAAAAAAAADAAAAAAAAAAMAAAAAAAAAAAAAAAAAAAAAAAAAAgAAAAAAAAAAAAAAAAAAAAMAAAADAAAAAAAAAA==\",\"dtype\":\"int32\",\"order\":\"little\",\"shape\":[532]},\"CoinName\":[\"42 Coin\",\"404Coin\",\"EliteCoin\",\"Bitcoin\",\"Ethereum\",\"Litecoin\",\"Dash\",\"Monero\",\"Ethereum Classic\",\"ZCash\",\"Bitshares\",\"DigiByte\",\"BitcoinDark\",\"PayCoin\",\"ProsperCoin\",\"KoboCoin\",\"Spreadcoin\",\"Argentum\",\"Aurora Coin\",\"BlueCoin\",\"MyriadCoin\",\"MoonCoin\",\"ZetaCoin\",\"SexCoin\",\"Quatloo\",\"EnergyCoin\",\"QuarkCoin\",\"Riecoin\",\"Digitalcoin \",\"BitBar\",\"Catcoin\",\"CryptoBullion\",\"CannaCoin\",\"CryptCoin\",\"CasinoCoin\",\"Diamond\",\"Verge\",\"DevCoin\",\"EarthCoin\",\"E-Gulden\",\"Einsteinium\",\"Emerald\",\"Exclusive Coin\",\"FlutterCoin\",\"Franko\",\"FeatherCoin\",\"GrandCoin\",\"GlobalCoin\",\"GoldCoin\",\"HoboNickels\",\"HyperStake\",\"Infinite Coin\",\"IOCoin\",\"IXcoin\",\"KrugerCoin\",\"LuckyCoin\",\"Litebar \",\"MaxCoin\",\"MegaCoin\",\"MediterraneanCoin\",\"MintCoin\",\"MinCoin\",\"MazaCoin\",\"Nautilus Coin\",\"NavCoin\",\"NobleCoin\",\"Namecoin\",\"NyanCoin\",\"OpalCoin\",\"Orbitcoin\",\"PotCoin\",\"PhoenixCoin\",\"Reddcoin\",\"RonPaulCoin\",\"StableCoin\",\"SmartCoin\",\"SuperCoin\",\"SyncCoin\",\"SysCoin\",\"TeslaCoin\",\"TigerCoin\",\"TittieCoin\",\"TorCoin\",\"TerraCoin\",\"UnbreakableCoin\",\"Unobtanium\",\"UroCoin\",\"UnitaryStatus Dollar\",\"UltraCoin\",\"ViaCoin\",\"VeriCoin\",\"Vertcoin\",\"WorldCoin\",\"X11 Coin\",\"Crypti\",\"JouleCoin\",\"StealthCoin\",\"ZCC Coin\",\"ByteCoin\",\"DigitalNote \",\"BurstCoin\",\"StorjCoin\",\"MonaCoin\",\"Neutron\",\"FairCoin\",\"Gulden\",\"RubyCoin\",\"PesetaCoin\",\"Kore\",\"Wild Beast Coin\",\"Dnotes\",\"Flo\",\"8BIT Coin\",\"Sativa Coin\",\"ArtByte\",\"Folding Coin\",\"Ucoin\",\"Unitus\",\"CypherPunkCoin\",\"OmniCron\",\"Vtorrent\",\"GreenCoin\",\"Cryptonite\",\"MasterCoin\",\"SoonCoin\",\"1Credit\",\"IslaCoin\",\"Nexus\",\"MarsCoin \",\"Crypto\",\"Anarchists Prime\",\"Droidz\",\"BowsCoin\",\"Squall Coin\",\"Song Coin\",\"BitZeny\",\"Diggits\",\"Expanse\",\"Paycon\",\"Siacoin\",\"Emercoin\",\"EverGreenCoin\",\"MindCoin\",\"I0coin\",\"Decred\",\"Revolution VR\",\"HOdlcoin\",\"EDRCoin\",\"Hitcoin\",\"Gamecredits\",\"DubaiCoin\",\"CarpeDiemCoin\",\"PWR Coin\",\"BillaryCoin\",\"GPU Coin\",\"Adzcoin\",\"SoilCoin\",\"YoCoin\",\"SibCoin\",\"EuropeCoin\",\"ZeitCoin\",\"SwingCoin\",\"SafeExchangeCoin\",\"Nebuchadnezzar\",\"Francs\",\"BolivarCoin\",\"Ratecoin\",\"Revenu\",\"Clockcoin\",\"VIP Tokens\",\"BitSend\",\"Omni\",\"Let it Ride\",\"PutinCoin\",\"iBankCoin\",\"Frankywillcoin\",\"MudraCoin\",\"PizzaCoin\",\"Lutetium Coin\",\"Komodo\",\"GoldBlocks\",\"CarterCoin\",\"Karbo\",\"BitTokens\",\"ZayedCoin\",\"MustangCoin\",\"ZoneCoin\",\"Circuits of Value\",\"RootCoin\",\"DopeCoin\",\"BitCurrency\",\"DollarCoin\",\"Swiscoin\",\"Shilling\",\"BuzzCoin\",\"Opair\",\"PesoBit\",\"Halloween Coin\",\"ZCoin\",\"CoffeeCoin\",\"RoyalCoin\",\"GanjaCoin V2\",\"TeamUP\",\"LanaCoin\",\"Elementrem\",\"ZClassic\",\"ARK\",\"InsaneCoin\",\"KiloCoin\",\"ArtexCoin\",\"EmberCoin\",\"XenixCoin\",\"FreeCoin\",\"PLNCoin\",\"AquariusCoin\",\"Kurrent\",\"Creatio\",\"Eternity\",\"Eurocoin\",\"BitcoinFast\",\"Stakenet\",\"BitConnect Coin\",\"MoneyCoin\",\"Enigma\",\"Cannabis Industry Coin\",\"Russiacoin\",\"PandaCoin\",\"GameUnits\",\"GAKHcoin\",\"Allsafe\",\"LiteCreed\",\"OsmiumCoin\",\"Bikercoins\",\"HexxCoin\",\"Klingon Empire Darsek\",\"Internet of People\",\"KushCoin\",\"Printerium\",\"PacCoin\",\"Impeach\",\"Citadel\",\"Zilbercoin\",\"FirstCoin\",\"BeaverCoin\",\"FindCoin\",\"VaultCoin\",\"Zero\",\"OpenChat\",\"Canada eCoin\",\"Zoin\",\"RenosCoin\",\"DubaiCoin\",\"VirtacoinPlus\",\"TajCoin\",\"Impact\",\"EB3coin\",\"Atmos\",\"HappyCoin\",\"Coinonat\",\"MacronCoin\",\"Condensate\",\"Independent Money System\",\"ArgusCoin\",\"LomoCoin\",\"ProCurrency\",\"GoldReserve\",\"BenjiRolls\",\"GrowthCoin\",\"ILCoin\",\"Phreak\",\"Degas Coin\",\"HTML5 Coin\",\"Ultimate Secure Cash\",\"EquiTrader\",\"QTUM\",\"Quantum Resistant Ledger\",\"Espers\",\"Dynamic\",\"Nano\",\"ChanCoin\",\"Dinastycoin\",\"Denarius\",\"DigitalPrice\",\"Virta Unique Coin\",\"Bitcoin Planet\",\"Unify\",\"BritCoin\",\"SocialCoin\",\"ArcticCoin\",\"DAS\",\"Linda\",\"LeviarCoin\",\"DeepOnion\",\"Bitcore\",\"gCn Coin\",\"SmartCash\",\"Signatum\",\"Onix\",\"Cream\",\"Bitcoin Cash\",\"Monoeci\",\"Draftcoin\",\"Vechain\",\"Sojourn Coin\",\"Stakecoin\",\"NewYorkCoin\",\"FrazCoin\",\"Kronecoin\",\"AdCoin\",\"Linx\",\"CoinonatX\",\"Ethereum Dark\",\"Sumokoin\",\"Obsidian\",\"Cardano\",\"Regalcoin\",\"BitcoinZ\",\"TrezarCoin\",\"Elements\",\"TerraNovaCoin\",\"VIVO Coin\",\"Rupee\",\"Bitcoin Gold\",\"WomenCoin\",\"Theresa May Coin\",\"NamoCoin\",\"LUXCoin\",\"Pirl\",\"Xios\",\"Bitcloud 2.0\",\"eBoost\",\"KekCoin\",\"BlackholeCoin\",\"Infinity Economics\",\"Pura\",\"Innova\",\"Ellaism\",\"GoByte\",\"Magnet\",\"Lamden Tau\",\"Electra\",\"Bitcoin Diamond\",\"SHIELD\",\"Cash & Back Coin\",\"UltraNote\",\"BitCoal\",\"DaxxCoin\",\"Bulwark\",\"Kalkulus\",\"AC3\",\"Lethean\",\"GermanCoin\",\"LiteCoin Ultra\",\"PopularCoin\",\"PhantomX\",\"Photon\",\"Sucre\",\"SparksPay\",\"Digiwage\",\"GunCoin\",\"IrishCoin\",\"Trollcoin\",\"Litecoin Plus\",\"Monkey Project\",\"Pioneer Coin\",\"UnitedBitcoin\",\"Interzone\",\"TokenPay\",\"1717 Masonic Commemorative Token\",\"My Big Coin\",\"TurtleCoin\",\"MUNcoin\",\"Unified Society USDEX\",\"Niobio Cash\",\"ShareChain\",\"Travelflex\",\"KREDS\",\"Tokyo Coin\",\"BiblePay\",\"LitecoinCash\",\"BitFlip\",\"LottoCoin\",\"Crypto Improvement Fund\",\"Stipend\",\"Poa Network\",\"Pushi\",\"Ellerium\",\"Velox\",\"Ontology\",\"Callisto Network\",\"BitTube\",\"Poseidon\",\"Aidos Kuneen\",\"Bitspace\",\"Briacoin\",\"Ignition\",\"Bitrolium\",\"MedicCoin\",\"Alpenschillling\",\"Bitcoin Green\",\"Deviant Coin\",\"Abjcoin\",\"Semux\",\"FuturoCoin\",\"Carebit\",\"Zealium\",\"Monero Classic\",\"Proton\",\"iDealCash\",\"Jumpcoin\",\"Infinex\",\"Bitcoin Incognito\",\"KEYCO\",\"HollyWoodCoin\",\"GINcoin\",\"PlatinCoin\",\"Loki\",\"Newton Coin\",\"Swisscoin\",\"Xt3ch\",\"MassGrid\",\"TheVig\",\"PluraCoin\",\"EmaratCoin\",\"Dekado\",\"Lynx\",\"Poseidon Quark\",\"BitcoinWSpectrum\",\"Muse\",\"Motion\",\"PlusOneCoin\",\"Axe\",\"Trivechain\",\"Dystem\",\"Giant\",\"Peony Coin\",\"Absolute Coin\",\"Vitae\",\"HexCoin\",\"TPCash\",\"Webchain\",\"Ryo\",\"Urals Coin\",\"Qwertycoin\",\"ARENON\",\"EUNO\",\"MMOCoin\",\"Ketan\",\"Project Pai\",\"XDNA\",\"PAXEX\",\"Azart\",\"ThunderStake\",\"Kcash\",\"Xchange\",\"Acute Angle Cloud\",\"CrypticCoin\",\"Bettex coin\",\"Actinium\",\"Bitcoin SV\",\"BitMoney\",\"Junson Ming Chan Coin\",\"FREDEnergy\",\"HerbCoin\",\"Universal Molecule\",\"Lithium\",\"PirateCash\",\"Exosis\",\"Block-Logic\",\"Oduwa\",\"Beam\",\"Galilel\",\"Bithereum\",\"Crypto Sports\",\"Credit\",\"SLICE\",\"Dash Platinum\",\"Nasdacoin\",\"Beetle Coin\",\"Titan Coin\",\"Award\",\"BLAST\",\"Bitcoin Rhodium\",\"GlobalToken\",\"Insane Coin\",\"ALAX\",\"LiteDoge\",\"SolarCoin\",\"TruckCoin\",\"UFO Coin\",\"OrangeCoin\",\"BlakeCoin\",\"BitstarCoin\",\"NeosCoin\",\"HyperCoin\",\"PinkCoin\",\"Crypto Escudo\",\"AudioCoin\",\"IncaKoin\",\"Piggy Coin\",\"Crown Coin\",\"Genstake\",\"SmileyCoin\",\"XiaoMiCoin\",\"Groestlcoin\",\"CapriCoin\",\" ClubCoin\",\"Radium\",\"Bata\",\"Pakcoin\",\"Creditbit \",\"OKCash\",\"Lisk\",\"HiCoin\",\"WhiteCoin\",\"FriendshipCoin\",\"JoinCoin\",\"Triangles Coin\",\"Vollar\",\"EOS\",\"Reality Clash\",\"Oxycoin\",\"TigerCash\",\"Waves\",\"Particl\",\"BitTorrent\",\"Nxt\",\"ZEPHYR\",\"Gapcoin\",\"Beldex\",\"Horizen\",\"BitcoinPlus\"],\"ProofType\":[\"PoW/PoS\",\"PoW/PoS\",\"PoW/PoS\",\"PoW\",\"PoW\",\"PoW\",\"PoW/PoS\",\"PoW\",\"PoW\",\"PoW\",\"PoS\",\"PoW\",\"PoW/PoS\",\"PoS\",\"PoW\",\"PoW/PoS\",\"PoW\",\"PoW\",\"PoW/PoS\",\"PoW/PoS\",\"PoW\",\"PoW\",\"PoW\",\"PoW\",\"PoW\",\"PoW/PoS\",\"PoW\",\"PoW\",\"PoW\",\"PoW/PoS\",\"PoW\",\"PoW/PoS\",\"PoW\",\"PoW\",\"PoC\",\"PoW/PoS\",\"PoW\",\"PoW\",\"PoW\",\"PoW\",\"PoW\",\"PoW\",\"PoS\",\"PoS/PoW/PoT\",\"PoW\",\"PoW\",\"PoW\",\"PoW\",\"PoW\",\"PoW/PoS\",\"PoS\",\"PoW\",\"PoW/PoS\",\"PoW\",\"PoW\",\"PoW\",\"PoW\",\"PoW/PoS\",\"PoW\",\"PoW\",\"PoS\",\"PoW\",\"PoW/PoS\",\"PoS\",\"PoW/PoS\",\"PoW\",\"PoW\",\"PoW\",\"PoW/PoS\",\"PoW/PoS\",\"PoW/PoS\",\"PoW/PoS\",\"PoW/PoS\",\"PoW\",\"PoW\",\"PoW\",\"PoS\",\"PoW/PoS\",\"PoW\",\"PoS\",\"PoW\",\"PoS\",\"PoW/PoS\",\"PoW\",\"PoW\",\"PoW\",\"PoW\",\"PoW/PoS\",\"PoW/PoS\",\"PoW\",\"PoST\",\"PoW\",\"PoW\",\"PoW/PoS\",\"PoS\",\"PoW\",\"PoW/PoS\",\"PoW/PoS\",\"PoW\",\"PoW\",\"PoC\",\"PoS\",\"PoW\",\"PoW/PoS\",\"PoW/PoS\",\"PoW\",\"PoS\",\"PoW\",\"PoW/PoS\",\"PoW\",\"PoS\",\"PoW\",\"PoW/PoS\",\"PoW/PoS\",\"PoW\",\"PoW\",\"PoS\",\"PoW\",\"PoW\",\"PoW\",\"PoW/PoS\",\"PoW\",\"PoW\",\"PoW\",\"PoW\",\"PoW\",\"PoW/PoS\",\"PoW/nPoS\",\"PoW\",\"PoW\",\"PoW\",\"PoW/PoS\",\"PoW\",\"PoS/PoW\",\"PoW\",\"PoW\",\"PoS\",\"PoW\",\"PoW/PoS\",\"PoW\",\"PoW/PoS\",\"PoW/PoS\",\"PoW\",\"PoW\",\"PoW/PoS\",\"PoW\",\"PoW\",\"PoW/PoS\",\"PoW/PoS\",\"PoW\",\"PoW/PoS\",\"PoW\",\"PoW/PoS\",\"PoW/PoS\",\"PoS\",\"PoW\",\"PoW\",\"PoW\",\"PoW\",\"PoW/PoS\",\"PoS\",\"PoW/PoS\",\"PoC\",\"PoS\",\"PoW\",\"PoW\",\"PoW/PoS\",\"PoW/PoS\",\"PoW/PoS\",\"PoW/PoS\",\"PoW/PoS\",\"PoW\",\"PoS\",\"PoW/PoS\",\"PoW/PoS\",\"PoW/PoS\",\"PoS\",\"PoW\",\"PoS\",\"dPoW/PoW\",\"PoW/PoS\",\"PoW/PoS\",\"PoW\",\"PoW/PoS\",\"PoW\",\"PoW/PoS\",\"PoW/PoS\",\"PoW\",\"PoW/PoS\",\"PoW\",\"PoS\",\"PoW\",\"PoW/PoW\",\"PoW\",\"PoW/PoS\",\"PoS\",\"PoW/PoS\",\"PoW/PoS\",\"PoW\",\"PoS\",\"PoS\",\"PoW/PoS\",\"PoS\",\"PoW/PoS\",\"PoW\",\"PoW\",\"DPoS\",\"PoW/PoS\",\"PoW\",\"PoW\",\"PoW/PoS\",\"PoW/PoS\",\"PoS\",\"PoW/PoS\",\"PoW/PoS\",\"PoW\",\"PoS\",\"PoW/PoS\",\"PoW/PoS\",\"PoW/PoS\",\"TPoS\",\"PoW/PoS\",\"PoW/PoS\",\"PoW/PoS\",\"PoW\",\"PoW/PoS\",\"PoS\",\"PoW/PoS\",\"PoW/PoS\",\"PoS\",\"PoW/PoS\",\"PoW\",\"PoW\",\"PoW\",\"PoW/PoS\",\"PoW/PoS\",\"PoW/PoS\",\"PoW/PoS\",\"PoW\",\"PoW/PoS\",\"PoW\",\"PoS\",\"PoW/PoS \",\"PoW\",\"PoS\",\"PoW\",\"PoW\",\"PoW/PoS\",\"PoW\",\"PoW\",\"PoS\",\"PoW\",\"PoW/PoS\",\"PoW/PoS\",\"PoW/PoS\",\"PoW\",\"PoS\",\"PoW/PoS\",\"PoW\",\"PoS\",\"PoW/PoS\",\"PoW/PoS\",\"PoW/PoS\",\"PoW/PoS\",\"PoS\",\"PoW/PoS\",\"PoW\",\"PoS\",\"PoW\",\"PoS\",\"PoW/PoS\",\"PoW/PoS\",\"PoS\",\"PoW\",\"PoS\",\"PoW\",\"PoW/PoS\",\"PoW\",\"PoW\",\"PoW\",\"PoW\",\"PoW/PoS\",\"PoW\",\"PoW/PoS\",\"PoW/PoS\",\"PoW\",\"PoW/PoS\",\"PoW\",\"PoW\",\"PoW\",\"PoW/PoS\",\"PoW\",\"PoW/PoS\",\"PoW\",\"PoW\",\"PoW\",\"PoS\",\"PoW\",\"PoW/PoS\",\"PoW\",\"PoW/PoS\",\"PoS\",\"Proof of Authority\",\"PoW\",\"PoS\",\"PoW\",\"PoW\",\"PoW\",\"PoW\",\"PoW\",\"PoW/PoS\",\"PoW/PoS\",\"PoW\",\"PoS\",\"PoS\",\"PoW/PoS\",\"PoW\",\"PoW/PoS\",\"PoW\",\"PoW/PoS\",\"PoW\",\"PoS\",\"PoW\",\"PoW/PoS\",\"PoW/PoS\",\"PoW/PoS\",\"PoW/PoS\",\"PoW\",\"PoW/PoS\",\"PoW/PoS\",\"PoW\",\"PoS\",\"PoW/PoS\",\"PoS\",\"PoW\",\"PoW\",\"PoW\",\"PoW\",\"PoW/PoS\",\"DPoS\",\"PoW/PoS\",\"PoW/PoS\",\"PoW\",\"PoW/PoS\",\"PoW\",\"PoW\",\"PoW\",\"PoS\",\"PoS\",\"PoW\",\"PoW\",\"PoW/PoS\",\"PoW/PoS\",\"PoW\",\"PoW/PoS\",\"PoW\",\"PoW\",\"PoW\",\"PoS\",\"PoW\",\"PoW\",\"PoW/PoS\",\"PoW/PoS\",\"PoS\",\"PoW\",\"PoW\",\"PoW\",\"PoS\",\"PoS\",\"PoW and PoS\",\"PoW\",\"PoW\",\"PoW/PoS\",\"PoW\",\"PoW\",\"PoW\",\"PoW\",\"PoS\",\"POBh\",\"PoW + Hive\",\"PoW\",\"PoW\",\"PoW\",\"PoW/PoS\",\"PoA\",\"PoW/PoS\",\"PoW/PoS\",\"PoS\",\"PoS\",\"PoW\",\"PoW\",\"PoW\",\"PoW\",\"PoW/PoS\",\"PoW/PoS\",\"PoW/PoS\",\"PoW\",\"PoS\",\"PoW\",\"PoS\",\"PoS\",\"PoW/PoS\",\"DPoS\",\"PoW\",\"PoW/PoS\",\"PoS\",\"PoW\",\"PoS\",\"PoW/PoS\",\"PoW\",\"PoW\",\"PoS/PoW\",\"PoW\",\"PoS\",\"PoW\",\"PoW\",\"PoW\",\"PoW\",\"PoW/PoS\",\"PoS\",\"PoW\",\"PoW/PoS\",\"PoW\",\"PoW/PoS\",\"PoS\",\"HPoW\",\"PoS\",\"PoS\",\"PoS\",\"PoW\",\"PoW\",\"PoW\",\"PoW/PoS\",\"PoS\",\"PoW/PoS\",\"PoS\",\"PoW/PoS\",\"PoS\",\"PoW\",\"PoW/PoS\",\"PoW\",\"PoW\",\"PoW\",\"PoW\",\"PoS\",\"PoW/PoS\",\"PoS\",\"PoS\",\"PoW\",\"PoW/PoS\",\"PoS\",\"PoW\",\"PoW/PoS\",\"Zero-Knowledge Proof\",\"PoW\",\"DPOS\",\"PoW\",\"PoS\",\"PoW\",\"PoW\",\"Pos\",\"PoS\",\"PoW\",\"PoW/PoS\",\"PoW\",\"PoW\",\"PoS\",\"PoW\",\"PoW\",\"PoW/PoS\",\"PoW\",\"PoW/PoS\",\"PoW\",\"PoS\",\"PoW/PoS\",\"PoW\",\"PoS\",\"PoW/PoS\",\"PoW/PoS\",\"PoW/PoS\",\"PoW/PoS\",\"PoW\",\"PoW\",\"PoW\",\"PoW/PoS\",\"DPoS\",\"PoW/PoS\",\"PoW\",\"PoW/PoS\",\"PoW\",\"PoW/PoS\",\"PoW\",\"PoW/PoS\",\"PoS\",\"PoW/PoS\",\"PoW/PoS\",\"PoW\",\"PoW/PoS\",\"PoW/PoS\",\"PoW/PoS\",\"PoW\",\"PoW/PoS\",\"PoW\",\"PoW/PoS\",\"PoW\",\"PoW/PoS\",\"PoW/PoS\",\"PoS\",\"PoW\",\"PoW\",\"Proof of Trust\",\"PoW/PoS\",\"DPoS\",\"PoS\",\"PoW/PoS\",\"PoW/PoS\",\"PoW\",\"PoW/PoS\",\"PoW\",\"DPoS\",\"PoW\",\"DPoS\",\"PoS\",\"LPoS\",\"PoS\",\"DPoS\",\"PoS/LPoS\",\"DPoS\",\"PoW/PoS\",\"PoW\",\"PoW\",\"PoS\"],\"TotalCoinSupply\":[\"42\",\"532000000\",\"314159265359\",\"21000000\",\"0\",\"84000000\",\"22000000\",\"0\",\"210000000\",\"21000000\",\"3600570502\",\"21000000000\",\"22000000\",\"12500000\",\"21000000\",\"350000000\",\"20000000\",\"64000000\",\"16768584\",\"0\",\"2000000000\",\"384000000000\",\"169795588\",\"250000000\",\"100000000\",\"0\",\"247000000\",\"84000000\",\"48166000\",\"500000\",\"21000000 \",\"1000000\",\"13140000\",\"18000000\",\"40000000000\",\"4380000\",\"16555000000\",\"21000000000\",\"13500000000\",\"21000000 \",\"299792458\",\"32000000\",\"0\",\"0\",\"11235813\",\"336000000\",\"1420609614\",\"70000000\",\"72245700\",\"120000000\",\"0\",\"90600000000\",\"22000000\",\"21000000\",\"265420800\",\"20000000\",\"1350000\",\"100000000\",\"42000000\",\"200000000\",\"0\",\"10000000\",\"2419200000\",\"16180000\",\"0\",\"15000000000\",\"21000000\",\"337000000\",\"0\",\"3770000\",\"420000000\",\"98000000\",\"0\",\"21000000\",\"250000000\",\"51200000\",\"0\",\"1000\",\"888000000\",\"100000000\",\"47011968\",\"2300000000\",\"10000000\",\"42000000\",\"80000000\",\"250000\",\"0\",\"1600000000\",\"100000000\",\"23000000\",\"0\",\"84000000\",\"265420800\",\"5500000\",\"0\",\"45000000\",\"0\",\"1000000000\",\"184467440735\",\"10000000000\",\"2158812800\",\"500000000\",\"105120000\",\"68000000\",\"0\",\"1680000000\",\"0\",\"166386000\",\"12000000\",\"2628000\",\"500000000\",\"160000000\",\"0\",\"10000000\",\"1000000000\",\"1000000000\",\"20000000\",\"0\",\"0\",\"3371337\",\"20000000\",\"10000000000\",\"1840000000\",\"619478\",\"21000000\",\"92000000000\",\"0\",\"78000000\",\"33000000\",\"65789100\",\"53760000\",\"5060000\",\"21000000\",\"0\",\"210240000\",\"250000000\",\"100000000\",\"16906397\",\"50000000\",\"0\",\"1000000000\",\"26298000\",\"16000000\",\"21000000\",\"21000000\",\"210000000\",\"81962100\",\"22000000\",\"26550000000\",\"84000000\",\"10500000\",\"21626280000 \",\"0\",\"42000000\",\"221052632\",\"84000000\",\"30000000\",\"168351300\",\"24000000\",\"384000000\",\" 99000000000\",\"40000000\",\"2147483647\",\"20000000\",\"20000000\",\"25000000\",\"75000000\",\"222725000\",\"525000000\",\"90000000\",\"139000000\",\"616448\",\"33500000\",\"2000000000\",\"44333333\",\"100000000\",\"200000000\",\"25000000\",\"657000000\",\"200000000\",\"50000000\",\"90000000\",\"10000000\",\"21000000\",\"9736000\",\"3000000\",\"21000000\",\"1200000000\",\"0\",\"200000000\",\"0\",\"10638298\",\"3100000000\",\"30000000\",\"20000000000\",\"74000000\",\"0\",\"1500000000\",\"21400000\",\"39999898\",\"2500124\",\"100000000\",\"301000000\",\"7506000000\",\"26205539\",\"21000000\",\"125000000\",\"30000000\",\"10000000000\",\"500000000\",\"850000000\",\"3853326.77707314\",\"50000000\",\"38540000 \",\"42000000\",\"228000000\",\"20000000\",\"60000000\",\"20000000\",\"33000000\",\"76500000\",\"28000000\",\"650659833\",\"5000000\",\"21000000\",\"144000000\",\"32514916898\",\"13000000\",\"3315789\",\"15000000\",\"78835200\",\"2714286\",\"25000000\",\"9999999\",\"500000000\",\"21000000\",\"9354000\",\"20000000\",\"100000000000\",\"21933333\",\"185000000\",\"55000000\",\"110000000\",\"3360000\",\"14524851.4827\",\"1000000000\",\"17000000\",\"1000000000\",\"100000000 \",\"21000000\",\"34426423\",\"2232901\",\"100000000\",\"36900000\",\"110000000\",\"4000000000\",\"110290030\",\"100000000\",\"48252000\",\"400000000\",\"500000000\",\"21212121\",\"28600000\",\"1000000000\",\"75000000000\",\"40000000\",\"35520400\",\"2000000000\",\"2500000000\",\"30000000\",\"105000000\",\"90000000000\",\"200084200\",\"72000000\",\"100000000\",\"105000000\",\"50000000000\",\"0\",\"340282367\",\"30000000\",\"2000000000\",\"10000000\",\"100000000\",\"120000000\",\"100000000\",\"19276800\",\"30000000\",\" 75000000\",\"60000000\",\"18900000\",\"50000000000\",\"54000000\",\"18898187.6216583\",\"21000000\",\"200000000000\",\"5000000000\",\"137500000\",\"1100000000\",\"100000000\",\"21000000\",\"9507271\",\"17405891.19707116\",\"86712634466\",\"10500000000\",\"61599965\",\"0\",\"20000000\",\"84000000\",\"100000000\",\"100000000\",\"48252000\",\"4200000\",\"88888888\",\"91388946\",\"45000000000\",\"27000000\",\"21000000000\",\"400000000\",\"1800000000\",\"15733333\",\"27000000\",\"24000000\",\"21000000\",\"25000000000\",\"100000000\",\"1200000000\",\"60000000\",\"156306732.71\",\"21000000\",\"200000000\",\"100000000\",\"21000000\",\"14788275.991\",\"9000000000\",\"350000000\",\"45000000\",\"280000000\",\"31800000\",\"144000000\",\"500000000\",\"30000000000\",\"210000000\",\"660000000\",\"210000000\",\"85000000000\",\"12500000\",\"10000000000\",\"27716121\",\"20000000\",\"550000000\",\"999481516\",\"50000000000\",\"150000000\",\"4999999999\",\"50000000\",\" 90000000000\",\"19800000\",\"21000000\",\"120000000\",\"500000000\",\"64000000\",\"900000000\",\"4000000\",\"21000000\",\"23000000\",\"20166000\",\"23000000\",\"25000000\",\"1618033\",\"30000000\",\"1000000000000\",\"16600000\",\"232000000\",\"336000000\",\"10000000000\",\"100000000\",\"1100000000\",\"800000000\",\"5200000000\",\"840000000\",\"40000000\",\"18406979840\",\"500000000\",\"19340594\",\"252460800\",\"25000000\",\"60000000\",\"124000000\",\"1000000000\",\"6500000000\",\"1000000000\",\"21000000\",\"25000000\",\"50000000\",\"3000000\",\"5000000\",\"70000000\",\"500000000\",\"300000000\",\"21000000\",\"88000000\",\"30000000\",\"100000000\",\"100000000\",\"200000000\",\"80000000\",\"18400000\",\"45000000\",\"5121951220\",\"21000000\",\"26280000\",\"21000000\",\"18000000\",\"26000000\",\"10500000\",\"600000518\",\"150000000\",\"184000000000\",\"10200000000\",\"44000000\",\"168000000\",\"100000000\",\"1000000000\",\"84000000\",\"90000000\",\"92000000000\",\"650000000 \",\"100262205\",\"18081806 \",\"22075700\",\"21000000\",\"21000000\",\"82546564\",\"21000000\",\"5151000\",\"16880000000\",\"52500000\",\"100000000\",\"22105263\",\"1000000000\",\"1750000000\",\"88188888\",\"210000000\",\"184470000000\",\"55000000\",\"50000000\",\"260000000\",\"210000000\",\"2100000000\",\"366000000\",\"100000000\",\"25000000\",\"18000000000\",\"1000000000\",\"100000000\",\"1000000000\",\"7600000000\",\"50000000\",\"84000000\",\"21000000\",\"70000000000\",\"0\",\"8080000000\",\"54000000\",\"105120001.44\",\"25228800\",\"105000000\",\"21000000\",\"120000000\",\"21000000\",\"262800000\",\"19035999\",\"30886000\",\"13370000\",\"74800000000\",\"100000000\",\"19700000\",\"84000000\",\"500000000\",\"5000000000\",\"420000000\",\"64000000\",\"2100000\",\"168000000\",\"30000000\",\"1000000000\",\"35000000000\",\"98100000000\",\"0\",\"4000000000\",\"200000000\",\"7000000000\",\"54256119\",\"21000000\",\"0\",\"500000000\",\"1000000000\",\"10500000000\",\"190000000\",\"1000000000\",\"42000000\",\"15000000\",\"50000000000\",\"400000000\",\"105000000\",\"208000000\",\"160000000\",\"9000000\",\"5000000\",\"182000000\",\"16504333\",\"105000000\",\"159918400\",\"10008835635\",\"300000000\",\"60168145\",\"2800000\",\"120000\",\"2100000000\",\"0\",\"24487944\",\"0\",\"1000000000\",\"100000000\",\"8634140\",\"990000000000\",\"1000000000\",\"2000000000\",\"250000000\",\"1400222610\",\"21000000\",\"1000000\"],\"TotalCoinsMined\":{\"__ndarray__\":\"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\",\"dtype\":\"float64\",\"order\":\"little\",\"shape\":[532]}},\"selected\":{\"id\":\"1123\"},\"selection_policy\":{\"id\":\"1158\"}},\"id\":\"1122\",\"type\":\"ColumnDataSource\"},{\"attributes\":{\"editor\":{\"id\":\"1125\"},\"field\":\"CoinName\",\"formatter\":{\"id\":\"1124\"},\"title\":\"CoinName\"},\"id\":\"1126\",\"type\":\"TableColumn\"},{\"attributes\":{},\"id\":\"1129\",\"type\":\"StringFormatter\"},{\"attributes\":{},\"id\":\"1139\",\"type\":\"StringFormatter\"},{\"attributes\":{},\"id\":\"1150\",\"type\":\"IntEditor\"},{\"attributes\":{},\"id\":\"1130\",\"type\":\"StringEditor\"},{\"attributes\":{},\"id\":\"1124\",\"type\":\"StringFormatter\"},{\"attributes\":{\"editor\":{\"id\":\"1145\"},\"field\":\"TotalCoinsMined\",\"formatter\":{\"id\":\"1144\"},\"title\":\"TotalCoinsMined\"},\"id\":\"1146\",\"type\":\"TableColumn\"},{\"attributes\":{\"editor\":{\"id\":\"1150\"},\"field\":\"Class\",\"formatter\":{\"id\":\"1149\"},\"title\":\"Class\"},\"id\":\"1151\",\"type\":\"TableColumn\"},{\"attributes\":{\"source\":{\"id\":\"1122\"}},\"id\":\"1156\",\"type\":\"CDSView\"},{\"attributes\":{},\"id\":\"1145\",\"type\":\"NumberEditor\"},{\"attributes\":{\"editor\":{\"id\":\"1140\"},\"field\":\"TotalCoinSupply\",\"formatter\":{\"id\":\"1139\"},\"title\":\"TotalCoinSupply\"},\"id\":\"1141\",\"type\":\"TableColumn\"},{\"attributes\":{},\"id\":\"1135\",\"type\":\"StringEditor\"},{\"attributes\":{\"format\":\"0,0.0[00000]\"},\"id\":\"1144\",\"type\":\"NumberFormatter\"},{\"attributes\":{\"columns\":[{\"id\":\"1126\"},{\"id\":\"1131\"},{\"id\":\"1136\"},{\"id\":\"1141\"},{\"id\":\"1146\"},{\"id\":\"1151\"}],\"height\":300,\"reorderable\":false,\"source\":{\"id\":\"1122\"},\"view\":{\"id\":\"1156\"},\"width\":700},\"id\":\"1154\",\"type\":\"DataTable\"},{\"attributes\":{\"editor\":{\"id\":\"1135\"},\"field\":\"ProofType\",\"formatter\":{\"id\":\"1134\"},\"title\":\"ProofType\"},\"id\":\"1136\",\"type\":\"TableColumn\"},{\"attributes\":{\"editor\":{\"id\":\"1130\"},\"field\":\"Algorithm\",\"formatter\":{\"id\":\"1129\"},\"title\":\"Algorithm\"},\"id\":\"1131\",\"type\":\"TableColumn\"},{\"attributes\":{},\"id\":\"1123\",\"type\":\"Selection\"},{\"attributes\":{\"margin\":[5,5,5,5],\"name\":\"HSpacer01800\",\"sizing_mode\":\"stretch_width\"},\"id\":\"1121\",\"type\":\"Spacer\"},{\"attributes\":{\"margin\":[5,5,5,5],\"name\":\"HSpacer01801\",\"sizing_mode\":\"stretch_width\"},\"id\":\"1161\",\"type\":\"Spacer\"},{\"attributes\":{},\"id\":\"1134\",\"type\":\"StringFormatter\"},{\"attributes\":{\"children\":[{\"id\":\"1121\"},{\"id\":\"1154\"},{\"id\":\"1161\"}],\"margin\":[0,0,0,0],\"name\":\"Row01796\",\"tags\":[\"embedded\"]},\"id\":\"1120\",\"type\":\"Row\"},{\"attributes\":{},\"id\":\"1149\",\"type\":\"NumberFormatter\"}],\"root_ids\":[\"1120\"]},\"title\":\"Bokeh Application\",\"version\":\"2.3.2\"}};\n",
              "    var render_items = [{\"docid\":\"28a1f970-de39-4694-982d-1ea94c2db10f\",\"root_ids\":[\"1120\"],\"roots\":{\"1120\":\"d8f00c53-05a5-4a69-a6a3-18da02347b32\"}}];\n",
              "    root.Bokeh.embed.embed_items_notebook(docs_json, render_items);\n",
              "  }\n",
              "  if (root.Bokeh !== undefined && root.Bokeh.Panel !== undefined) {\n",
              "    embed_document(root);\n",
              "  } else {\n",
              "    var attempts = 0;\n",
              "    var timer = setInterval(function(root) {\n",
              "      if (root.Bokeh !== undefined && root.Bokeh.Panel !== undefined) {\n",
              "        clearInterval(timer);\n",
              "        embed_document(root);\n",
              "      } else if (document.readyState == \"complete\") {\n",
              "        attempts++;\n",
              "        if (attempts > 200) {\n",
              "          clearInterval(timer);\n",
              "          console.log(\"Bokeh: ERROR: Unable to run BokehJS code because BokehJS library is missing\");\n",
              "        }\n",
              "      }\n",
              "    }, 25, root)\n",
              "  }\n",
              "})(window);</script>"
            ]
          },
          "metadata": {
            "application/vnd.holoviews_exec.v0+json": {
              "id": "1120"
            }
          },
          "execution_count": 21
        }
      ],
      "metadata": {
        "id": "jFC1_BQxjTSE"
      }
    },
    {
      "cell_type": "code",
      "execution_count": 22,
      "source": [
        "# Print the total number of tradable cryptocurrencies.\r\n",
        "print(f'There are {len(clustered_df)} tradable cryptocurrencies.')"
      ],
      "outputs": [
        {
          "output_type": "stream",
          "name": "stdout",
          "text": [
            "There are 532 tradable cryptocurrencies.\n"
          ]
        }
      ],
      "metadata": {
        "id": "9QRUyB04jTSF"
      }
    },
    {
      "cell_type": "code",
      "execution_count": 23,
      "source": [
        "# Scaling data to create the scatter plot with tradable cryptocurrencies.\r\n",
        "X_cluster = clustered_df[['TotalCoinSupply', 'TotalCoinsMined']].copy()\r\n",
        "X_cluster_scaled = MinMaxScaler().fit_transform(X_cluster)\r\n",
        "X_cluster_scaled"
      ],
      "outputs": [
        {
          "output_type": "execute_result",
          "data": {
            "text/plain": [
              "array([[4.20000000e-11, 0.00000000e+00],\n",
              "       [5.32000000e-04, 1.06585544e-03],\n",
              "       [3.14159265e-01, 2.95755135e-02],\n",
              "       ...,\n",
              "       [1.40022261e-03, 9.90135079e-04],\n",
              "       [2.10000000e-05, 7.37028150e-06],\n",
              "       [1.00000000e-06, 1.29582282e-07]])"
            ]
          },
          "metadata": {},
          "execution_count": 23
        }
      ],
      "metadata": {
        "id": "Qzc17xucjTSF"
      }
    },
    {
      "cell_type": "code",
      "execution_count": 24,
      "source": [
        "# Create a new DataFrame that has the scaled data with the clustered_df DataFrame index.\r\n",
        "plot_df = pd.DataFrame(X_cluster_scaled, columns=['TotalCoinSupply', 'TotalCoinsMined'], index=clustered_df.index)\r\n",
        "\r\n",
        "# Add the \"CoinName\" column from the clustered_df DataFrame to the new DataFrame\r\n",
        "plot_df['CoinName'] = clustered_df.CoinName\r\n",
        "\r\n",
        "# Add the \"Class\" column from the clustered_df DataFrame to the new DataFrame. \r\n",
        "plot_df['Class'] = clustered_df.Class\r\n",
        "plot_df.head(10)"
      ],
      "outputs": [
        {
          "output_type": "execute_result",
          "data": {
            "text/plain": [
              "      TotalCoinSupply  TotalCoinsMined          CoinName  Class\n",
              "42       4.200000e-11         0.000000           42 Coin      0\n",
              "404      5.320000e-04         0.001066           404Coin      0\n",
              "1337     3.141593e-01         0.029576         EliteCoin      0\n",
              "BTC      2.100000e-05         0.000018           Bitcoin      3\n",
              "ETH      0.000000e+00         0.000109          Ethereum      3\n",
              "LTC      8.400000e-05         0.000064          Litecoin      3\n",
              "DASH     2.200000e-05         0.000009              Dash      0\n",
              "XMR      0.000000e+00         0.000017            Monero      3\n",
              "ETC      2.100000e-04         0.000115  Ethereum Classic      3\n",
              "ZEC      2.100000e-05         0.000007             ZCash      3"
            ],
            "text/html": [
              "<div>\n",
              "<style scoped>\n",
              "    .dataframe tbody tr th:only-of-type {\n",
              "        vertical-align: middle;\n",
              "    }\n",
              "\n",
              "    .dataframe tbody tr th {\n",
              "        vertical-align: top;\n",
              "    }\n",
              "\n",
              "    .dataframe thead th {\n",
              "        text-align: right;\n",
              "    }\n",
              "</style>\n",
              "<table border=\"1\" class=\"dataframe\">\n",
              "  <thead>\n",
              "    <tr style=\"text-align: right;\">\n",
              "      <th></th>\n",
              "      <th>TotalCoinSupply</th>\n",
              "      <th>TotalCoinsMined</th>\n",
              "      <th>CoinName</th>\n",
              "      <th>Class</th>\n",
              "    </tr>\n",
              "  </thead>\n",
              "  <tbody>\n",
              "    <tr>\n",
              "      <th>42</th>\n",
              "      <td>4.200000e-11</td>\n",
              "      <td>0.000000</td>\n",
              "      <td>42 Coin</td>\n",
              "      <td>0</td>\n",
              "    </tr>\n",
              "    <tr>\n",
              "      <th>404</th>\n",
              "      <td>5.320000e-04</td>\n",
              "      <td>0.001066</td>\n",
              "      <td>404Coin</td>\n",
              "      <td>0</td>\n",
              "    </tr>\n",
              "    <tr>\n",
              "      <th>1337</th>\n",
              "      <td>3.141593e-01</td>\n",
              "      <td>0.029576</td>\n",
              "      <td>EliteCoin</td>\n",
              "      <td>0</td>\n",
              "    </tr>\n",
              "    <tr>\n",
              "      <th>BTC</th>\n",
              "      <td>2.100000e-05</td>\n",
              "      <td>0.000018</td>\n",
              "      <td>Bitcoin</td>\n",
              "      <td>3</td>\n",
              "    </tr>\n",
              "    <tr>\n",
              "      <th>ETH</th>\n",
              "      <td>0.000000e+00</td>\n",
              "      <td>0.000109</td>\n",
              "      <td>Ethereum</td>\n",
              "      <td>3</td>\n",
              "    </tr>\n",
              "    <tr>\n",
              "      <th>LTC</th>\n",
              "      <td>8.400000e-05</td>\n",
              "      <td>0.000064</td>\n",
              "      <td>Litecoin</td>\n",
              "      <td>3</td>\n",
              "    </tr>\n",
              "    <tr>\n",
              "      <th>DASH</th>\n",
              "      <td>2.200000e-05</td>\n",
              "      <td>0.000009</td>\n",
              "      <td>Dash</td>\n",
              "      <td>0</td>\n",
              "    </tr>\n",
              "    <tr>\n",
              "      <th>XMR</th>\n",
              "      <td>0.000000e+00</td>\n",
              "      <td>0.000017</td>\n",
              "      <td>Monero</td>\n",
              "      <td>3</td>\n",
              "    </tr>\n",
              "    <tr>\n",
              "      <th>ETC</th>\n",
              "      <td>2.100000e-04</td>\n",
              "      <td>0.000115</td>\n",
              "      <td>Ethereum Classic</td>\n",
              "      <td>3</td>\n",
              "    </tr>\n",
              "    <tr>\n",
              "      <th>ZEC</th>\n",
              "      <td>2.100000e-05</td>\n",
              "      <td>0.000007</td>\n",
              "      <td>ZCash</td>\n",
              "      <td>3</td>\n",
              "    </tr>\n",
              "  </tbody>\n",
              "</table>\n",
              "</div>"
            ]
          },
          "metadata": {},
          "execution_count": 24
        }
      ],
      "metadata": {
        "id": "3ui_GfnbjTSG"
      }
    },
    {
      "cell_type": "code",
      "execution_count": 25,
      "source": [
        "# Create a hvplot.scatter plot using x=\"TotalCoinsMined\" and y=\"TotalCoinSupply\".\r\n",
        "plot_df.hvplot.scatter(x='TotalCoinsMined', y='TotalCoinSupply', hover_cols='CoinName', by='Class')"
      ],
      "outputs": [
        {
          "output_type": "display_data",
          "data": {},
          "metadata": {}
        },
        {
          "output_type": "execute_result",
          "data": {
            "application/vnd.holoviews_exec.v0+json": "",
            "text/plain": [
              ":NdOverlay   [Class]\n",
              "   :Scatter   [TotalCoinsMined]   (TotalCoinSupply,CoinName)"
            ],
            "text/html": [
              "<div id='1173'>\n",
              "\n",
              "\n",
              "\n",
              "\n",
              "\n",
              "  <div class=\"bk-root\" id=\"b22be870-9eb1-42ef-bf83-87b7648a57b5\" data-root-id=\"1173\"></div>\n",
              "</div>\n",
              "<script type=\"application/javascript\">(function(root) {\n",
              "  function embed_document(root) {\n",
              "    var docs_json = {\"d01225d3-5602-4b87-b0a7-b085083f3f18\":{\"defs\":[{\"extends\":null,\"module\":null,\"name\":\"ReactiveHTML1\",\"overrides\":[],\"properties\":[]},{\"extends\":null,\"module\":null,\"name\":\"FlexBox1\",\"overrides\":[],\"properties\":[{\"default\":\"flex-start\",\"kind\":null,\"name\":\"align_content\"},{\"default\":\"flex-start\",\"kind\":null,\"name\":\"align_items\"},{\"default\":\"row\",\"kind\":null,\"name\":\"flex_direction\"},{\"default\":\"wrap\",\"kind\":null,\"name\":\"flex_wrap\"},{\"default\":\"flex-start\",\"kind\":null,\"name\":\"justify_content\"}]},{\"extends\":null,\"module\":null,\"name\":\"TemplateActions1\",\"overrides\":[],\"properties\":[{\"default\":0,\"kind\":null,\"name\":\"open_modal\"},{\"default\":0,\"kind\":null,\"name\":\"close_modal\"}]},{\"extends\":null,\"module\":null,\"name\":\"MaterialTemplateActions1\",\"overrides\":[],\"properties\":[{\"default\":0,\"kind\":null,\"name\":\"open_modal\"},{\"default\":0,\"kind\":null,\"name\":\"close_modal\"}]}],\"roots\":{\"references\":[{\"attributes\":{\"axis\":{\"id\":\"1194\"},\"dimension\":1,\"grid_line_color\":null,\"ticker\":null},\"id\":\"1197\",\"type\":\"Grid\"},{\"attributes\":{\"label\":{\"value\":\"3\"},\"renderers\":[{\"id\":\"1290\"}]},\"id\":\"1308\",\"type\":\"LegendItem\"},{\"attributes\":{\"fill_color\":{\"value\":\"#e5ae38\"},\"line_color\":{\"value\":\"#e5ae38\"},\"size\":{\"value\":5.477225575051661},\"x\":{\"field\":\"TotalCoinsMined\"},\"y\":{\"field\":\"TotalCoinSupply\"}},\"id\":\"1263\",\"type\":\"Scatter\"},{\"attributes\":{\"angle\":{\"value\":0.0},\"fill_alpha\":{\"value\":1.0},\"fill_color\":{\"value\":\"#6d904f\"},\"hatch_alpha\":{\"value\":1.0},\"hatch_color\":{\"value\":\"black\"},\"hatch_scale\":{\"value\":12.0},\"hatch_weight\":{\"value\":1.0},\"line_alpha\":{\"value\":1.0},\"line_cap\":{\"value\":\"butt\"},\"line_color\":{\"value\":\"#6d904f\"},\"line_dash\":{\"value\":[]},\"line_dash_offset\":{\"value\":0},\"line_join\":{\"value\":\"bevel\"},\"line_width\":{\"value\":1},\"marker\":{\"value\":\"circle\"},\"size\":{\"value\":5.477225575051661},\"x\":{\"field\":\"TotalCoinsMined\"},\"y\":{\"field\":\"TotalCoinSupply\"}},\"id\":\"1309\",\"type\":\"Scatter\"},{\"attributes\":{},\"id\":\"1233\",\"type\":\"UnionRenderers\"},{\"attributes\":{},\"id\":\"1306\",\"type\":\"UnionRenderers\"},{\"attributes\":{},\"id\":\"1216\",\"type\":\"AllLabels\"},{\"attributes\":{},\"id\":\"1198\",\"type\":\"SaveTool\"},{\"attributes\":{},\"id\":\"1199\",\"type\":\"PanTool\"},{\"attributes\":{},\"id\":\"1256\",\"type\":\"UnionRenderers\"},{\"attributes\":{},\"id\":\"1202\",\"type\":\"ResetTool\"},{\"attributes\":{},\"id\":\"1200\",\"type\":\"WheelZoomTool\"},{\"attributes\":{\"data\":{\"Class\":[1,1,1],\"CoinName\":[\"BiblePay\",\"Poa Network\",\"Acute Angle Cloud\"],\"TotalCoinSupply\":{\"__ndarray__\":\"lPYGX5hMdT+EWijhloswP/yp8dJNYlA/\",\"dtype\":\"float64\",\"order\":\"little\",\"shape\":[3]},\"TotalCoinsMined\":{\"__ndarray__\":\"j1gNkdpTXT+cGSV4jxIrP3pDQwW4jFA/\",\"dtype\":\"float64\",\"order\":\"little\",\"shape\":[3]}},\"selected\":{\"id\":\"1239\"},\"selection_policy\":{\"id\":\"1256\"}},\"id\":\"1238\",\"type\":\"ColumnDataSource\"},{\"attributes\":{\"overlay\":{\"id\":\"1203\"}},\"id\":\"1201\",\"type\":\"BoxZoomTool\"},{\"attributes\":{},\"id\":\"1261\",\"type\":\"Selection\"},{\"attributes\":{\"angle\":{\"value\":0.0},\"fill_alpha\":{\"value\":1.0},\"fill_color\":{\"value\":\"#30a2da\"},\"hatch_alpha\":{\"value\":1.0},\"hatch_color\":{\"value\":\"black\"},\"hatch_scale\":{\"value\":12.0},\"hatch_weight\":{\"value\":1.0},\"line_alpha\":{\"value\":1.0},\"line_cap\":{\"value\":\"butt\"},\"line_color\":{\"value\":\"#30a2da\"},\"line_dash\":{\"value\":[]},\"line_dash_offset\":{\"value\":0},\"line_join\":{\"value\":\"bevel\"},\"line_width\":{\"value\":1},\"marker\":{\"value\":\"circle\"},\"size\":{\"value\":5.477225575051661},\"x\":{\"field\":\"TotalCoinsMined\"},\"y\":{\"field\":\"TotalCoinSupply\"}},\"id\":\"1237\",\"type\":\"Scatter\"},{\"attributes\":{\"fill_alpha\":{\"value\":0.2},\"fill_color\":{\"value\":\"#30a2da\"},\"line_alpha\":{\"value\":0.2},\"line_color\":{\"value\":\"#30a2da\"},\"size\":{\"value\":5.477225575051661},\"x\":{\"field\":\"TotalCoinsMined\"},\"y\":{\"field\":\"TotalCoinSupply\"}},\"id\":\"1222\",\"type\":\"Scatter\"},{\"attributes\":{\"source\":{\"id\":\"1284\"}},\"id\":\"1291\",\"type\":\"CDSView\"},{\"attributes\":{\"margin\":[5,5,5,5],\"name\":\"HSpacer01992\",\"sizing_mode\":\"stretch_width\"},\"id\":\"1454\",\"type\":\"Spacer\"},{\"attributes\":{},\"id\":\"1285\",\"type\":\"Selection\"},{\"attributes\":{\"label\":{\"value\":\"0\"},\"renderers\":[{\"id\":\"1223\"}]},\"id\":\"1236\",\"type\":\"LegendItem\"},{\"attributes\":{\"data_source\":{\"id\":\"1238\"},\"glyph\":{\"id\":\"1241\"},\"hover_glyph\":null,\"muted_glyph\":{\"id\":\"1243\"},\"nonselection_glyph\":{\"id\":\"1242\"},\"selection_glyph\":{\"id\":\"1259\"},\"view\":{\"id\":\"1245\"}},\"id\":\"1244\",\"type\":\"GlyphRenderer\"},{\"attributes\":{\"fill_color\":{\"value\":\"#fc4f30\"},\"line_color\":{\"value\":\"#fc4f30\"},\"size\":{\"value\":5.477225575051661},\"x\":{\"field\":\"TotalCoinsMined\"},\"y\":{\"field\":\"TotalCoinSupply\"}},\"id\":\"1241\",\"type\":\"Scatter\"},{\"attributes\":{\"fill_alpha\":{\"value\":0.2},\"fill_color\":{\"value\":\"#fc4f30\"},\"line_alpha\":{\"value\":0.2},\"line_color\":{\"value\":\"#fc4f30\"},\"size\":{\"value\":5.477225575051661},\"x\":{\"field\":\"TotalCoinsMined\"},\"y\":{\"field\":\"TotalCoinSupply\"}},\"id\":\"1243\",\"type\":\"Scatter\"},{\"attributes\":{\"source\":{\"id\":\"1217\"}},\"id\":\"1224\",\"type\":\"CDSView\"},{\"attributes\":{\"fill_color\":{\"value\":\"#30a2da\"},\"line_color\":{\"value\":\"#30a2da\"},\"size\":{\"value\":5.477225575051661},\"x\":{\"field\":\"TotalCoinsMined\"},\"y\":{\"field\":\"TotalCoinSupply\"}},\"id\":\"1220\",\"type\":\"Scatter\"},{\"attributes\":{\"callback\":null,\"renderers\":[{\"id\":\"1223\"},{\"id\":\"1244\"},{\"id\":\"1266\"},{\"id\":\"1290\"}],\"tags\":[\"hv_created\"],\"tooltips\":[[\"Class\",\"@{Class}\"],[\"TotalCoinsMined\",\"@{TotalCoinsMined}\"],[\"TotalCoinSupply\",\"@{TotalCoinSupply}\"],[\"CoinName\",\"@{CoinName}\"]]},\"id\":\"1177\",\"type\":\"HoverTool\"},{\"attributes\":{\"data_source\":{\"id\":\"1217\"},\"glyph\":{\"id\":\"1220\"},\"hover_glyph\":null,\"muted_glyph\":{\"id\":\"1222\"},\"nonselection_glyph\":{\"id\":\"1221\"},\"selection_glyph\":{\"id\":\"1237\"},\"view\":{\"id\":\"1224\"}},\"id\":\"1223\",\"type\":\"GlyphRenderer\"},{\"attributes\":{\"active_multi\":null,\"tools\":[{\"id\":\"1177\"},{\"id\":\"1198\"},{\"id\":\"1199\"},{\"id\":\"1200\"},{\"id\":\"1201\"},{\"id\":\"1202\"}]},\"id\":\"1204\",\"type\":\"Toolbar\"},{\"attributes\":{\"data\":{\"Class\":[2],\"CoinName\":[\"BitTorrent\"],\"TotalCoinSupply\":{\"__ndarray__\":\"rkfhehSu7z8=\",\"dtype\":\"float64\",\"order\":\"little\",\"shape\":[1]},\"TotalCoinsMined\":{\"__ndarray__\":\"AAAAAAAA8D8=\",\"dtype\":\"float64\",\"order\":\"little\",\"shape\":[1]}},\"selected\":{\"id\":\"1261\"},\"selection_policy\":{\"id\":\"1280\"}},\"id\":\"1260\",\"type\":\"ColumnDataSource\"},{\"attributes\":{\"end\":1.042857142857143,\"reset_end\":1.042857142857143,\"reset_start\":-0.04285714285714286,\"start\":-0.04285714285714286,\"tags\":[[[\"TotalCoinsMined\",\"TotalCoinsMined\",null]]]},\"id\":\"1175\",\"type\":\"Range1d\"},{\"attributes\":{\"data\":{\"Class\":[0,0,0,0,0,0,0,0,0,0,0,0,0,0,0,0,0,0,0,0,0,0,0,0,0,0,0,0,0,0,0,0,0,0,0,0,0,0,0,0,0,0,0,0,0,0,0,0,0,0,0,0,0,0,0,0,0,0,0,0,0,0,0,0,0,0,0,0,0,0,0,0,0,0,0,0,0,0,0,0,0,0,0,0,0,0,0,0,0,0,0,0,0,0,0,0,0,0,0,0,0,0,0,0,0,0,0,0,0,0,0,0,0,0,0,0,0,0,0,0,0,0,0,0,0,0,0,0,0,0,0,0,0,0,0,0,0,0,0,0,0,0,0,0,0,0,0,0,0,0,0,0,0,0,0,0,0,0,0,0,0,0,0,0,0,0,0,0,0,0,0,0,0,0,0,0,0,0,0,0,0,0,0,0,0,0,0,0,0,0,0,0,0,0,0,0,0,0,0,0,0,0,0,0,0,0,0,0,0,0,0,0,0,0,0,0,0,0,0,0,0,0,0,0,0,0,0,0,0,0,0,0,0,0,0,0,0,0,0,0,0,0,0,0,0,0,0,0,0,0,0,0,0,0,0,0,0,0,0,0,0,0,0,0,0,0,0,0,0,0,0,0,0,0,0,0,0,0,0,0,0,0,0,0,0,0,0,0],\"CoinName\":[\"42 Coin\",\"404Coin\",\"EliteCoin\",\"Dash\",\"Bitshares\",\"BitcoinDark\",\"PayCoin\",\"KoboCoin\",\"Aurora Coin\",\"BlueCoin\",\"EnergyCoin\",\"BitBar\",\"CryptoBullion\",\"CasinoCoin\",\"Diamond\",\"Exclusive Coin\",\"FlutterCoin\",\"HoboNickels\",\"HyperStake\",\"IOCoin\",\"MaxCoin\",\"MintCoin\",\"MazaCoin\",\"Nautilus Coin\",\"NavCoin\",\"OpalCoin\",\"Orbitcoin\",\"PotCoin\",\"PhoenixCoin\",\"Reddcoin\",\"SuperCoin\",\"SyncCoin\",\"TeslaCoin\",\"TittieCoin\",\"TorCoin\",\"UnitaryStatus Dollar\",\"UltraCoin\",\"VeriCoin\",\"X11 Coin\",\"Crypti\",\"StealthCoin\",\"ZCC Coin\",\"StorjCoin\",\"Neutron\",\"FairCoin\",\"RubyCoin\",\"Kore\",\"Dnotes\",\"8BIT Coin\",\"Sativa Coin\",\"Ucoin\",\"Vtorrent\",\"IslaCoin\",\"Nexus\",\"Droidz\",\"Squall Coin\",\"Diggits\",\"Paycon\",\"Emercoin\",\"EverGreenCoin\",\"Decred\",\"EDRCoin\",\"Hitcoin\",\"DubaiCoin\",\"PWR Coin\",\"BillaryCoin\",\"GPU Coin\",\"EuropeCoin\",\"ZeitCoin\",\"SwingCoin\",\"SafeExchangeCoin\",\"Nebuchadnezzar\",\"Ratecoin\",\"Revenu\",\"Clockcoin\",\"VIP Tokens\",\"BitSend\",\"Let it Ride\",\"PutinCoin\",\"iBankCoin\",\"Frankywillcoin\",\"MudraCoin\",\"Lutetium Coin\",\"GoldBlocks\",\"CarterCoin\",\"BitTokens\",\"MustangCoin\",\"ZoneCoin\",\"RootCoin\",\"BitCurrency\",\"Swiscoin\",\"BuzzCoin\",\"Opair\",\"PesoBit\",\"Halloween Coin\",\"CoffeeCoin\",\"RoyalCoin\",\"GanjaCoin V2\",\"TeamUP\",\"LanaCoin\",\"ARK\",\"InsaneCoin\",\"EmberCoin\",\"XenixCoin\",\"FreeCoin\",\"PLNCoin\",\"AquariusCoin\",\"Creatio\",\"Eternity\",\"Eurocoin\",\"BitcoinFast\",\"Stakenet\",\"BitConnect Coin\",\"MoneyCoin\",\"Enigma\",\"Russiacoin\",\"PandaCoin\",\"GameUnits\",\"GAKHcoin\",\"Allsafe\",\"LiteCreed\",\"Klingon Empire Darsek\",\"Internet of People\",\"KushCoin\",\"Printerium\",\"Impeach\",\"Zilbercoin\",\"FirstCoin\",\"FindCoin\",\"OpenChat\",\"RenosCoin\",\"VirtacoinPlus\",\"TajCoin\",\"Impact\",\"Atmos\",\"HappyCoin\",\"MacronCoin\",\"Condensate\",\"Independent Money System\",\"ArgusCoin\",\"LomoCoin\",\"ProCurrency\",\"GoldReserve\",\"GrowthCoin\",\"Phreak\",\"Degas Coin\",\"HTML5 Coin\",\"Ultimate Secure Cash\",\"QTUM\",\"Espers\",\"Denarius\",\"Virta Unique Coin\",\"Bitcoin Planet\",\"BritCoin\",\"Linda\",\"DeepOnion\",\"Signatum\",\"Cream\",\"Monoeci\",\"Draftcoin\",\"Vechain\",\"Stakecoin\",\"CoinonatX\",\"Ethereum Dark\",\"Obsidian\",\"Cardano\",\"Regalcoin\",\"TrezarCoin\",\"TerraNovaCoin\",\"Rupee\",\"WomenCoin\",\"Theresa May Coin\",\"NamoCoin\",\"LUXCoin\",\"Xios\",\"Bitcloud 2.0\",\"KekCoin\",\"BlackholeCoin\",\"Infinity Economics\",\"Magnet\",\"Lamden Tau\",\"Electra\",\"Bitcoin Diamond\",\"Cash & Back Coin\",\"Bulwark\",\"Kalkulus\",\"GermanCoin\",\"LiteCoin Ultra\",\"PhantomX\",\"Digiwage\",\"Trollcoin\",\"Litecoin Plus\",\"Monkey Project\",\"TokenPay\",\"My Big Coin\",\"Unified Society USDEX\",\"Tokyo Coin\",\"LitecoinCash\",\"Stipend\",\"Pushi\",\"Ellerium\",\"Velox\",\"Ontology\",\"Bitspace\",\"Briacoin\",\"Ignition\",\"MedicCoin\",\"Bitcoin Green\",\"Deviant Coin\",\"Abjcoin\",\"Semux\",\"Carebit\",\"Zealium\",\"Proton\",\"iDealCash\",\"Bitcoin Incognito\",\"HollyWoodCoin\",\"Swisscoin\",\"Xt3ch\",\"TheVig\",\"EmaratCoin\",\"Dekado\",\"Lynx\",\"Poseidon Quark\",\"BitcoinWSpectrum\",\"Muse\",\"Trivechain\",\"Dystem\",\"Giant\",\"Peony Coin\",\"Absolute Coin\",\"Vitae\",\"TPCash\",\"ARENON\",\"EUNO\",\"MMOCoin\",\"Ketan\",\"XDNA\",\"PAXEX\",\"ThunderStake\",\"Kcash\",\"Bettex coin\",\"BitMoney\",\"Junson Ming Chan Coin\",\"HerbCoin\",\"PirateCash\",\"Oduwa\",\"Galilel\",\"Crypto Sports\",\"Credit\",\"Dash Platinum\",\"Nasdacoin\",\"Beetle Coin\",\"Titan Coin\",\"Award\",\"Insane Coin\",\"ALAX\",\"LiteDoge\",\"TruckCoin\",\"OrangeCoin\",\"BitstarCoin\",\"NeosCoin\",\"HyperCoin\",\"PinkCoin\",\"AudioCoin\",\"IncaKoin\",\"Piggy Coin\",\"Genstake\",\"XiaoMiCoin\",\"CapriCoin\",\" ClubCoin\",\"Radium\",\"Creditbit \",\"OKCash\",\"Lisk\",\"HiCoin\",\"WhiteCoin\",\"FriendshipCoin\",\"Triangles Coin\",\"EOS\",\"Oxycoin\",\"TigerCash\",\"Waves\",\"Particl\",\"Nxt\",\"ZEPHYR\",\"Gapcoin\",\"BitcoinPlus\"],\"TotalCoinSupply\":{\"__ndarray__\":\"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\",\"dtype\":\"float64\",\"order\":\"little\",\"shape\":[288]},\"TotalCoinsMined\":{\"__ndarray__\":\"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\",\"dtype\":\"float64\",\"order\":\"little\",\"shape\":[288]}},\"selected\":{\"id\":\"1218\"},\"selection_policy\":{\"id\":\"1233\"}},\"id\":\"1217\",\"type\":\"ColumnDataSource\"},{\"attributes\":{\"margin\":[5,5,5,5],\"name\":\"HSpacer01991\",\"sizing_mode\":\"stretch_width\"},\"id\":\"1174\",\"type\":\"Spacer\"},{\"attributes\":{\"bottom_units\":\"screen\",\"fill_alpha\":0.5,\"fill_color\":\"lightgrey\",\"left_units\":\"screen\",\"level\":\"overlay\",\"line_alpha\":1.0,\"line_color\":\"black\",\"line_dash\":[4,4],\"line_width\":2,\"right_units\":\"screen\",\"syncable\":false,\"top_units\":\"screen\"},\"id\":\"1203\",\"type\":\"BoxAnnotation\"},{\"attributes\":{},\"id\":\"1211\",\"type\":\"BasicTickFormatter\"},{\"attributes\":{\"fill_alpha\":{\"value\":0.1},\"fill_color\":{\"value\":\"#e5ae38\"},\"line_alpha\":{\"value\":0.1},\"line_color\":{\"value\":\"#e5ae38\"},\"size\":{\"value\":5.477225575051661},\"x\":{\"field\":\"TotalCoinsMined\"},\"y\":{\"field\":\"TotalCoinSupply\"}},\"id\":\"1264\",\"type\":\"Scatter\"},{\"attributes\":{\"label\":{\"value\":\"1\"},\"renderers\":[{\"id\":\"1244\"}]},\"id\":\"1258\",\"type\":\"LegendItem\"},{\"attributes\":{\"below\":[{\"id\":\"1190\"}],\"center\":[{\"id\":\"1193\"},{\"id\":\"1197\"}],\"height\":300,\"left\":[{\"id\":\"1194\"}],\"margin\":[5,5,5,5],\"min_border_bottom\":10,\"min_border_left\":10,\"min_border_right\":10,\"min_border_top\":10,\"renderers\":[{\"id\":\"1223\"},{\"id\":\"1244\"},{\"id\":\"1266\"},{\"id\":\"1290\"}],\"right\":[{\"id\":\"1235\"}],\"sizing_mode\":\"fixed\",\"title\":{\"id\":\"1182\"},\"toolbar\":{\"id\":\"1204\"},\"width\":700,\"x_range\":{\"id\":\"1175\"},\"x_scale\":{\"id\":\"1186\"},\"y_range\":{\"id\":\"1176\"},\"y_scale\":{\"id\":\"1188\"}},\"id\":\"1181\",\"subtype\":\"Figure\",\"type\":\"Plot\"},{\"attributes\":{\"angle\":{\"value\":0.0},\"fill_alpha\":{\"value\":1.0},\"fill_color\":{\"value\":\"#e5ae38\"},\"hatch_alpha\":{\"value\":1.0},\"hatch_color\":{\"value\":\"black\"},\"hatch_scale\":{\"value\":12.0},\"hatch_weight\":{\"value\":1.0},\"line_alpha\":{\"value\":1.0},\"line_cap\":{\"value\":\"butt\"},\"line_color\":{\"value\":\"#e5ae38\"},\"line_dash\":{\"value\":[]},\"line_dash_offset\":{\"value\":0},\"line_join\":{\"value\":\"bevel\"},\"line_width\":{\"value\":1},\"marker\":{\"value\":\"circle\"},\"size\":{\"value\":5.477225575051661},\"x\":{\"field\":\"TotalCoinsMined\"},\"y\":{\"field\":\"TotalCoinSupply\"}},\"id\":\"1283\",\"type\":\"Scatter\"},{\"attributes\":{},\"id\":\"1280\",\"type\":\"UnionRenderers\"},{\"attributes\":{\"children\":[{\"id\":\"1174\"},{\"id\":\"1181\"},{\"id\":\"1454\"}],\"margin\":[0,0,0,0],\"name\":\"Row01987\",\"tags\":[\"embedded\"]},\"id\":\"1173\",\"type\":\"Row\"},{\"attributes\":{\"text_color\":\"black\",\"text_font_size\":\"12pt\"},\"id\":\"1182\",\"type\":\"Title\"},{\"attributes\":{\"data\":{\"Class\":[3,3,3,3,3,3,3,3,3,3,3,3,3,3,3,3,3,3,3,3,3,3,3,3,3,3,3,3,3,3,3,3,3,3,3,3,3,3,3,3,3,3,3,3,3,3,3,3,3,3,3,3,3,3,3,3,3,3,3,3,3,3,3,3,3,3,3,3,3,3,3,3,3,3,3,3,3,3,3,3,3,3,3,3,3,3,3,3,3,3,3,3,3,3,3,3,3,3,3,3,3,3,3,3,3,3,3,3,3,3,3,3,3,3,3,3,3,3,3,3,3,3,3,3,3,3,3,3,3,3,3,3,3,3,3,3,3,3,3,3,3,3,3,3,3,3,3,3,3,3,3,3,3,3,3,3,3,3,3,3,3,3,3,3,3,3,3,3,3,3,3,3,3,3,3,3,3,3,3,3,3,3,3,3,3,3,3,3,3,3,3,3,3,3,3,3,3,3,3,3,3,3,3,3,3,3,3,3,3,3,3,3,3,3,3,3,3,3,3,3,3,3,3,3,3,3,3,3,3,3,3,3,3,3,3,3,3,3,3,3],\"CoinName\":[\"Bitcoin\",\"Ethereum\",\"Litecoin\",\"Monero\",\"Ethereum Classic\",\"ZCash\",\"DigiByte\",\"ProsperCoin\",\"Spreadcoin\",\"Argentum\",\"MyriadCoin\",\"MoonCoin\",\"ZetaCoin\",\"SexCoin\",\"Quatloo\",\"QuarkCoin\",\"Riecoin\",\"Digitalcoin \",\"Catcoin\",\"CannaCoin\",\"CryptCoin\",\"Verge\",\"DevCoin\",\"EarthCoin\",\"E-Gulden\",\"Einsteinium\",\"Emerald\",\"Franko\",\"FeatherCoin\",\"GrandCoin\",\"GlobalCoin\",\"GoldCoin\",\"Infinite Coin\",\"IXcoin\",\"KrugerCoin\",\"LuckyCoin\",\"Litebar \",\"MegaCoin\",\"MediterraneanCoin\",\"MinCoin\",\"NobleCoin\",\"Namecoin\",\"NyanCoin\",\"RonPaulCoin\",\"StableCoin\",\"SmartCoin\",\"SysCoin\",\"TigerCoin\",\"TerraCoin\",\"UnbreakableCoin\",\"Unobtanium\",\"UroCoin\",\"ViaCoin\",\"Vertcoin\",\"WorldCoin\",\"JouleCoin\",\"ByteCoin\",\"DigitalNote \",\"BurstCoin\",\"MonaCoin\",\"Gulden\",\"PesetaCoin\",\"Wild Beast Coin\",\"Flo\",\"ArtByte\",\"Folding Coin\",\"Unitus\",\"CypherPunkCoin\",\"OmniCron\",\"GreenCoin\",\"Cryptonite\",\"MasterCoin\",\"SoonCoin\",\"1Credit\",\"MarsCoin \",\"Crypto\",\"Anarchists Prime\",\"BowsCoin\",\"Song Coin\",\"BitZeny\",\"Expanse\",\"Siacoin\",\"MindCoin\",\"I0coin\",\"Revolution VR\",\"HOdlcoin\",\"Gamecredits\",\"CarpeDiemCoin\",\"Adzcoin\",\"SoilCoin\",\"YoCoin\",\"SibCoin\",\"Francs\",\"BolivarCoin\",\"Omni\",\"PizzaCoin\",\"Komodo\",\"Karbo\",\"ZayedCoin\",\"Circuits of Value\",\"DopeCoin\",\"DollarCoin\",\"Shilling\",\"ZCoin\",\"Elementrem\",\"ZClassic\",\"KiloCoin\",\"ArtexCoin\",\"Kurrent\",\"Cannabis Industry Coin\",\"OsmiumCoin\",\"Bikercoins\",\"HexxCoin\",\"PacCoin\",\"Citadel\",\"BeaverCoin\",\"VaultCoin\",\"Zero\",\"Canada eCoin\",\"Zoin\",\"DubaiCoin\",\"EB3coin\",\"Coinonat\",\"BenjiRolls\",\"ILCoin\",\"EquiTrader\",\"Quantum Resistant Ledger\",\"Dynamic\",\"Nano\",\"ChanCoin\",\"Dinastycoin\",\"DigitalPrice\",\"Unify\",\"SocialCoin\",\"ArcticCoin\",\"DAS\",\"LeviarCoin\",\"Bitcore\",\"gCn Coin\",\"SmartCash\",\"Onix\",\"Bitcoin Cash\",\"Sojourn Coin\",\"NewYorkCoin\",\"FrazCoin\",\"Kronecoin\",\"AdCoin\",\"Linx\",\"Sumokoin\",\"BitcoinZ\",\"Elements\",\"VIVO Coin\",\"Bitcoin Gold\",\"Pirl\",\"eBoost\",\"Pura\",\"Innova\",\"Ellaism\",\"GoByte\",\"SHIELD\",\"UltraNote\",\"BitCoal\",\"DaxxCoin\",\"AC3\",\"Lethean\",\"PopularCoin\",\"Photon\",\"Sucre\",\"SparksPay\",\"GunCoin\",\"IrishCoin\",\"Pioneer Coin\",\"UnitedBitcoin\",\"Interzone\",\"1717 Masonic Commemorative Token\",\"TurtleCoin\",\"MUNcoin\",\"Niobio Cash\",\"ShareChain\",\"Travelflex\",\"KREDS\",\"BitFlip\",\"LottoCoin\",\"Crypto Improvement Fund\",\"Callisto Network\",\"BitTube\",\"Poseidon\",\"Aidos Kuneen\",\"Bitrolium\",\"Alpenschillling\",\"FuturoCoin\",\"Monero Classic\",\"Jumpcoin\",\"Infinex\",\"KEYCO\",\"GINcoin\",\"PlatinCoin\",\"Loki\",\"Newton Coin\",\"MassGrid\",\"PluraCoin\",\"Motion\",\"PlusOneCoin\",\"Axe\",\"HexCoin\",\"Webchain\",\"Ryo\",\"Urals Coin\",\"Qwertycoin\",\"Project Pai\",\"Azart\",\"Xchange\",\"CrypticCoin\",\"Actinium\",\"Bitcoin SV\",\"FREDEnergy\",\"Universal Molecule\",\"Lithium\",\"Exosis\",\"Block-Logic\",\"Beam\",\"Bithereum\",\"SLICE\",\"BLAST\",\"Bitcoin Rhodium\",\"GlobalToken\",\"SolarCoin\",\"UFO Coin\",\"BlakeCoin\",\"Crypto Escudo\",\"Crown Coin\",\"SmileyCoin\",\"Groestlcoin\",\"Bata\",\"Pakcoin\",\"JoinCoin\",\"Vollar\",\"Reality Clash\",\"Beldex\",\"Horizen\"],\"TotalCoinSupply\":{\"__ndarray__\":\"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\",\"dtype\":\"float64\",\"order\":\"little\",\"shape\":[240]},\"TotalCoinsMined\":{\"__ndarray__\":\"r6i7QfH88j5vitZPpIMcP2safiZFsRA/CBAnMBQ48j7wDEJVXgQePwFvcySeR98+S6ekP56Yhz8O0fKLQ3DYPunoanR6nuc+P/QHNS7b6T4I4yegqPBbP4pk9hRmi8k9cMqzLN2IJj8v7oqMShIhP+hFNhs4LN8+ICzRsK4uMT8QbyRNiz0KP59NHRkHtgE/NhWLS7iW3j4HjNNQyO3TPhf3vZ6vK9U+zGWKHw96kD/YQKTwOGuTP/QR9hSJ8Ik/v+Nbg90l9j7UJEJsY/osP53eB+SKpvQ+7OKrfnJdsz7h8m27k6ArPzOFKreVQ00/sp9rdsljET8a/IWo3Q8GPxfWq/5Sbbc/2g1Vrl1W9j4aGveuIA0kP+mrkQNSePQ+w6aYs+e2sj5zk5i3czQEP8Q38CuLaQU/dwwlCTKX2D6/GiTQLZRjP2kcsAWHN+8+WPbFZkYoNj/9tCw6GLayPlG7VH/vpfk+lXaTGbsb+z4TJNibZaVCP11sMg9/Dgc/sbwJ7+tK+D5svacTrE3DPrI5aeKgO4s+Bn6fn5x1tD5Ljct4WoX4PjXfW1HfGQs/ZX20aNqrHz8+VYv99MEEP1hQT91+zMc/EkNUVVGTfD8v9/epUAFePyw3AHS+DhI/vHcWlIB5Oz9XT2Lk/DQiP7xa70NzqIg+/S8r0gUpJD+7jf7QgztKP4Wftlbvz0c/Re2gid09ET9Fe9kzvvfaPq1c/HTseuU+RG/57S0Tcz9okINYfHNHP/A5J/24/qQ+VCyn2nRm6j4lW2FiVuh3PlEjiUBvEAE/0L1ZHKoc7T5yrZVfYj3vPnLL2el3zfA+O0bJ/Qg/AT/NwWkjtwUUP6kiwRuRO+Y+Lul4dCEeoT8Jlvatg87wPrxleW50PfY+ANsjv6/NKz+3afQdvkDoPvrxCBcDfhI/xVkib6J8lj+p8MOs0+MHP8gfzWVlKNg+ZvPNIBiSpT6KjUKW8kjyPoRXNiKn1ts+8H9TLJbs7D5UiniRbuSkPlm2qvTFWbc+8FkqM3GwHj+LagAvFZLgPgCBwBIGdNo+ekNDBbiMUD/UO02+pPAeP9YUPmyMSuM+uL3MdOuN5z7YMx6jQQjgPmMAO/aewfs+hTD+QGnI1z6i/2L5Rf0pP1o9XtEcRks/O4JDwcM/ED+1ww3+ZpOwPtSsdbzrTK4+DHACjFPS4z7G/3TBSsu/Po4zrH4VxkE/0p/hlqM85z4KTczmhmXKPqsP156DFwA/84jwQy5T3T7p+YLyIXAaP9aj38qrpPM+y6MlnoTrwj5cbEGW6PgQP4GHiPbJceU+Nd5Obdp59T7Je+X67M5VP3PWT+QQ9+w+/1QSxMZHEj9hKn9Ae/T0PrWHiodIpCE/L438AR5/8z6ErCojNPJdP+bivAz2mwI/yQQoA8408z7nbwBu7OTVPvbw10pglfs+1BmvOnk5xj4J18Vn7P/tPvRo7PL22vI+GB33QgUVxT+BzRtQQ4tiP0vBzFEoNyA/JGX+N34P8z79jVOcvXGgPgQ10iZufcI/+PHfwXqO5D7X33qzknzyPqndVzwTSgE/eBUn0xzbAT+4FkxYv/PiPim6m734j3U/ewwfsp5dZj+41qr3XKbRPtsdILtoOPI+XtPFhsf/AT8SyOjdEXoaPzzEkLG4Mic/2lwako8C2z4uyW1mwQXrPj3VN8Sstdg+eJjN1dPjPz/lg7+LuvGTPy1QU52nENM+mR9Mbb49QT9jNZevbkQVP7+wa/LPNT0/SvIGOc1mcD/Ao/i6lx+fPygNh6XF6tE+VPZhxKGf4D4z0xtWo9gzP+mYtu1bFgg/ZQ7uSqf14T7Br9f1/1v1PpiqM+VXPuk+bnHiGX5ruz6tX+xllHurP5umGNzsadQ+DdRa8Xi7IT9Qn7IT5q+EP9nxBx9Paxw/UDLYFSpPRT98tg9nf13qPmZF6WRL+o0/Z3XZGKv5Kz/YL9a/QWQwPxWp9R5TMhU/2kGAvoE+0T4HcrwwvXr6PvdglsAB5RI/WV3Wt131/D428IRIetcAP8qbJCj29vA++tPFM/FQ9j72TR636JjVPvx87g2S9ao+yzphbmeZ3T6Pmy8IuNh2PhjZ6gl/SfQ+g1nCOEpbpT+RgAu44vwhP4LOT27aiUI/9ZfpU6I24T4f5SubYVDiPs9e0ldlJ9U+eNZihN4BuD7q8GBWj4DwPtGA3ySfuNQ+lr1vCNE87z64sNw4Sr65P7+U8AuOYGE/21raAS5A1T4bDmApcKnkPk+r/Iq+hXE/Wiv0JSji7D7XmPnEqA7zPq4VH8sv5l4/tES2qgi/uj52ao/M08jwPmrMMqxthps+Gw5UWrivAj+bmw6DVOYCP3FvzQOgo/o+lM2DQKJh6z6yea5Mu7ELP7JfNdwD1bM+fja4QLVnFj8aiAbhOm0NP7DYIMkOpm8/lyfwwS69+D4gof8PEdNJP1hseRLlWPg+ZbOty7CZnj/sBEYPs2gTPxWZdvn0Z9U+VjnBgrtzEj8gMXRQrz3MPvtFfmC/eho/gseFIuXv+T6pGh9y7ThQP37YbI3H6d4+\",\"dtype\":\"float64\",\"order\":\"little\",\"shape\":[240]}},\"selected\":{\"id\":\"1285\"},\"selection_policy\":{\"id\":\"1306\"}},\"id\":\"1284\",\"type\":\"ColumnDataSource\"},{\"attributes\":{\"label\":{\"value\":\"2\"},\"renderers\":[{\"id\":\"1266\"}]},\"id\":\"1282\",\"type\":\"LegendItem\"},{\"attributes\":{},\"id\":\"1213\",\"type\":\"AllLabels\"},{\"attributes\":{\"fill_color\":{\"value\":\"#6d904f\"},\"line_color\":{\"value\":\"#6d904f\"},\"size\":{\"value\":5.477225575051661},\"x\":{\"field\":\"TotalCoinsMined\"},\"y\":{\"field\":\"TotalCoinSupply\"}},\"id\":\"1287\",\"type\":\"Scatter\"},{\"attributes\":{},\"id\":\"1218\",\"type\":\"Selection\"},{\"attributes\":{\"source\":{\"id\":\"1260\"}},\"id\":\"1267\",\"type\":\"CDSView\"},{\"attributes\":{\"fill_alpha\":{\"value\":0.1},\"fill_color\":{\"value\":\"#30a2da\"},\"line_alpha\":{\"value\":0.1},\"line_color\":{\"value\":\"#30a2da\"},\"size\":{\"value\":5.477225575051661},\"x\":{\"field\":\"TotalCoinsMined\"},\"y\":{\"field\":\"TotalCoinSupply\"}},\"id\":\"1221\",\"type\":\"Scatter\"},{\"attributes\":{\"click_policy\":\"mute\",\"items\":[{\"id\":\"1236\"},{\"id\":\"1258\"},{\"id\":\"1282\"},{\"id\":\"1308\"}],\"location\":[0,0],\"title\":\"Class\"},\"id\":\"1235\",\"type\":\"Legend\"},{\"attributes\":{\"angle\":{\"value\":0.0},\"fill_alpha\":{\"value\":1.0},\"fill_color\":{\"value\":\"#fc4f30\"},\"hatch_alpha\":{\"value\":1.0},\"hatch_color\":{\"value\":\"black\"},\"hatch_scale\":{\"value\":12.0},\"hatch_weight\":{\"value\":1.0},\"line_alpha\":{\"value\":1.0},\"line_cap\":{\"value\":\"butt\"},\"line_color\":{\"value\":\"#fc4f30\"},\"line_dash\":{\"value\":[]},\"line_dash_offset\":{\"value\":0},\"line_join\":{\"value\":\"bevel\"},\"line_width\":{\"value\":1},\"marker\":{\"value\":\"circle\"},\"size\":{\"value\":5.477225575051661},\"x\":{\"field\":\"TotalCoinsMined\"},\"y\":{\"field\":\"TotalCoinSupply\"}},\"id\":\"1259\",\"type\":\"Scatter\"},{\"attributes\":{},\"id\":\"1214\",\"type\":\"BasicTickFormatter\"},{\"attributes\":{\"fill_alpha\":{\"value\":0.1},\"fill_color\":{\"value\":\"#fc4f30\"},\"line_alpha\":{\"value\":0.1},\"line_color\":{\"value\":\"#fc4f30\"},\"size\":{\"value\":5.477225575051661},\"x\":{\"field\":\"TotalCoinsMined\"},\"y\":{\"field\":\"TotalCoinSupply\"}},\"id\":\"1242\",\"type\":\"Scatter\"},{\"attributes\":{\"fill_alpha\":{\"value\":0.2},\"fill_color\":{\"value\":\"#e5ae38\"},\"line_alpha\":{\"value\":0.2},\"line_color\":{\"value\":\"#e5ae38\"},\"size\":{\"value\":5.477225575051661},\"x\":{\"field\":\"TotalCoinsMined\"},\"y\":{\"field\":\"TotalCoinSupply\"}},\"id\":\"1265\",\"type\":\"Scatter\"},{\"attributes\":{\"fill_alpha\":{\"value\":0.1},\"fill_color\":{\"value\":\"#6d904f\"},\"line_alpha\":{\"value\":0.1},\"line_color\":{\"value\":\"#6d904f\"},\"size\":{\"value\":5.477225575051661},\"x\":{\"field\":\"TotalCoinsMined\"},\"y\":{\"field\":\"TotalCoinSupply\"}},\"id\":\"1288\",\"type\":\"Scatter\"},{\"attributes\":{},\"id\":\"1191\",\"type\":\"BasicTicker\"},{\"attributes\":{},\"id\":\"1239\",\"type\":\"Selection\"},{\"attributes\":{},\"id\":\"1186\",\"type\":\"LinearScale\"},{\"attributes\":{\"fill_alpha\":{\"value\":0.2},\"fill_color\":{\"value\":\"#6d904f\"},\"line_alpha\":{\"value\":0.2},\"line_color\":{\"value\":\"#6d904f\"},\"size\":{\"value\":5.477225575051661},\"x\":{\"field\":\"TotalCoinsMined\"},\"y\":{\"field\":\"TotalCoinSupply\"}},\"id\":\"1289\",\"type\":\"Scatter\"},{\"attributes\":{\"source\":{\"id\":\"1238\"}},\"id\":\"1245\",\"type\":\"CDSView\"},{\"attributes\":{\"axis\":{\"id\":\"1190\"},\"grid_line_color\":null,\"ticker\":null},\"id\":\"1193\",\"type\":\"Grid\"},{\"attributes\":{\"end\":1.1,\"reset_end\":1.1,\"reset_start\":-0.1,\"start\":-0.1,\"tags\":[[[\"TotalCoinSupply\",\"TotalCoinSupply\",null]]]},\"id\":\"1176\",\"type\":\"Range1d\"},{\"attributes\":{},\"id\":\"1188\",\"type\":\"LinearScale\"},{\"attributes\":{\"data_source\":{\"id\":\"1284\"},\"glyph\":{\"id\":\"1287\"},\"hover_glyph\":null,\"muted_glyph\":{\"id\":\"1289\"},\"nonselection_glyph\":{\"id\":\"1288\"},\"selection_glyph\":{\"id\":\"1309\"},\"view\":{\"id\":\"1291\"}},\"id\":\"1290\",\"type\":\"GlyphRenderer\"},{\"attributes\":{\"axis_label\":\"TotalCoinSupply\",\"formatter\":{\"id\":\"1214\"},\"major_label_policy\":{\"id\":\"1216\"},\"ticker\":{\"id\":\"1195\"}},\"id\":\"1194\",\"type\":\"LinearAxis\"},{\"attributes\":{\"axis_label\":\"TotalCoinsMined\",\"formatter\":{\"id\":\"1211\"},\"major_label_policy\":{\"id\":\"1213\"},\"ticker\":{\"id\":\"1191\"}},\"id\":\"1190\",\"type\":\"LinearAxis\"},{\"attributes\":{\"data_source\":{\"id\":\"1260\"},\"glyph\":{\"id\":\"1263\"},\"hover_glyph\":null,\"muted_glyph\":{\"id\":\"1265\"},\"nonselection_glyph\":{\"id\":\"1264\"},\"selection_glyph\":{\"id\":\"1283\"},\"view\":{\"id\":\"1267\"}},\"id\":\"1266\",\"type\":\"GlyphRenderer\"},{\"attributes\":{},\"id\":\"1195\",\"type\":\"BasicTicker\"}],\"root_ids\":[\"1173\"]},\"title\":\"Bokeh Application\",\"version\":\"2.3.2\"}};\n",
              "    var render_items = [{\"docid\":\"d01225d3-5602-4b87-b0a7-b085083f3f18\",\"root_ids\":[\"1173\"],\"roots\":{\"1173\":\"b22be870-9eb1-42ef-bf83-87b7648a57b5\"}}];\n",
              "    root.Bokeh.embed.embed_items_notebook(docs_json, render_items);\n",
              "  }\n",
              "  if (root.Bokeh !== undefined && root.Bokeh.Panel !== undefined) {\n",
              "    embed_document(root);\n",
              "  } else {\n",
              "    var attempts = 0;\n",
              "    var timer = setInterval(function(root) {\n",
              "      if (root.Bokeh !== undefined && root.Bokeh.Panel !== undefined) {\n",
              "        clearInterval(timer);\n",
              "        embed_document(root);\n",
              "      } else if (document.readyState == \"complete\") {\n",
              "        attempts++;\n",
              "        if (attempts > 200) {\n",
              "          clearInterval(timer);\n",
              "          console.log(\"Bokeh: ERROR: Unable to run BokehJS code because BokehJS library is missing\");\n",
              "        }\n",
              "      }\n",
              "    }, 25, root)\n",
              "  }\n",
              "})(window);</script>"
            ]
          },
          "metadata": {
            "application/vnd.holoviews_exec.v0+json": {
              "id": "1173"
            }
          },
          "execution_count": 25
        }
      ],
      "metadata": {
        "id": "bN40NNv1jTSH"
      }
    },
    {
      "cell_type": "code",
      "execution_count": null,
      "source": [],
      "outputs": [],
      "metadata": {
        "id": "L_x-yONrjTSI"
      }
    }
  ]
}